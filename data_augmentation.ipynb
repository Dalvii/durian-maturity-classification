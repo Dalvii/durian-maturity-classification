{
 "cells": [
  {
   "cell_type": "code",
   "execution_count": 4,
   "id": "b433d42b",
   "metadata": {},
   "outputs": [],
   "source": [
    "import os\n",
    "from pathlib import Path\n",
    "\n",
    "from tqdm import tqdm\n",
    "import warnings\n",
    "import re\n",
    "import librosa\n",
    "from audiomentations import Compose, AddGaussianNoise, TimeStretch, PitchShift, Shift"
   ]
  },
  {
   "cell_type": "code",
   "execution_count": 2,
   "id": "ac7e35c9",
   "metadata": {},
   "outputs": [],
   "source": [
    "import soundfile as sf"
   ]
  },
  {
   "cell_type": "code",
   "execution_count": 15,
   "id": "a9b14934",
   "metadata": {},
   "outputs": [
    {
     "name": "stdout",
     "output_type": "stream",
     "text": [
      "./AUDIO_DATA/20240929_023338_Dona_75-85%output.wav ./AUDIO_DATA/20240929_023344_Dona_75-85%output.wav ./AUDIO_DATA/20240929_023348_Dona_75-85%output.wav ./AUDIO_DATA/20240929_023353_Dona_75-85%output.wav ./AUDIO_DATA/20240929_023359_Dona_75-85%output.wav ./AUDIO_DATA/20240929_023409_Dona_75-85%output.wav ./AUDIO_DATA/20240929_023414_Dona_75-85%output.wav ./AUDIO_DATA/20240929_023418_Dona_75-85%output.wav ./AUDIO_DATA/20240929_023426_Dona_75-85%output.wav ./AUDIO_DATA/20240929_023431_Dona_75-85%output.wav ./AUDIO_DATA/20240929_023435_Dona_75-85%output.wav ./AUDIO_DATA/20240929_023439_Dona_75-85%output.wav ./AUDIO_DATA/20240929_023443_Dona_75-85%output.wav ./AUDIO_DATA/20240929_023447_Dona_75-85%output.wav ./AUDIO_DATA/20240929_023501_Dona_75-85%output.wav ./AUDIO_DATA/20240929_023505_Dona_75-85%output.wav ./AUDIO_DATA/20240929_023509_Dona_75-85%output.wav ./AUDIO_DATA/20240929_023513_Dona_75-85%output.wav ./AUDIO_DATA/20240929_023517_Dona_75-85%output.wav ./AUDIO_DATA/20240929_023521_Dona_75-85%output.wav ./AUDIO_DATA/20240929_023541_Dona_95-Ripeoutput.wav ./AUDIO_DATA/20240929_023702_Dona_95-Ripeoutput.wav ./AUDIO_DATA/20240929_023705_Dona_95-Ripeoutput.wav ./AUDIO_DATA/20240929_023710_Dona_95-Ripeoutput.wav ./AUDIO_DATA/20240929_023713_Dona_95-Ripeoutput.wav ./AUDIO_DATA/20240929_023718_Dona_95-Ripeoutput.wav ./AUDIO_DATA/20240929_023721_Dona_95-Ripeoutput.wav ./AUDIO_DATA/20240929_023726_Dona_95-Ripeoutput.wav ./AUDIO_DATA/20240929_023730_Dona_95-Ripeoutput.wav ./AUDIO_DATA/20240929_023734_Dona_95-Ripeoutput.wav ./AUDIO_DATA/20240929_023738_Dona_95-Ripeoutput.wav ./AUDIO_DATA/20240929_023742_Dona_95-Ripeoutput.wav ./AUDIO_DATA/20240929_023751_Dona_95-Ripeoutput.wav ./AUDIO_DATA/20240929_023758_Dona_95-Ripeoutput.wav ./AUDIO_DATA/20240929_023807_Dona_95-Ripeoutput.wav ./AUDIO_DATA/20240929_023811_Dona_95-Ripeoutput.wav ./AUDIO_DATA/20240929_023815_Dona_95-Ripeoutput.wav ./AUDIO_DATA/20240929_023820_Dona_95-Ripeoutput.wav ./AUDIO_DATA/20240929_023823_Dona_95-Ripeoutput.wav ./AUDIO_DATA/20240929_023827_Dona_95-Ripeoutput.wav ./AUDIO_DATA/20240929_023832_Dona_95-Ripeoutput.wav ./AUDIO_DATA/20240929_023835_Dona_95-Ripeoutput.wav ./AUDIO_DATA/20240929_023839_Dona_95-Ripeoutput.wav ./AUDIO_DATA/20240929_023843_Dona_95-Ripeoutput.wav ./AUDIO_DATA/20240929_023858_Dona_95-Ripeoutput.wav ./AUDIO_DATA/20240929_023901_Dona_95-Ripeoutput.wav ./AUDIO_DATA/20240929_023906_Dona_95-Ripeoutput.wav ./AUDIO_DATA/20240929_023911_Dona_95-Ripeoutput.wav ./AUDIO_DATA/20240929_023915_Dona_95-Ripeoutput.wav ./AUDIO_DATA/20240929_023919_Dona_95-Ripeoutput.wav ./AUDIO_DATA/20240929_023923_Dona_95-Ripeoutput.wav ./AUDIO_DATA/20240929_023926_Dona_95-Ripeoutput.wav ./AUDIO_DATA/20240929_023934_Dona_95-Ripeoutput.wav ./AUDIO_DATA/20240929_023938_Dona_95-Ripeoutput.wav ./AUDIO_DATA/20240929_023942_Dona_95-Ripeoutput.wav ./AUDIO_DATA/20240929_023957_Dona_75-85%output.wav ./AUDIO_DATA/20240929_024001_Dona_75-85%output.wav ./AUDIO_DATA/20240929_024005_Dona_75-85%output.wav ./AUDIO_DATA/20240929_024010_Dona_75-85%output.wav ./AUDIO_DATA/20240929_024014_Dona_75-85%output.wav ./AUDIO_DATA/20240929_024017_Dona_75-85%output.wav ./AUDIO_DATA/20240929_024027_Dona_75-85%output.wav ./AUDIO_DATA/20240929_024030_Dona_75-85%output.wav ./AUDIO_DATA/20240929_024034_Dona_75-85%output.wav ./AUDIO_DATA/20240929_024039_Dona_75-85%output.wav ./AUDIO_DATA/20240929_024309_Dona_95-Ripeoutput.wav ./AUDIO_DATA/20240929_024314_Dona_95-Ripeoutput.wav ./AUDIO_DATA/20240929_024318_Dona_95-Ripeoutput.wav ./AUDIO_DATA/20240929_024321_Dona_95-Ripeoutput.wav ./AUDIO_DATA/20240929_024325_Dona_95-Ripeoutput.wav ./AUDIO_DATA/20240929_024329_Dona_95-Ripeoutput.wav ./AUDIO_DATA/20240929_024333_Dona_95-Ripeoutput.wav ./AUDIO_DATA/20240929_024341_Dona_95-Ripeoutput.wav ./AUDIO_DATA/20240929_024345_Dona_95-Ripeoutput.wav ./AUDIO_DATA/20240929_024358_Dona_75-85%output.wav ./AUDIO_DATA/20240929_024402_Dona_75-85%output.wav ./AUDIO_DATA/20240929_024406_Dona_75-85%output.wav ./AUDIO_DATA/20240929_024410_Dona_75-85%output.wav ./AUDIO_DATA/20240929_024413_Dona_75-85%output.wav ./AUDIO_DATA/20240929_024419_Dona_75-85%output.wav ./AUDIO_DATA/20240929_024422_Dona_75-85%output.wav ./AUDIO_DATA/20240929_024426_Dona_75-85%output.wav ./AUDIO_DATA/20240929_024435_Dona_95-Ripeoutput.wav ./AUDIO_DATA/20240929_024443_Dona_95-Ripeoutput.wav ./AUDIO_DATA/20240929_024446_Dona_95-Ripeoutput.wav ./AUDIO_DATA/20240929_024459_Dona_75-85%output.wav ./AUDIO_DATA/20240929_024503_Dona_75-85%output.wav ./AUDIO_DATA/20240929_024506_Dona_75-85%output.wav ./AUDIO_DATA/20240929_024510_Dona_75-85%output.wav ./AUDIO_DATA/20240929_024513_Dona_75-85%output.wav ./AUDIO_DATA/20240929_024517_Dona_75-85%output.wav ./AUDIO_DATA/20240929_024521_Dona_75-85%output.wav\n"
     ]
    }
   ],
   "source": [
    "\n",
    "AUDIO_PATH = \"./AUDIO_DATA\"\n",
    "AUDIO_LIST = list(map(lambda x: f\"{AUDIO_PATH}/{x}\", sorted(os.listdir(AUDIO_PATH))))\n",
    "print(*AUDIO_LIST)"
   ]
  },
  {
   "cell_type": "code",
   "execution_count": 5,
   "id": "03b5548c",
   "metadata": {},
   "outputs": [],
   "source": [
    "warnings.filterwarnings(\"ignore\", category=FutureWarning)\n",
    "warnings.filterwarnings(\"ignore\", message=\"PySoundFile failed.*\")\n",
    "\n",
    "audiosdir = AUDIO_PATH\n",
    "\n",
    "audios_75_85 = []\n",
    "audios_95 = []\n",
    "\n",
    "def tri_audio(audio_name):\n",
    "  if(audio_name not in [*audios_75_85,*audios_95]):\n",
    "    try:\n",
    "      if(re.split('_|%',audio_name)[3] == \"75-85\"):\n",
    "        audios_75_85.append(audio_name)\n",
    "      else:\n",
    "        audios_95.append(audio_name)\n",
    "    except :\n",
    "      print(audio_name)\n",
    "for i in sorted(os.listdir(audiosdir)):\n",
    "  tri_audio(i)\n"
   ]
  },
  {
   "cell_type": "code",
   "execution_count": 16,
   "id": "f89938e5",
   "metadata": {},
   "outputs": [],
   "source": [
    "def load_audio(file_name, audio_path=audiosdir):\n",
    "    full_path = os.path.join(audio_path, file_name)\n",
    "    y, sr = librosa.load(full_path, sr=None)\n",
    "    return y, sr"
   ]
  },
  {
   "cell_type": "code",
   "execution_count": 26,
   "id": "d8741f73",
   "metadata": {},
   "outputs": [],
   "source": [
    "path_good = sorted(Path(\"AUDIO_DATA\").glob(\"*75-85%output.wav\"))\n",
    "path_bad = sorted(Path(\"AUDIO_DATA\").glob(\"*95%output.wav\"))\n",
    "\n",
    "for p in [*path_good, *path_bad]:\n",
    "    if not p.is_file():\n",
    "        print(f\"{p} NOT FOUND\")"
   ]
  },
  {
   "cell_type": "code",
   "execution_count": 28,
   "id": "217860c2",
   "metadata": {},
   "outputs": [],
   "source": [
    "augment = Compose([\n",
    "    AddGaussianNoise(min_amplitude=0.001, max_amplitude=0.015, p=0.5),\n",
    "    TimeStretch(min_rate=0.9, max_rate=1.1, p=0.5),\n",
    "    PitchShift(min_semitones=-1, max_semitones=1, p=0.5),\n",
    "    Shift(min_shift=-0.1, max_shift=0.1, p=0.5)\n",
    "])"
   ]
  },
  {
   "cell_type": "code",
   "execution_count": 29,
   "id": "d2096c5c",
   "metadata": {},
   "outputs": [],
   "source": [
    "out_path: str = \"augmented_train_dataset\""
   ]
  },
  {
   "cell_type": "code",
   "execution_count": 30,
   "id": "ee8b655b",
   "metadata": {},
   "outputs": [],
   "source": [
    "!mkdir {out_path}"
   ]
  },
  {
   "cell_type": "code",
   "execution_count": 7,
   "id": "d9da7125",
   "metadata": {},
   "outputs": [
    {
     "name": "stderr",
     "output_type": "stream",
     "text": [
      "C:\\Users\\antoi\\AppData\\Local\\Temp\\ipykernel_23524\\2964873680.py:3: UserWarning: PySoundFile failed. Trying audioread instead.\n",
      "  for file_name, (wave, sr) in tqdm ([(Path(audio_path).name, librosa.load(audio_path)) for audio_path in audio_paths]): #type: ignore\n",
      "c:\\Users\\antoi\\Documents\\GitHub\\durian-maturity-classification\\.venv\\Lib\\site-packages\\librosa\\core\\audio.py:183: FutureWarning: librosa.core.audio.__audioread_load\n",
      "\tDeprecated as of librosa version 0.10.0.\n",
      "\tIt will be removed in librosa version 1.0.\n",
      "  y, sr_native = __audioread_load(path, offset, duration, dtype)\n",
      "C:\\Users\\antoi\\AppData\\Local\\Temp\\ipykernel_23524\\2964873680.py:3: UserWarning: PySoundFile failed. Trying audioread instead.\n",
      "  for file_name, (wave, sr) in tqdm ([(Path(audio_path).name, librosa.load(audio_path)) for audio_path in audio_paths]): #type: ignore\n",
      "c:\\Users\\antoi\\Documents\\GitHub\\durian-maturity-classification\\.venv\\Lib\\site-packages\\librosa\\core\\audio.py:183: FutureWarning: librosa.core.audio.__audioread_load\n",
      "\tDeprecated as of librosa version 0.10.0.\n",
      "\tIt will be removed in librosa version 1.0.\n",
      "  y, sr_native = __audioread_load(path, offset, duration, dtype)\n",
      "100%|██████████| 92/92 [00:09<00:00,  9.98it/s]\n"
     ]
    }
   ],
   "source": [
    "nb_copies = 5\n",
    "\n",
    "for file_name, (wave, sr) in tqdm ([(Path(audio_path).name, librosa.load(audio_path)) for audio_path in audio_paths]): #type: ignore\n",
    "    sr: int\n",
    "    for nb in range(nb_copies):\n",
    "        wave_aug = augment(samples=wave, sample_rate=sr)\n",
    "        out = os.path.join(out_path, f\"{file_name}_aug{nb}.wav\")\n",
    "        sf.write(out, wave_aug, sr)\n",
    "        "
   ]
  }
 ],
 "metadata": {
  "kernelspec": {
   "display_name": ".venv",
   "language": "python",
   "name": "python3"
  },
  "language_info": {
   "codemirror_mode": {
    "name": "ipython",
    "version": 3
   },
   "file_extension": ".py",
   "mimetype": "text/x-python",
   "name": "python",
   "nbconvert_exporter": "python",
   "pygments_lexer": "ipython3",
   "version": "3.12.0"
  }
 },
 "nbformat": 4,
 "nbformat_minor": 5
}
