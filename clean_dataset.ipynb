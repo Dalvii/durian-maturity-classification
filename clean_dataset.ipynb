{
 "cells": [
  {
   "cell_type": "code",
   "execution_count": null,
   "id": "4d9f8c2e",
   "metadata": {},
   "outputs": [],
   "source": [
    "import os"
   ]
  },
  {
   "cell_type": "code",
   "execution_count": 2,
   "id": "13157ffa",
   "metadata": {},
   "outputs": [
    {
     "name": "stdout",
     "output_type": "stream",
     "text": [
      "AUDIO_DATA/20240929_023338_Dona_75-85%output.wav AUDIO_DATA/20240929_023344_Dona_75-85%output.wav AUDIO_DATA/20240929_023348_Dona_75-85%output.wav AUDIO_DATA/20240929_023353_Dona_75-85%output.wav AUDIO_DATA/20240929_023359_Dona_75-85%output.wav AUDIO_DATA/20240929_023409_Dona_75-85%output.wav AUDIO_DATA/20240929_023414_Dona_75-85%output.wav AUDIO_DATA/20240929_023418_Dona_75-85%output.wav AUDIO_DATA/20240929_023426_Dona_75-85%output.wav AUDIO_DATA/20240929_023431_Dona_75-85%output.wav AUDIO_DATA/20240929_023435_Dona_75-85%output.wav AUDIO_DATA/20240929_023439_Dona_75-85%output.wav AUDIO_DATA/20240929_023443_Dona_75-85%output.wav AUDIO_DATA/20240929_023447_Dona_75-85%output.wav AUDIO_DATA/20240929_023501_Dona_75-85%output.wav AUDIO_DATA/20240929_023505_Dona_75-85%output.wav AUDIO_DATA/20240929_023509_Dona_75-85%output.wav AUDIO_DATA/20240929_023513_Dona_75-85%output.wav AUDIO_DATA/20240929_023517_Dona_75-85%output.wav AUDIO_DATA/20240929_023521_Dona_75-85%output.wav AUDIO_DATA/20240929_023541_Dona_95-Ripeoutput.wav AUDIO_DATA/20240929_023702_Dona_95-Ripeoutput.wav AUDIO_DATA/20240929_023705_Dona_95-Ripeoutput.wav AUDIO_DATA/20240929_023710_Dona_95-Ripeoutput.wav AUDIO_DATA/20240929_023713_Dona_95-Ripeoutput.wav AUDIO_DATA/20240929_023718_Dona_95-Ripeoutput.wav AUDIO_DATA/20240929_023721_Dona_95-Ripeoutput.wav AUDIO_DATA/20240929_023726_Dona_95-Ripeoutput.wav AUDIO_DATA/20240929_023730_Dona_95-Ripeoutput.wav AUDIO_DATA/20240929_023734_Dona_95-Ripeoutput.wav AUDIO_DATA/20240929_023738_Dona_95-Ripeoutput.wav AUDIO_DATA/20240929_023742_Dona_95-Ripeoutput.wav AUDIO_DATA/20240929_023751_Dona_95-Ripeoutput.wav AUDIO_DATA/20240929_023758_Dona_95-Ripeoutput.wav AUDIO_DATA/20240929_023807_Dona_95-Ripeoutput.wav AUDIO_DATA/20240929_023811_Dona_95-Ripeoutput.wav AUDIO_DATA/20240929_023815_Dona_95-Ripeoutput.wav AUDIO_DATA/20240929_023820_Dona_95-Ripeoutput.wav AUDIO_DATA/20240929_023823_Dona_95-Ripeoutput.wav AUDIO_DATA/20240929_023827_Dona_95-Ripeoutput.wav AUDIO_DATA/20240929_023832_Dona_95-Ripeoutput.wav AUDIO_DATA/20240929_023835_Dona_95-Ripeoutput.wav AUDIO_DATA/20240929_023839_Dona_95-Ripeoutput.wav AUDIO_DATA/20240929_023843_Dona_95-Ripeoutput.wav AUDIO_DATA/20240929_023858_Dona_95-Ripeoutput.wav AUDIO_DATA/20240929_023901_Dona_95-Ripeoutput.wav AUDIO_DATA/20240929_023906_Dona_95-Ripeoutput.wav AUDIO_DATA/20240929_023911_Dona_95-Ripeoutput.wav AUDIO_DATA/20240929_023915_Dona_95-Ripeoutput.wav AUDIO_DATA/20240929_023919_Dona_95-Ripeoutput.wav AUDIO_DATA/20240929_023923_Dona_95-Ripeoutput.wav AUDIO_DATA/20240929_023926_Dona_95-Ripeoutput.wav AUDIO_DATA/20240929_023934_Dona_95-Ripeoutput.wav AUDIO_DATA/20240929_023938_Dona_95-Ripeoutput.wav AUDIO_DATA/20240929_023942_Dona_95-Ripeoutput.wav AUDIO_DATA/20240929_023957_Dona_75-85%output.wav AUDIO_DATA/20240929_024001_Dona_75-85%output.wav AUDIO_DATA/20240929_024005_Dona_75-85%output.wav AUDIO_DATA/20240929_024010_Dona_75-85%output.wav AUDIO_DATA/20240929_024014_Dona_75-85%output.wav AUDIO_DATA/20240929_024017_Dona_75-85%output.wav AUDIO_DATA/20240929_024027_Dona_75-85%output.wav AUDIO_DATA/20240929_024030_Dona_75-85%output.wav AUDIO_DATA/20240929_024034_Dona_75-85%output.wav AUDIO_DATA/20240929_024039_Dona_75-85%output.wav AUDIO_DATA/20240929_024309_Dona_95-Ripeoutput.wav AUDIO_DATA/20240929_024314_Dona_95-Ripeoutput.wav AUDIO_DATA/20240929_024318_Dona_95-Ripeoutput.wav AUDIO_DATA/20240929_024321_Dona_95-Ripeoutput.wav AUDIO_DATA/20240929_024325_Dona_95-Ripeoutput.wav AUDIO_DATA/20240929_024329_Dona_95-Ripeoutput.wav AUDIO_DATA/20240929_024333_Dona_95-Ripeoutput.wav AUDIO_DATA/20240929_024341_Dona_95-Ripeoutput.wav AUDIO_DATA/20240929_024345_Dona_95-Ripeoutput.wav AUDIO_DATA/20240929_024358_Dona_75-85%output.wav AUDIO_DATA/20240929_024402_Dona_75-85%output.wav AUDIO_DATA/20240929_024406_Dona_75-85%output.wav AUDIO_DATA/20240929_024410_Dona_75-85%output.wav AUDIO_DATA/20240929_024413_Dona_75-85%output.wav AUDIO_DATA/20240929_024419_Dona_75-85%output.wav AUDIO_DATA/20240929_024422_Dona_75-85%output.wav AUDIO_DATA/20240929_024426_Dona_75-85%output.wav AUDIO_DATA/20240929_024435_Dona_95-Ripeoutput.wav AUDIO_DATA/20240929_024443_Dona_95-Ripeoutput.wav AUDIO_DATA/20240929_024446_Dona_95-Ripeoutput.wav AUDIO_DATA/20240929_024459_Dona_75-85%output.wav AUDIO_DATA/20240929_024503_Dona_75-85%output.wav AUDIO_DATA/20240929_024506_Dona_75-85%output.wav AUDIO_DATA/20240929_024510_Dona_75-85%output.wav AUDIO_DATA/20240929_024513_Dona_75-85%output.wav AUDIO_DATA/20240929_024517_Dona_75-85%output.wav AUDIO_DATA/20240929_024521_Dona_75-85%output.wav\n"
     ]
    }
   ],
   "source": [
    "AUDIO_PATH = \"AUDIO_DATA\"\n",
    "AUDIO_LIST = list(map(lambda x: f\"{AUDIO_PATH}/{x}\", sorted(os.listdir(AUDIO_PATH))))\n",
    "print(*AUDIO_LIST)"
   ]
  },
  {
   "cell_type": "markdown",
   "id": "548fd366",
   "metadata": {},
   "source": [
    "### Load audio model"
   ]
  },
  {
   "cell_type": "code",
   "execution_count": 6,
   "id": "f7e683a8",
   "metadata": {},
   "outputs": [],
   "source": [
    "from silero_vad import load_silero_vad, read_audio, get_speech_timestamps\n",
    "model = load_silero_vad()"
   ]
  },
  {
   "cell_type": "code",
   "execution_count": null,
   "id": "fb4802f9",
   "metadata": {},
   "outputs": [],
   "source": [
    "def get_timestamps_for(audio: str, model):\n",
    "    wav = read_audio(audio)\n",
    "    speech_timestamps = get_speech_timestamps(\n",
    "        wav,\n",
    "        model,\n",
    "        return_seconds=True, \n",
    "    )\n",
    "    return speech_timestamps"
   ]
  },
  {
   "cell_type": "markdown",
   "id": "43abff27",
   "metadata": {},
   "source": [
    "### Convert audios in standard wav format"
   ]
  },
  {
   "cell_type": "code",
   "execution_count": null,
   "id": "cd779fb1",
   "metadata": {},
   "outputs": [
    {
     "name": "stdout",
     "output_type": "stream",
     "text": [
      "^C\n"
     ]
    }
   ],
   "source": [
    "# for audio in AUDIO_LIST:\n",
    "#     !ffmpeg -i {audio} -acodec pcm_s16le -ar 44100 -ac 1 ./clean/{audio}"
   ]
  },
  {
   "cell_type": "code",
   "execution_count": 4,
   "id": "c892e8d7",
   "metadata": {},
   "outputs": [],
   "source": [
    "audio_paths  = list(map(lambda x: f\"clean/{AUDIO_PATH}/{x}\", sorted(os.listdir(AUDIO_PATH))))"
   ]
  },
  {
   "cell_type": "markdown",
   "id": "076bed53",
   "metadata": {},
   "source": [
    "### Search for human oral sounds within the dataset"
   ]
  },
  {
   "cell_type": "code",
   "execution_count": 9,
   "id": "653ff70f",
   "metadata": {},
   "outputs": [],
   "source": [
    "ts = [get_timestamps_for(audio, model) for audio in audio_paths]"
   ]
  },
  {
   "cell_type": "code",
   "execution_count": 13,
   "id": "5e963ef4",
   "metadata": {},
   "outputs": [],
   "source": [
    "bad_audios = [(i, t) for i, t in enumerate(ts) if t != []]"
   ]
  },
  {
   "cell_type": "markdown",
   "id": "cfc934fa",
   "metadata": {},
   "source": [
    "### Print bad audios and open them to listen if needed"
   ]
  },
  {
   "cell_type": "code",
   "execution_count": null,
   "id": "ab347429",
   "metadata": {},
   "outputs": [],
   "source": [
    "for index, _ in bad_audios:\n",
    "    !echo {audio_paths[index]}\n",
    "    !code {audio_paths[index]}"
   ]
  },
  {
   "cell_type": "markdown",
   "id": "6a7f861c",
   "metadata": {},
   "source": [
    "### Manually delete them if needed "
   ]
  },
  {
   "cell_type": "code",
   "execution_count": null,
   "id": "e3edd898",
   "metadata": {},
   "outputs": [],
   "source": [
    "!rm <filename>"
   ]
  }
 ],
 "metadata": {
  "kernelspec": {
   "display_name": ".venv",
   "language": "python",
   "name": "python3"
  },
  "language_info": {
   "codemirror_mode": {
    "name": "ipython",
    "version": 3
   },
   "file_extension": ".py",
   "mimetype": "text/x-python",
   "name": "python",
   "nbconvert_exporter": "python",
   "pygments_lexer": "ipython3",
   "version": "3.12.0"
  }
 },
 "nbformat": 4,
 "nbformat_minor": 5
}
