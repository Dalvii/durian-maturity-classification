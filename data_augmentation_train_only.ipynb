{
 "cells": [
  {
   "cell_type": "code",
   "execution_count": 52,
   "id": "ebd24d23",
   "metadata": {},
   "outputs": [],
   "source": [
    "first_run = False"
   ]
  },
  {
   "cell_type": "code",
   "execution_count": 53,
   "id": "b433d42b",
   "metadata": {},
   "outputs": [],
   "source": [
    "if first_run:\n",
    "    import os\n",
    "    from pathlib import Path\n",
    "    import torch\n",
    "    from tqdm import tqdm\n",
    "    import warnings\n",
    "    import re\n",
    "    import keras\n",
    "    import librosa\n",
    "    import tensorflow as tf\n",
    "    import numpy as np\n",
    "    from audiomentations import Compose, AddGaussianNoise, TimeStretch, PitchShift, Shift\n",
    "    import random\n",
    "    import soundfile as sf\n",
    "    import shutil"
   ]
  },
  {
   "cell_type": "markdown",
   "id": "02217a1f",
   "metadata": {},
   "source": [
    "### Use cuda acceleration (optional)"
   ]
  },
  {
   "cell_type": "code",
   "execution_count": 54,
   "id": "87e48947",
   "metadata": {},
   "outputs": [
    {
     "data": {
      "text/plain": [
       "'cpu'"
      ]
     },
     "execution_count": 54,
     "metadata": {},
     "output_type": "execute_result"
    }
   ],
   "source": [
    "device = \"cuda\" if torch.cuda.is_available() else \"cpu\"\n",
    "device"
   ]
  },
  {
   "cell_type": "markdown",
   "id": "13f2b28c",
   "metadata": {},
   "source": [
    "## Remove existing augmented data"
   ]
  },
  {
   "cell_type": "code",
   "execution_count": 55,
   "id": "7ef92323",
   "metadata": {},
   "outputs": [],
   "source": [
    "\n",
    "path = './AUDIO_DATA'\n",
    "\n",
    "if os.path.exists('./augmented_train_dataset'):\n",
    "    shutil.rmtree('./augmented_train_dataset')\n",
    "\n",
    "if os.path.exists('./augmented_test_dataset'):\n",
    "    shutil.rmtree('./augmented_test_dataset')"
   ]
  },
  {
   "cell_type": "markdown",
   "id": "62924dbd",
   "metadata": {},
   "source": [
    "### Link your google drive storage if you are working on google colab (optional)  "
   ]
  },
  {
   "cell_type": "code",
   "execution_count": 56,
   "id": "44664c23",
   "metadata": {},
   "outputs": [],
   "source": [
    "# path = '<your google drive path>'\n",
    "# from google.colab import drive\n",
    "# drive.mount('/content/drive')\n",
    "# %cd /content/drive/MyDrive/DurianAudios"
   ]
  },
  {
   "cell_type": "code",
   "execution_count": 57,
   "id": "3e94f577",
   "metadata": {},
   "outputs": [],
   "source": [
    "# seed = 41\n",
    "# random.seed(seed), np.random.seed(seed), tf.random.set_seed(seed)"
   ]
  },
  {
   "cell_type": "code",
   "execution_count": 58,
   "id": "a9b14934",
   "metadata": {},
   "outputs": [
    {
     "name": "stdout",
     "output_type": "stream",
     "text": [
      "AUDIO_DATA\\20240929_023338_Dona_75-85%output.wav AUDIO_DATA\\20240929_023344_Dona_75-85%output.wav AUDIO_DATA\\20240929_023348_Dona_75-85%output.wav AUDIO_DATA\\20240929_023353_Dona_75-85%output.wav AUDIO_DATA\\20240929_023359_Dona_75-85%output.wav AUDIO_DATA\\20240929_023409_Dona_75-85%output.wav AUDIO_DATA\\20240929_023414_Dona_75-85%output.wav AUDIO_DATA\\20240929_023418_Dona_75-85%output.wav AUDIO_DATA\\20240929_023426_Dona_75-85%output.wav AUDIO_DATA\\20240929_023431_Dona_75-85%output.wav AUDIO_DATA\\20240929_023435_Dona_75-85%output.wav AUDIO_DATA\\20240929_023439_Dona_75-85%output.wav AUDIO_DATA\\20240929_023443_Dona_75-85%output.wav AUDIO_DATA\\20240929_023447_Dona_75-85%output.wav AUDIO_DATA\\20240929_023501_Dona_75-85%output.wav AUDIO_DATA\\20240929_023505_Dona_75-85%output.wav AUDIO_DATA\\20240929_023509_Dona_75-85%output.wav AUDIO_DATA\\20240929_023513_Dona_75-85%output.wav AUDIO_DATA\\20240929_023517_Dona_75-85%output.wav AUDIO_DATA\\20240929_023521_Dona_75-85%output.wav AUDIO_DATA\\20240929_023541_Dona_95-Ripeoutput.wav AUDIO_DATA\\20240929_023702_Dona_95-Ripeoutput.wav AUDIO_DATA\\20240929_023705_Dona_95-Ripeoutput.wav AUDIO_DATA\\20240929_023710_Dona_95-Ripeoutput.wav AUDIO_DATA\\20240929_023713_Dona_95-Ripeoutput.wav AUDIO_DATA\\20240929_023718_Dona_95-Ripeoutput.wav AUDIO_DATA\\20240929_023721_Dona_95-Ripeoutput.wav AUDIO_DATA\\20240929_023726_Dona_95-Ripeoutput.wav AUDIO_DATA\\20240929_023730_Dona_95-Ripeoutput.wav AUDIO_DATA\\20240929_023734_Dona_95-Ripeoutput.wav AUDIO_DATA\\20240929_023738_Dona_95-Ripeoutput.wav AUDIO_DATA\\20240929_023742_Dona_95-Ripeoutput.wav AUDIO_DATA\\20240929_023751_Dona_95-Ripeoutput.wav AUDIO_DATA\\20240929_023758_Dona_95-Ripeoutput.wav AUDIO_DATA\\20240929_023807_Dona_95-Ripeoutput.wav AUDIO_DATA\\20240929_023811_Dona_95-Ripeoutput.wav AUDIO_DATA\\20240929_023815_Dona_95-Ripeoutput.wav AUDIO_DATA\\20240929_023820_Dona_95-Ripeoutput.wav AUDIO_DATA\\20240929_023823_Dona_95-Ripeoutput.wav AUDIO_DATA\\20240929_023827_Dona_95-Ripeoutput.wav AUDIO_DATA\\20240929_023832_Dona_95-Ripeoutput.wav AUDIO_DATA\\20240929_023835_Dona_95-Ripeoutput.wav AUDIO_DATA\\20240929_023839_Dona_95-Ripeoutput.wav AUDIO_DATA\\20240929_023843_Dona_95-Ripeoutput.wav AUDIO_DATA\\20240929_023858_Dona_95-Ripeoutput.wav AUDIO_DATA\\20240929_023901_Dona_95-Ripeoutput.wav AUDIO_DATA\\20240929_023906_Dona_95-Ripeoutput.wav AUDIO_DATA\\20240929_023911_Dona_95-Ripeoutput.wav AUDIO_DATA\\20240929_023915_Dona_95-Ripeoutput.wav AUDIO_DATA\\20240929_023919_Dona_95-Ripeoutput.wav AUDIO_DATA\\20240929_023923_Dona_95-Ripeoutput.wav AUDIO_DATA\\20240929_023926_Dona_95-Ripeoutput.wav AUDIO_DATA\\20240929_023934_Dona_95-Ripeoutput.wav AUDIO_DATA\\20240929_023938_Dona_95-Ripeoutput.wav AUDIO_DATA\\20240929_023942_Dona_95-Ripeoutput.wav AUDIO_DATA\\20240929_023957_Dona_75-85%output.wav AUDIO_DATA\\20240929_024001_Dona_75-85%output.wav AUDIO_DATA\\20240929_024005_Dona_75-85%output.wav AUDIO_DATA\\20240929_024010_Dona_75-85%output.wav AUDIO_DATA\\20240929_024014_Dona_75-85%output.wav AUDIO_DATA\\20240929_024017_Dona_75-85%output.wav AUDIO_DATA\\20240929_024027_Dona_75-85%output.wav AUDIO_DATA\\20240929_024030_Dona_75-85%output.wav AUDIO_DATA\\20240929_024034_Dona_75-85%output.wav AUDIO_DATA\\20240929_024039_Dona_75-85%output.wav AUDIO_DATA\\20240929_024309_Dona_95-Ripeoutput.wav AUDIO_DATA\\20240929_024314_Dona_95-Ripeoutput.wav AUDIO_DATA\\20240929_024318_Dona_95-Ripeoutput.wav AUDIO_DATA\\20240929_024321_Dona_95-Ripeoutput.wav AUDIO_DATA\\20240929_024325_Dona_95-Ripeoutput.wav AUDIO_DATA\\20240929_024329_Dona_95-Ripeoutput.wav AUDIO_DATA\\20240929_024333_Dona_95-Ripeoutput.wav AUDIO_DATA\\20240929_024341_Dona_95-Ripeoutput.wav AUDIO_DATA\\20240929_024345_Dona_95-Ripeoutput.wav AUDIO_DATA\\20240929_024358_Dona_75-85%output.wav AUDIO_DATA\\20240929_024402_Dona_75-85%output.wav AUDIO_DATA\\20240929_024406_Dona_75-85%output.wav AUDIO_DATA\\20240929_024410_Dona_75-85%output.wav AUDIO_DATA\\20240929_024413_Dona_75-85%output.wav AUDIO_DATA\\20240929_024419_Dona_75-85%output.wav AUDIO_DATA\\20240929_024422_Dona_75-85%output.wav AUDIO_DATA\\20240929_024426_Dona_75-85%output.wav AUDIO_DATA\\20240929_024435_Dona_95-Ripeoutput.wav AUDIO_DATA\\20240929_024443_Dona_95-Ripeoutput.wav AUDIO_DATA\\20240929_024446_Dona_95-Ripeoutput.wav AUDIO_DATA\\20240929_024459_Dona_75-85%output.wav AUDIO_DATA\\20240929_024503_Dona_75-85%output.wav AUDIO_DATA\\20240929_024506_Dona_75-85%output.wav AUDIO_DATA\\20240929_024510_Dona_75-85%output.wav AUDIO_DATA\\20240929_024513_Dona_75-85%output.wav AUDIO_DATA\\20240929_024517_Dona_75-85%output.wav AUDIO_DATA\\20240929_024521_Dona_75-85%output.wav\n"
     ]
    }
   ],
   "source": [
    "AUDIO_PATH = Path(\"./AUDIO_DATA\")\n",
    "assert AUDIO_PATH.exists(), f\"Audio path {AUDIO_PATH} does not exist.\"\n",
    "AUDIO_LIST = list(AUDIO_PATH.glob(\"*\"))\n",
    "print(*AUDIO_LIST)"
   ]
  },
  {
   "cell_type": "markdown",
   "id": "2973d221",
   "metadata": {},
   "source": [
    "## Filter audios by label"
   ]
  },
  {
   "cell_type": "code",
   "execution_count": 59,
   "id": "03b5548c",
   "metadata": {},
   "outputs": [
    {
     "data": {
      "text/plain": [
       "(45, 47)"
      ]
     },
     "execution_count": 59,
     "metadata": {},
     "output_type": "execute_result"
    }
   ],
   "source": [
    "warnings.filterwarnings(\"ignore\", category=FutureWarning)\n",
    "warnings.filterwarnings(\"ignore\", message=\"PySoundFile failed.*\")\n",
    "\n",
    "audios_75_85: list[Path] = []\n",
    "audios_95: list[Path] = []\n",
    "\n",
    "def tri_audio(audio: Path):\n",
    "  if(audio.name not in [*audios_75_85,*audios_95]):\n",
    "    try:\n",
    "      if(re.split('_|%',audio.name)[3] == \"75-85\"):\n",
    "        audios_75_85.append(audio)\n",
    "      else:\n",
    "        audios_95.append(audio)\n",
    "    except:\n",
    "      print(audio.name)\n",
    "for i in sorted(AUDIO_LIST):\n",
    "  tri_audio(i)\n",
    "\n",
    "len(audios_75_85), len(audios_95)"
   ]
  },
  {
   "cell_type": "code",
   "execution_count": 60,
   "id": "07faf3b0",
   "metadata": {},
   "outputs": [
    {
     "name": "stdout",
     "output_type": "stream",
     "text": [
      "73 training files and 19 testing files.\n"
     ]
    }
   ],
   "source": [
    "from sklearn.model_selection import train_test_split\n",
    "\n",
    "# Séparer la liste AUDIO_LIST en train et test avant toute data augmentation\n",
    "train_files, test_files = train_test_split(audios_95 + audios_75_85, test_size=0.2, random_state=42, shuffle=True)\n",
    "# train_files_2, test_files_2 = train_test_split(audios_75_85, test_size=0.2, random_state=42, shuffle=True)\n",
    "\n",
    "# train_files = train_files_1 + train_files_2\n",
    "# random.shuffle(train_files)\n",
    "# test_files = test_files_1 + test_files_2\n",
    "print(f\"{len(train_files)} training files and {len(test_files)} testing files.\")"
   ]
  },
  {
   "cell_type": "code",
   "execution_count": 61,
   "id": "4f606e7b",
   "metadata": {},
   "outputs": [],
   "source": [
    "train_files = [Path(i) for i in train_files]\n",
    "test_files = [Path(i) for i in test_files]\n",
    "assert False not in [i.exists() for i in train_files], \"Some training files do not exist.\"\n",
    "assert False not in [i.exists() for i in test_files], \"Some testing files do not exist.\""
   ]
  },
  {
   "cell_type": "code",
   "execution_count": 62,
   "id": "ce5c94f7",
   "metadata": {},
   "outputs": [
    {
     "data": {
      "text/plain": [
       "(35, 38)"
      ]
     },
     "execution_count": 62,
     "metadata": {},
     "output_type": "execute_result"
    }
   ],
   "source": [
    "len([f for f in train_files if \"95\" in f.name]), len([f for f in train_files if \"75-85\" in f.name])"
   ]
  },
  {
   "cell_type": "markdown",
   "id": "08ee8334",
   "metadata": {},
   "source": [
    "# **2. Data Augmentation**\n",
    "---"
   ]
  },
  {
   "cell_type": "code",
   "execution_count": 63,
   "id": "217860c2",
   "metadata": {},
   "outputs": [],
   "source": [
    "augment = [\n",
    "    AddGaussianNoise(min_amplitude=0.000001, max_amplitude=0.00001, p=0.5),\n",
    "    TimeStretch(min_rate=0.99, max_rate=1.01, p=0.5),\n",
    "    PitchShift(min_semitones=-0.1, max_semitones=0.1, p=0.5),\n",
    "]\n",
    "\n",
    "composed = Compose(augment)"
   ]
  },
  {
   "cell_type": "code",
   "execution_count": 64,
   "id": "d2096c5c",
   "metadata": {},
   "outputs": [],
   "source": [
    "out_train_path = Path(\"./augmented_train_dataset\")"
   ]
  },
  {
   "cell_type": "code",
   "execution_count": 65,
   "id": "ee8b655b",
   "metadata": {},
   "outputs": [],
   "source": [
    "os.mkdir(out_train_path)"
   ]
  },
  {
   "cell_type": "code",
   "execution_count": 66,
   "id": "f652c63e",
   "metadata": {},
   "outputs": [],
   "source": [
    "def augment_audio(audio_path, output_path, augmentations, use_one=True, nb_copies=10):\n",
    "    print(\"loading audios...\")\n",
    "    for file_path, (wave, sr) in tqdm([(audio, librosa.load(audio)) for audio in audio_path], desc=\"Augmenting audios\"):\n",
    "        for nb in range(nb_copies):\n",
    "            chosen_aug = random.choice(augmentations) if use_one else composed\n",
    "            wave_aug = chosen_aug(samples=wave, sample_rate=sr)  # type: ignore\n",
    "            out = output_path / f\"{file_path.name}_aug{nb}.wav\"\n",
    "            sf.write(out, wave_aug, sr)"
   ]
  },
  {
   "cell_type": "code",
   "execution_count": 67,
   "id": "d9da7125",
   "metadata": {},
   "outputs": [
    {
     "name": "stdout",
     "output_type": "stream",
     "text": [
      "loading audios...\n"
     ]
    },
    {
     "name": "stderr",
     "output_type": "stream",
     "text": [
      "Augmenting audios: 100%|██████████| 73/73 [00:02<00:00, 28.93it/s]\n"
     ]
    }
   ],
   "source": [
    "augment_audio(train_files, out_train_path, augment, use_one=True, nb_copies=2)"
   ]
  },
  {
   "cell_type": "code",
   "execution_count": 68,
   "id": "17a29643",
   "metadata": {},
   "outputs": [],
   "source": [
    "out_test_path = Path(\"./augmented_test_dataset\")\n",
    "os.mkdir(out_test_path)"
   ]
  },
  {
   "cell_type": "code",
   "execution_count": 69,
   "id": "35c8a9dc",
   "metadata": {},
   "outputs": [
    {
     "name": "stdout",
     "output_type": "stream",
     "text": [
      "loading audios...\n"
     ]
    },
    {
     "name": "stderr",
     "output_type": "stream",
     "text": [
      "Augmenting audios: 100%|██████████| 19/19 [00:00<00:00, 47.51it/s]\n"
     ]
    }
   ],
   "source": [
    "augment_audio(test_files, out_test_path, augment, use_one=True, nb_copies=1)"
   ]
  },
  {
   "cell_type": "markdown",
   "id": "288c6962",
   "metadata": {},
   "source": [
    "# **3. Data and features extraction : MFCC**\n",
    "---"
   ]
  },
  {
   "cell_type": "code",
   "execution_count": 70,
   "id": "7c7da0ec",
   "metadata": {},
   "outputs": [],
   "source": [
    "\n",
    "# Liste des fichiers augmentés\n",
    "augmented_train_files = sorted(Path(out_train_path).glob(\"*.wav\"))\n",
    "augmented_test_files = sorted(Path(out_test_path).glob(\"*.wav\"))\n",
    "\n",
    "# Les fichiers originaux du train\n",
    "# train_files_names = [Path(f).name for f in train_files]\n",
    "# Les fichiers du test\n",
    "# test_files_names = [Path(f).name for f in test_files]\n",
    "# Liste complète des fichiers d'entraînement (originaux + augmentés)\n",
    "train_files_final = augmented_train_files + train_files\n",
    "test_files_final = augmented_test_files + test_files\n"
   ]
  },
  {
   "cell_type": "markdown",
   "id": "93e29351",
   "metadata": {},
   "source": [
    "### Assert all path are correct"
   ]
  },
  {
   "cell_type": "code",
   "execution_count": 71,
   "id": "ca9c39a8",
   "metadata": {},
   "outputs": [],
   "source": [
    "assert False not in list(map(lambda x: x.exists(), test_files_final))  \n",
    "assert False not in list(map(lambda x: x.exists(), train_files_final))"
   ]
  },
  {
   "cell_type": "code",
   "execution_count": 72,
   "id": "81510c56",
   "metadata": {},
   "outputs": [
    {
     "name": "stdout",
     "output_type": "stream",
     "text": [
      "219 train files\n",
      "38 test files\n"
     ]
    }
   ],
   "source": [
    "\n",
    "print(f\"{len(train_files_final)} train files\")\n",
    "print(f\"{len(test_files_final)} test files\")"
   ]
  },
  {
   "cell_type": "code",
   "execution_count": 73,
   "id": "b3a556a4",
   "metadata": {},
   "outputs": [],
   "source": [
    "from typing import Iterable\n",
    "\n",
    "\n",
    "n_mfcc     = 40        # number of coefficients\n",
    "n_fft      = 2048      # window size STFT\n",
    "hop_length = 512\n",
    "\n",
    "def compute_mfcc(files: Iterable[Path]) -> Iterable[np.ndarray]:\n",
    "  for file in files:\n",
    "      y, sr = librosa.load(file, sr=None)\n",
    "      mfcc_features = librosa.feature.mfcc(y=y, sr=sr, n_mfcc=n_mfcc, n_fft=n_fft, hop_length=hop_length)\n",
    "      yield librosa.util.normalize(mfcc_features, axis=1)"
   ]
  },
  {
   "cell_type": "code",
   "execution_count": 74,
   "id": "4cce4818",
   "metadata": {},
   "outputs": [
    {
     "name": "stderr",
     "output_type": "stream",
     "text": [
      "100%|██████████| 38/38 [00:03<00:00, 10.78it/s] \n",
      "100%|██████████| 219/219 [00:14<00:00, 14.94it/s] \n"
     ]
    }
   ],
   "source": [
    "mfcc_test = [*compute_mfcc(tqdm(test_files_final))]\n",
    "mfcc_train = [*compute_mfcc(tqdm(train_files_final))]"
   ]
  },
  {
   "cell_type": "markdown",
   "id": "d3467fe9",
   "metadata": {},
   "source": [
    "# **4. Audio dataset preparation (padding and trimming)**\n",
    "---"
   ]
  },
  {
   "cell_type": "markdown",
   "id": "26127b80",
   "metadata": {},
   "source": [
    "Besides, the idea is to set a single length T_max (typically the maximum recorded value) and then, for each MFCC:  \n",
    "*   If T_i < T_max → pad with columns of trailing zeros\n",
    "*   If T_i > T_max → trim to keep only the first T_max frames  "
   ]
  },
  {
   "cell_type": "code",
   "execution_count": 75,
   "id": "196dfd3a",
   "metadata": {},
   "outputs": [
    {
     "name": "stdout",
     "output_type": "stream",
     "text": [
      "Durée (train) : 122 122 122 122 129 129 129 129 134 134 134 134 137 137 124 124 123 123 121 121 137 137 122 122 120 120 124 124 136 136 131 131 122 122 122 122 134 134 124 124 123 123 131 131 136 136 134 134 136 136 124 124 132 132 128 128 132 132 122 122 123 123 128 128 124 124 123 123 137 137 131 131 111 111 125 125 134 134 123 123 136 136 134 134 136 136 128 128 134 134 123 123 124 124 123 123 123 123 136 136 137 137 128 128 136 136 128 128 123 123 137 137 125 125 129 129 133 133 134 134 136 136 123 123 130 130 123 123 133 133 124 124 122 122 134 134 123 123 123 123 124 124 124 124 124 124 262 264 268 268 246 271 248 244 246 271 266 271 248 246 250 244 244 248 255 271 246 250 255 255 221 268 264 262 248 246 246 268 246 262 248 271 246 248 248 273 257 257 273 244 271 239 248 266 273 241 244 259 246 268 246 273 248 271 255 268 244 268 246 268 273 268 271 246 248 244 246 255 257\n",
      "Durée (test) : 125 136 133 121 134 134 128 130 130 101 122 122 136 131 134 123 133 134 134 246 259 271 271 241 201 268 244 268 268 266 262 268 266 255 268 259 244 250\n",
      "The maximum value of time is 273 ms\n"
     ]
    }
   ],
   "source": [
    "# Pour le train\n",
    "T_train = [mfcc.shape[1] for mfcc in mfcc_train]\n",
    "print(\"Durée (train) :\", *T_train)\n",
    "\n",
    "# Pour le test\n",
    "T_test = [mfcc.shape[1] for mfcc in mfcc_test]\n",
    "print(\"Durée (test) :\", *T_test)\n",
    "\n",
    "# T_max commun pour le padding (on prend le max des deux)\n",
    "T_max = max(T_train)\n",
    "print(f'The maximum value of time is {T_max} ms')"
   ]
  },
  {
   "cell_type": "markdown",
   "id": "6df91e1d",
   "metadata": {},
   "source": [
    "In this step, we ensure that all MFCCs have the same length by either padding them with zeros or trimming them to a fixed length, `T_max`. This is necessary to standardize the input size for the model."
   ]
  },
  {
   "cell_type": "code",
   "execution_count": 76,
   "id": "af7014ae",
   "metadata": {},
   "outputs": [],
   "source": [
    "def pad_mfccs(mfcc_list, T_max):\n",
    "    mfcc_fixed = []\n",
    "    for m in mfcc_list:\n",
    "        T_i = m.shape[1]\n",
    "        if T_i < T_max:\n",
    "            pad_width = T_max - T_i\n",
    "            m2 = np.pad(m,\n",
    "                        pad_width=((0,0),   # no padding sur les coefficients\n",
    "                        (0,pad_width)),     # padding à droite sur le temps\n",
    "                        mode='constant',\n",
    "                        constant_values=0)\n",
    "        else:\n",
    "            m2 = m[:, :T_max]\n",
    "        mfcc_fixed.append(m2)\n",
    "    return mfcc_fixed\n",
    "\n",
    "# Pour le train\n",
    "mfcc_train_fixed = pad_mfccs(mfcc_train, T_max)\n",
    "\n",
    "# Pour le test\n",
    "mfcc_test_fixed = pad_mfccs(mfcc_test, T_max)\n"
   ]
  },
  {
   "cell_type": "markdown",
   "id": "f388ccbb",
   "metadata": {},
   "source": [
    "# **5. Dataset formatting for model input**\n",
    "---\n",
    "At this stage, we will prepare our padded/truncated MFCCs into the right shape for our deep learning model (flattening, stacking, or reshaping as needed), and associate them with their corresponding labels.\n"
   ]
  },
  {
   "cell_type": "code",
   "execution_count": 77,
   "id": "629c0eb0",
   "metadata": {},
   "outputs": [
    {
     "name": "stdout",
     "output_type": "stream",
     "text": [
      "X_train.shape = (219, 40, 273, 1)\n",
      "X_test.shape = (38, 40, 273, 1)\n"
     ]
    }
   ],
   "source": [
    "x_train = np.stack(mfcc_train_fixed, axis=0)[..., np.newaxis]\n",
    "x_test = np.stack(mfcc_test_fixed, axis=0)[..., np.newaxis]\n",
    "\n",
    "print(\"X_train.shape =\", x_train.shape)\n",
    "print(\"X_test.shape =\", x_test.shape)\n"
   ]
  },
  {
   "cell_type": "code",
   "execution_count": 78,
   "id": "e48e913e",
   "metadata": {},
   "outputs": [
    {
     "data": {
      "text/plain": [
       "38"
      ]
     },
     "execution_count": 78,
     "metadata": {},
     "output_type": "execute_result"
    }
   ],
   "source": [
    "len(mfcc_test_fixed)"
   ]
  },
  {
   "cell_type": "markdown",
   "id": "23a9bbe1",
   "metadata": {},
   "source": [
    "# **6. Label and shuffle**\n",
    "---"
   ]
  },
  {
   "cell_type": "code",
   "execution_count": 79,
   "id": "912b8a91",
   "metadata": {},
   "outputs": [],
   "source": [
    "import re\n",
    "\n",
    "def get_label(filename):\n",
    "    base_name = re.sub(r'_aug\\d+\\.wav$', '', filename)\n",
    "    if \"75-85\" in base_name:\n",
    "        return 0  # unripe\n",
    "    elif \"95\" in base_name:\n",
    "        return 1  # ripe\n",
    "    else:\n",
    "        raise ValueError(f\"Le nom de fichier ne permet pas d'extraire le label : {filename}\")\n",
    "\n",
    "# Recreate y_train and y_test with the new function\n",
    "y_train = np.array([get_label(f) for f in map(lambda x: x.name, train_files_final)])\n",
    "y_test = np.array([get_label(f) for f in map(lambda x: x.name, test_files_final)])\n",
    "\n",
    "# Use class weight (optional, but useful for imbalanced datasets)\n",
    "from sklearn.utils import class_weight\n",
    "class_weights = class_weight.compute_class_weight('balanced', classes=np.unique(y_train), y=y_train)\n",
    "class_weights_dict = dict(enumerate(class_weights))"
   ]
  },
  {
   "cell_type": "code",
   "execution_count": 80,
   "id": "d46bc32c",
   "metadata": {},
   "outputs": [
    {
     "data": {
      "text/plain": [
       "{0: np.float64(0.9605263157894737), 1: np.float64(1.042857142857143)}"
      ]
     },
     "execution_count": 80,
     "metadata": {},
     "output_type": "execute_result"
    }
   ],
   "source": [
    "class_weights_dict"
   ]
  },
  {
   "cell_type": "markdown",
   "id": "ede5ba7a",
   "metadata": {},
   "source": [
    "Shuffle training data ton ensure linear accuracy progress during training"
   ]
  },
  {
   "cell_type": "code",
   "execution_count": 81,
   "id": "a43d9eff",
   "metadata": {},
   "outputs": [],
   "source": [
    "# Shuffle le train pour éviter tout biais\n",
    "idx = np.arange(x_train.shape[0])\n",
    "np.random.shuffle(idx)\n",
    "x_train = x_train[idx]\n",
    "y_train = y_train[idx]\n",
    "train_files_final = [train_files_final[i] for i in idx]# type: ignore"
   ]
  },
  {
   "cell_type": "code",
   "execution_count": 82,
   "id": "111f7401",
   "metadata": {},
   "outputs": [
    {
     "data": {
      "text/plain": [
       "(114, 105)"
      ]
     },
     "execution_count": 82,
     "metadata": {},
     "output_type": "execute_result"
    }
   ],
   "source": [
    "len([i for i in y_train if i == 0]), len([i for i in y_train if i == 1])"
   ]
  },
  {
   "cell_type": "markdown",
   "id": "d1f109bb",
   "metadata": {},
   "source": [
    "### Ensure label corresponds to file name"
   ]
  },
  {
   "cell_type": "code",
   "execution_count": 83,
   "id": "1f9fc927",
   "metadata": {},
   "outputs": [],
   "source": [
    "assert False not in [bool(int(\"95\" in i.name) == j) for i, j in zip(train_files_final, y_train)]"
   ]
  },
  {
   "cell_type": "markdown",
   "id": "50f96ada",
   "metadata": {},
   "source": [
    "# **7. Building the classification model**\n",
    "---\n",
    "Now let's define our deep learning model. We'll use a simple Convolutional Neural Network (CNN) architecture suitable for audio classification.\n"
   ]
  },
  {
   "cell_type": "code",
   "execution_count": 84,
   "id": "bb53d03e",
   "metadata": {},
   "outputs": [],
   "source": [
    "from keras.models import Sequential\n",
    "from keras.layers import Dense, Conv2D, Input, BatchNormalization, Dropout, MaxPooling2D, Flatten\n",
    "import numpy as np\n",
    "import matplotlib.pyplot as plt\n",
    "from sklearn.metrics import confusion_matrix, classification_report\n",
    "import seaborn as sns\n",
    "import tensorflow as tf\n",
    "from keras.models import Sequential\n",
    "from keras.layers import Conv2D, MaxPooling2D, Flatten, Dense, Dropout, BatchNormalization\n",
    "from keras.callbacks import EarlyStopping, ReduceLROnPlateau\n",
    "from keras.utils import to_categorical\n",
    "from sklearn.utils import class_weight\n",
    "from keras.utils import plot_model\n"
   ]
  },
  {
   "cell_type": "code",
   "execution_count": 85,
   "id": "8c17d104",
   "metadata": {},
   "outputs": [],
   "source": [
    "model = Sequential([\n",
    "    Input(shape=x_train.shape[1:]),\n",
    "    Conv2D(32, (3,3), activation='relu'),\n",
    "    BatchNormalization(),\n",
    "    MaxPooling2D(),\n",
    "    Dropout(0.25),\n",
    "\n",
    "    Conv2D(64, (3,3), activation='relu'),\n",
    "    BatchNormalization(),\n",
    "    MaxPooling2D(),\n",
    "    Dropout(0.25),\n",
    "\n",
    "    Flatten(),\n",
    "    Dense(128, activation='relu', kernel_regularizer=keras.regularizers.l2(1e-4)),\n",
    "    Dropout(0.5),\n",
    "    Dense(1, activation='sigmoid')\n",
    "])"
   ]
  },
  {
   "cell_type": "code",
   "execution_count": 86,
   "id": "afef7f1c",
   "metadata": {},
   "outputs": [
    {
     "name": "stdout",
     "output_type": "stream",
     "text": [
      "You must install pydot (`pip install pydot`) for `plot_model` to work.\n"
     ]
    }
   ],
   "source": [
    "plot_model(model, to_file=\"model.png\", show_shapes=True, show_layer_names=True, show_layer_activations=True)"
   ]
  },
  {
   "cell_type": "code",
   "execution_count": 87,
   "id": "010c4ab1",
   "metadata": {},
   "outputs": [],
   "source": [
    "def compile_model(model, learning_rate: int | None = None):\n",
    "    if learning_rate is not None:\n",
    "        opt = keras.optimizers.Adam(learning_rate=learning_rate)\n",
    "        model.compile(\n",
    "            optimizer=opt,\n",
    "            loss='binary_crossentropy',\n",
    "            metrics=['accuracy']\n",
    "        )\n",
    "        return opt\n",
    "    model.compile(\n",
    "        optimizer='adam',\n",
    "        loss='binary_crossentropy',\n",
    "        metrics=['accuracy']\n",
    "    )"
   ]
  },
  {
   "cell_type": "code",
   "execution_count": 88,
   "id": "771db89b",
   "metadata": {},
   "outputs": [],
   "source": [
    "compile_model(model)"
   ]
  },
  {
   "cell_type": "markdown",
   "id": "31692876",
   "metadata": {},
   "source": [
    "# **6. Model training**\n",
    "---\n",
    "Let's train the model on the training data and keep track of its performance.\n"
   ]
  },
  {
   "cell_type": "code",
   "execution_count": 89,
   "id": "b2f77ab4",
   "metadata": {},
   "outputs": [
    {
     "name": "stdout",
     "output_type": "stream",
     "text": [
      "Epoch 1/15\n",
      "\u001b[1m22/22\u001b[0m \u001b[32m━━━━━━━━━━━━━━━━━━━━\u001b[0m\u001b[37m\u001b[0m \u001b[1m5s\u001b[0m 94ms/step - accuracy: 0.4787 - loss: 12.9520 - val_accuracy: 0.6818 - val_loss: 0.5999 - learning_rate: 0.0010\n",
      "Epoch 2/15\n",
      "\u001b[1m22/22\u001b[0m \u001b[32m━━━━━━━━━━━━━━━━━━━━\u001b[0m\u001b[37m\u001b[0m \u001b[1m2s\u001b[0m 80ms/step - accuracy: 0.5658 - loss: 4.3343 - val_accuracy: 0.6364 - val_loss: 0.7927 - learning_rate: 0.0010\n",
      "Epoch 3/15\n",
      "\u001b[1m22/22\u001b[0m \u001b[32m━━━━━━━━━━━━━━━━━━━━\u001b[0m\u001b[37m\u001b[0m \u001b[1m2s\u001b[0m 78ms/step - accuracy: 0.6685 - loss: 1.3883 - val_accuracy: 0.6591 - val_loss: 0.8911 - learning_rate: 0.0010\n",
      "Epoch 4/15\n",
      "\u001b[1m22/22\u001b[0m \u001b[32m━━━━━━━━━━━━━━━━━━━━\u001b[0m\u001b[37m\u001b[0m \u001b[1m2s\u001b[0m 77ms/step - accuracy: 0.6873 - loss: 0.6666 - val_accuracy: 0.6591 - val_loss: 0.8736 - learning_rate: 0.0010\n",
      "Epoch 5/15\n",
      "\u001b[1m22/22\u001b[0m \u001b[32m━━━━━━━━━━━━━━━━━━━━\u001b[0m\u001b[37m\u001b[0m \u001b[1m2s\u001b[0m 76ms/step - accuracy: 0.6810 - loss: 0.7278 - val_accuracy: 0.7500 - val_loss: 0.9859 - learning_rate: 2.0000e-04\n",
      "Epoch 6/15\n",
      "\u001b[1m22/22\u001b[0m \u001b[32m━━━━━━━━━━━━━━━━━━━━\u001b[0m\u001b[37m\u001b[0m \u001b[1m2s\u001b[0m 77ms/step - accuracy: 0.6408 - loss: 0.5870 - val_accuracy: 0.7273 - val_loss: 1.1222 - learning_rate: 2.0000e-04\n"
     ]
    }
   ],
   "source": [
    "es = EarlyStopping(monitor='val_loss', patience=5, restore_best_weights=True)\n",
    "reduce_lr = ReduceLROnPlateau(monitor='val_loss', factor=0.2, patience=3, min_lr=0.0001)\n",
    "history = model.fit(\n",
    "    x_train, y_train,\n",
    "    epochs=15,\n",
    "    batch_size=8,\n",
    "    validation_split=0.2,\n",
    "    callbacks=[es, reduce_lr],\n",
    "    shuffle=True,\n",
    "    class_weight=class_weights_dict  # Add class weights to compensate for slight class imbalance\n",
    ")"
   ]
  },
  {
   "cell_type": "code",
   "execution_count": 90,
   "id": "e988aa52",
   "metadata": {},
   "outputs": [
    {
     "data": {
      "text/plain": [
       "((219, 40, 273, 1), (219,), (38, 40, 273, 1), (38,))"
      ]
     },
     "execution_count": 90,
     "metadata": {},
     "output_type": "execute_result"
    }
   ],
   "source": [
    "x_train.shape, y_train.shape, x_test.shape, y_test.shape"
   ]
  },
  {
   "cell_type": "code",
   "execution_count": 91,
   "id": "793b2bf5",
   "metadata": {},
   "outputs": [],
   "source": [
    "def show_confusion_matrix(x, y_real):\n",
    "    y_prob = model.predict(x).ravel()\n",
    "    y_pred = (y_prob >= 0.5).astype(int)\n",
    "    cm = confusion_matrix(y_real, y_pred)\n",
    "    plt.figure(figsize=(8, 6))\n",
    "    sns.heatmap(cm, annot=True, fmt='d', cmap='Blues',\n",
    "                xticklabels=['Unripe', 'Ripe'], yticklabels=['Unripe', 'Ripe'])\n",
    "    plt.xlabel(\"Prediction\")\n",
    "    plt.ylabel(\"Reality\")\n",
    "    plt.title(\"Confusion matrix\")\n",
    "    plt.show()"
   ]
  },
  {
   "cell_type": "code",
   "execution_count": 92,
   "id": "864d34c0",
   "metadata": {},
   "outputs": [
    {
     "name": "stdout",
     "output_type": "stream",
     "text": [
      "\u001b[1m2/2\u001b[0m \u001b[32m━━━━━━━━━━━━━━━━━━━━\u001b[0m\u001b[37m\u001b[0m \u001b[1m0s\u001b[0m 141ms/step\n"
     ]
    },
    {
     "data": {
      "image/png": "[encoded data removed]",
      "text/plain": [
       "<Figure size 800x600 with 2 Axes>"
      ]
     },
     "metadata": {},
     "output_type": "display_data"
    }
   ],
   "source": [
    "show_confusion_matrix(x_test, y_test)"
   ]
  },
  {
   "cell_type": "code",
   "execution_count": 102,
   "id": "b5c2919b",
   "metadata": {},
   "outputs": [
    {
     "name": "stdout",
     "output_type": "stream",
     "text": [
      "\u001b[1m7/7\u001b[0m \u001b[32m━━━━━━━━━━━━━━━━━━━━\u001b[0m\u001b[37m\u001b[0m \u001b[1m0s\u001b[0m 30ms/step\n"
     ]
    },
    {
     "data": {
      "image/png": "[encoded data removed]",
      "text/plain": [
       "<Figure size 800x600 with 2 Axes>"
      ]
     },
     "metadata": {},
     "output_type": "display_data"
    }
   ],
   "source": [
    "show_confusion_matrix(x_train, y_train)"
   ]
  },
  {
   "cell_type": "markdown",
   "id": "3e15b11e",
   "metadata": {},
   "source": [
    "# **7. Model evaluation**\n",
    "---\n",
    "We now evaluate the trained model on the test set, check the accuracy, and display a confusion matrix for detailed analysis.\n"
   ]
  },
  {
   "cell_type": "code",
   "execution_count": 94,
   "id": "dacce045",
   "metadata": {},
   "outputs": [
    {
     "name": "stdout",
     "output_type": "stream",
     "text": [
      "\u001b[1m2/2\u001b[0m \u001b[32m━━━━━━━━━━━━━━━━━━━━\u001b[0m\u001b[37m\u001b[0m \u001b[1m0s\u001b[0m 38ms/step - accuracy: 0.6118 - loss: 0.6928\n"
     ]
    }
   ],
   "source": [
    "loss, acc = model.evaluate(x_test, y_test)"
   ]
  },
  {
   "cell_type": "markdown",
   "id": "973b0936",
   "metadata": {},
   "source": [
    "# **8. Results & analysis**\n",
    "---\n",
    "Let's analyze the results, discuss strengths and weaknesses, and try to interpret what the model is learning.\n"
   ]
  },
  {
   "cell_type": "code",
   "execution_count": 95,
   "id": "9afb91a3",
   "metadata": {},
   "outputs": [
    {
     "name": "stdout",
     "output_type": "stream",
     "text": [
      "X_train.shape: (219, 40, 273, 1)\n",
      "y_train.shape: (219,)\n",
      "X_test.shape: (38, 40, 273, 1)\n",
      "y_test.shape: (38,)\n",
      "Répartition y_train : (array([0, 1]), array([114, 105]))\n",
      "Répartition y_test : (array([0, 1]), array([14, 24]))\n",
      "Premier fichier train: 20240929_024345_Dona_95-Ripeoutput.wav_aug1.wav label: 1\n",
      "Premier fichier test: 20240929_023348_Dona_75-85%output.wav_aug0.wav label: 0\n"
     ]
    }
   ],
   "source": [
    "print(\"X_train.shape:\", x_train.shape)\n",
    "print(\"y_train.shape:\", y_train.shape)\n",
    "print(\"X_test.shape:\", x_test.shape)\n",
    "print(\"y_test.shape:\", y_test.shape)\n",
    "\n",
    "print(\"Répartition y_train :\", np.unique(y_train, return_counts=True))\n",
    "print(\"Répartition y_test :\", np.unique(y_test, return_counts=True))\n",
    "\n",
    "print(\"Premier fichier train:\", train_files_final[0].name, \"label:\", y_train[0])\n",
    "print(\"Premier fichier test:\", test_files_final[0].name, \"label:\", y_test[0])"
   ]
  },
  {
   "cell_type": "code",
   "execution_count": 96,
   "id": "8e7a2ac6",
   "metadata": {},
   "outputs": [
    {
     "name": "stdout",
     "output_type": "stream",
     "text": [
      "y_train repartition : [114 105]\n",
      "y_test repartition : [14 24]\n"
     ]
    }
   ],
   "source": [
    "print(\"y_train repartition :\", np.bincount(y_train))\n",
    "print(\"y_test repartition :\", np.bincount(y_test))"
   ]
  },
  {
   "cell_type": "code",
   "execution_count": 97,
   "id": "4a5c79d9",
   "metadata": {},
   "outputs": [
    {
     "data": {
      "image/png": "[encoded data removed]",
      "text/plain": [
       "<Figure size 1200x400 with 2 Axes>"
      ]
     },
     "metadata": {},
     "output_type": "display_data"
    }
   ],
   "source": [
    "plt.figure(figsize=(12,4))\n",
    "\n",
    "# Accuracy\n",
    "plt.subplot(1,2,1)\n",
    "plt.plot(history.history['accuracy'], label='train')\n",
    "plt.plot(history.history['val_accuracy'], label='val')\n",
    "plt.title(\"Accuracy\")\n",
    "plt.xlabel(\"Epoch\")\n",
    "plt.ylabel(\"Accuracy\")\n",
    "plt.legend()\n",
    "\n",
    "# Loss\n",
    "plt.subplot(1,2,2)\n",
    "plt.plot(history.history['loss'], label='train')\n",
    "plt.plot(history.history['val_loss'], label='val')\n",
    "plt.title(\"Loss\")\n",
    "plt.xlabel(\"Epoch\")\n",
    "plt.ylabel(\"Loss\")\n",
    "plt.legend()\n",
    "\n",
    "plt.tight_layout()\n",
    "plt.show()\n",
    "\n"
   ]
  },
  {
   "cell_type": "code",
   "execution_count": 98,
   "id": "730b95c5",
   "metadata": {},
   "outputs": [
    {
     "name": "stdout",
     "output_type": "stream",
     "text": [
      "\u001b[1m2/2\u001b[0m \u001b[32m━━━━━━━━━━━━━━━━━━━━\u001b[0m\u001b[37m\u001b[0m \u001b[1m0s\u001b[0m 30ms/step\n"
     ]
    },
    {
     "data": {
      "image/png": "[encoded data removed]",
      "text/plain": [
       "<Figure size 600x500 with 2 Axes>"
      ]
     },
     "metadata": {},
     "output_type": "display_data"
    }
   ],
   "source": [
    "\n",
    "# Confusion matrix\n",
    "y_prob = model.predict(x_test).ravel()\n",
    "y_pred = (y_prob >= 0.5).astype(int)\n",
    "\n",
    "cm = confusion_matrix(y_test, y_pred)\n",
    "labels = ['unripe', 'ripe']\n",
    "\n",
    "plt.figure(figsize=(6,5))\n",
    "sns.heatmap(cm, annot=True, fmt=\"d\", cmap=\"Blues\",\n",
    "            xticklabels=labels, yticklabels=labels)\n",
    "plt.xlabel(\"Prediction\")\n",
    "plt.ylabel(\"Reality\")\n",
    "plt.title(\"Confusion matrix\")\n",
    "plt.show()\n"
   ]
  },
  {
   "cell_type": "code",
   "execution_count": 99,
   "id": "01efb70f",
   "metadata": {},
   "outputs": [
    {
     "name": "stdout",
     "output_type": "stream",
     "text": [
      "              precision    recall  f1-score   support\n",
      "\n",
      "      unripe       0.47      0.64      0.55        14\n",
      "        ripe       0.74      0.58      0.65        24\n",
      "\n",
      "    accuracy                           0.61        38\n",
      "   macro avg       0.61      0.61      0.60        38\n",
      "weighted avg       0.64      0.61      0.61        38\n",
      "\n"
     ]
    }
   ],
   "source": [
    "\n",
    "print(classification_report(y_test, y_pred, target_names=labels))\n",
    "\n"
   ]
  },
  {
   "cell_type": "markdown",
   "id": "69188cc9",
   "metadata": {},
   "source": [
    "# **9. Save model**\n",
    "---\n",
    "Finally, we save our trained model for later use, and discuss possible improvements or future work.\n"
   ]
  },
  {
   "cell_type": "code",
   "execution_count": 100,
   "id": "fd5825ad",
   "metadata": {},
   "outputs": [],
   "source": [
    "# only execute the first time \n",
    "# model_version_index = 5"
   ]
  },
  {
   "cell_type": "code",
   "execution_count": 103,
   "id": "7678b6f0",
   "metadata": {},
   "outputs": [],
   "source": [
    "model.save(f\"models/model_augmented_v{model_version_index}_({loss:.2f}, {acc:.2f})_.keras\")\n",
    "model_version_index+=1"
   ]
  },
  {
   "cell_type": "markdown",
   "id": "df56d402",
   "metadata": {},
   "source": [
    "test"
   ]
  }
 ],
 "metadata": {
  "kernelspec": {
   "display_name": ".venv",
   "language": "python",
   "name": "python3"
  },
  "language_info": {
   "codemirror_mode": {
    "name": "ipython",
    "version": 3
   },
   "file_extension": ".py",
   "mimetype": "text/x-python",
   "name": "python",
   "nbconvert_exporter": "python",
   "pygments_lexer": "ipython3",
   "version": "3.12.0"
  }
 },
 "nbformat": 4,
 "nbformat_minor": 5
}
