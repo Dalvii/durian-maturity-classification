{
 "cells": [
  {
   "cell_type": "code",
   "execution_count": 178,
   "id": "b433d42b",
   "metadata": {},
   "outputs": [],
   "source": [
    "import os\n",
    "from pathlib import Path\n",
    "import torch\n",
    "from tqdm import tqdm\n",
    "import warnings\n",
    "import re\n",
    "import keras\n",
    "import librosa\n",
    "import shutil\n",
    "import tensorflow as tf\n",
    "import numpy as np\n",
    "from audiomentations import Compose, AddGaussianNoise, TimeStretch, PitchShift, Shift\n",
    "import random\n"
   ]
  },
  {
   "cell_type": "code",
   "execution_count": 179,
   "id": "ac7e35c9",
   "metadata": {},
   "outputs": [],
   "source": [
    "import soundfile as sf"
   ]
  },
  {
   "cell_type": "markdown",
   "id": "02217a1f",
   "metadata": {},
   "source": [
    "### Use cuda acceleration (optional)"
   ]
  },
  {
   "cell_type": "code",
   "execution_count": 180,
   "id": "87e48947",
   "metadata": {},
   "outputs": [
    {
     "data": {
      "text/plain": [
       "'cpu'"
      ]
     },
     "execution_count": 180,
     "metadata": {},
     "output_type": "execute_result"
    }
   ],
   "source": [
    "device = \"cuda\" if torch.cuda.is_available() else \"cpu\"\n",
    "device"
   ]
  },
  {
   "cell_type": "code",
   "execution_count": 181,
   "id": "7ef92323",
   "metadata": {},
   "outputs": [],
   "source": [
    "path = './AUDIO_DATA'\n",
    "\n",
    "if os.path.exists('./augmented_train_dataset'):\n",
    "    shutil.rmtree('./augmented_train_dataset')\n",
    "\n",
    "if os.path.exists('./augmented_test_dataset'):\n",
    "    shutil.rmtree('./augmented_test_dataset')"
   ]
  },
  {
   "cell_type": "markdown",
   "id": "62924dbd",
   "metadata": {},
   "source": [
    "### Link your google drive storage if you are working on google colab (optional)  "
   ]
  },
  {
   "cell_type": "code",
   "execution_count": 182,
   "id": "44664c23",
   "metadata": {},
   "outputs": [],
   "source": [
    "path = '<your google drive path>'\n",
    "# from google.colab import drive\n",
    "# drive.mount('/content/drive')\n",
    "# %cd /content/drive/MyDrive/DurianAudios"
   ]
  },
  {
   "cell_type": "code",
   "execution_count": 183,
   "id": "3e94f577",
   "metadata": {},
   "outputs": [
    {
     "data": {
      "text/plain": [
       "(None, None, None)"
      ]
     },
     "execution_count": 183,
     "metadata": {},
     "output_type": "execute_result"
    }
   ],
   "source": [
    "seed = 41\n",
    "random.seed(seed), np.random.seed(seed), tf.random.set_seed(seed)"
   ]
  },
  {
   "cell_type": "code",
   "execution_count": 184,
   "id": "a9b14934",
   "metadata": {},
   "outputs": [
    {
     "name": "stdout",
     "output_type": "stream",
     "text": [
      "./AUDIO_DATA/20240929_023338_Dona_75-85%output.wav ./AUDIO_DATA/20240929_023344_Dona_75-85%output.wav ./AUDIO_DATA/20240929_023348_Dona_75-85%output.wav ./AUDIO_DATA/20240929_023353_Dona_75-85%output.wav ./AUDIO_DATA/20240929_023359_Dona_75-85%output.wav ./AUDIO_DATA/20240929_023409_Dona_75-85%output.wav ./AUDIO_DATA/20240929_023414_Dona_75-85%output.wav ./AUDIO_DATA/20240929_023418_Dona_75-85%output.wav ./AUDIO_DATA/20240929_023426_Dona_75-85%output.wav ./AUDIO_DATA/20240929_023431_Dona_75-85%output.wav ./AUDIO_DATA/20240929_023435_Dona_75-85%output.wav ./AUDIO_DATA/20240929_023439_Dona_75-85%output.wav ./AUDIO_DATA/20240929_023443_Dona_75-85%output.wav ./AUDIO_DATA/20240929_023447_Dona_75-85%output.wav ./AUDIO_DATA/20240929_023501_Dona_75-85%output.wav ./AUDIO_DATA/20240929_023505_Dona_75-85%output.wav ./AUDIO_DATA/20240929_023509_Dona_75-85%output.wav ./AUDIO_DATA/20240929_023513_Dona_75-85%output.wav ./AUDIO_DATA/20240929_023517_Dona_75-85%output.wav ./AUDIO_DATA/20240929_023521_Dona_75-85%output.wav ./AUDIO_DATA/20240929_023541_Dona_95-Ripeoutput.wav ./AUDIO_DATA/20240929_023702_Dona_95-Ripeoutput.wav ./AUDIO_DATA/20240929_023705_Dona_95-Ripeoutput.wav ./AUDIO_DATA/20240929_023710_Dona_95-Ripeoutput.wav ./AUDIO_DATA/20240929_023713_Dona_95-Ripeoutput.wav ./AUDIO_DATA/20240929_023718_Dona_95-Ripeoutput.wav ./AUDIO_DATA/20240929_023721_Dona_95-Ripeoutput.wav ./AUDIO_DATA/20240929_023726_Dona_95-Ripeoutput.wav ./AUDIO_DATA/20240929_023730_Dona_95-Ripeoutput.wav ./AUDIO_DATA/20240929_023734_Dona_95-Ripeoutput.wav ./AUDIO_DATA/20240929_023738_Dona_95-Ripeoutput.wav ./AUDIO_DATA/20240929_023742_Dona_95-Ripeoutput.wav ./AUDIO_DATA/20240929_023751_Dona_95-Ripeoutput.wav ./AUDIO_DATA/20240929_023758_Dona_95-Ripeoutput.wav ./AUDIO_DATA/20240929_023807_Dona_95-Ripeoutput.wav ./AUDIO_DATA/20240929_023811_Dona_95-Ripeoutput.wav ./AUDIO_DATA/20240929_023815_Dona_95-Ripeoutput.wav ./AUDIO_DATA/20240929_023820_Dona_95-Ripeoutput.wav ./AUDIO_DATA/20240929_023823_Dona_95-Ripeoutput.wav ./AUDIO_DATA/20240929_023827_Dona_95-Ripeoutput.wav ./AUDIO_DATA/20240929_023832_Dona_95-Ripeoutput.wav ./AUDIO_DATA/20240929_023835_Dona_95-Ripeoutput.wav ./AUDIO_DATA/20240929_023839_Dona_95-Ripeoutput.wav ./AUDIO_DATA/20240929_023843_Dona_95-Ripeoutput.wav ./AUDIO_DATA/20240929_023858_Dona_95-Ripeoutput.wav ./AUDIO_DATA/20240929_023901_Dona_95-Ripeoutput.wav ./AUDIO_DATA/20240929_023906_Dona_95-Ripeoutput.wav ./AUDIO_DATA/20240929_023911_Dona_95-Ripeoutput.wav ./AUDIO_DATA/20240929_023915_Dona_95-Ripeoutput.wav ./AUDIO_DATA/20240929_023919_Dona_95-Ripeoutput.wav ./AUDIO_DATA/20240929_023923_Dona_95-Ripeoutput.wav ./AUDIO_DATA/20240929_023926_Dona_95-Ripeoutput.wav ./AUDIO_DATA/20240929_023934_Dona_95-Ripeoutput.wav ./AUDIO_DATA/20240929_023938_Dona_95-Ripeoutput.wav ./AUDIO_DATA/20240929_023942_Dona_95-Ripeoutput.wav ./AUDIO_DATA/20240929_023957_Dona_75-85%output.wav ./AUDIO_DATA/20240929_024001_Dona_75-85%output.wav ./AUDIO_DATA/20240929_024005_Dona_75-85%output.wav ./AUDIO_DATA/20240929_024010_Dona_75-85%output.wav ./AUDIO_DATA/20240929_024014_Dona_75-85%output.wav ./AUDIO_DATA/20240929_024017_Dona_75-85%output.wav ./AUDIO_DATA/20240929_024027_Dona_75-85%output.wav ./AUDIO_DATA/20240929_024030_Dona_75-85%output.wav ./AUDIO_DATA/20240929_024034_Dona_75-85%output.wav ./AUDIO_DATA/20240929_024039_Dona_75-85%output.wav ./AUDIO_DATA/20240929_024309_Dona_95-Ripeoutput.wav ./AUDIO_DATA/20240929_024314_Dona_95-Ripeoutput.wav ./AUDIO_DATA/20240929_024318_Dona_95-Ripeoutput.wav ./AUDIO_DATA/20240929_024321_Dona_95-Ripeoutput.wav ./AUDIO_DATA/20240929_024325_Dona_95-Ripeoutput.wav ./AUDIO_DATA/20240929_024329_Dona_95-Ripeoutput.wav ./AUDIO_DATA/20240929_024333_Dona_95-Ripeoutput.wav ./AUDIO_DATA/20240929_024341_Dona_95-Ripeoutput.wav ./AUDIO_DATA/20240929_024345_Dona_95-Ripeoutput.wav ./AUDIO_DATA/20240929_024358_Dona_75-85%output.wav ./AUDIO_DATA/20240929_024402_Dona_75-85%output.wav ./AUDIO_DATA/20240929_024406_Dona_75-85%output.wav ./AUDIO_DATA/20240929_024410_Dona_75-85%output.wav ./AUDIO_DATA/20240929_024413_Dona_75-85%output.wav ./AUDIO_DATA/20240929_024419_Dona_75-85%output.wav ./AUDIO_DATA/20240929_024422_Dona_75-85%output.wav ./AUDIO_DATA/20240929_024426_Dona_75-85%output.wav ./AUDIO_DATA/20240929_024435_Dona_95-Ripeoutput.wav ./AUDIO_DATA/20240929_024443_Dona_95-Ripeoutput.wav ./AUDIO_DATA/20240929_024446_Dona_95-Ripeoutput.wav ./AUDIO_DATA/20240929_024459_Dona_75-85%output.wav ./AUDIO_DATA/20240929_024503_Dona_75-85%output.wav ./AUDIO_DATA/20240929_024506_Dona_75-85%output.wav ./AUDIO_DATA/20240929_024510_Dona_75-85%output.wav ./AUDIO_DATA/20240929_024513_Dona_75-85%output.wav ./AUDIO_DATA/20240929_024517_Dona_75-85%output.wav ./AUDIO_DATA/20240929_024521_Dona_75-85%output.wav\n"
     ]
    }
   ],
   "source": [
    "\n",
    "AUDIO_PATH = \"./AUDIO_DATA\"\n",
    "AUDIO_LIST = list(map(lambda x: f\"{AUDIO_PATH}/{x}\", sorted(os.listdir(AUDIO_PATH))))\n",
    "print(*AUDIO_LIST)"
   ]
  },
  {
   "cell_type": "code",
   "execution_count": 185,
   "id": "03b5548c",
   "metadata": {},
   "outputs": [],
   "source": [
    "warnings.filterwarnings(\"ignore\", category=FutureWarning)\n",
    "warnings.filterwarnings(\"ignore\", message=\"PySoundFile failed.*\")\n",
    "\n",
    "audiosdir = AUDIO_PATH\n",
    "\n",
    "audios_75_85 = []\n",
    "audios_95 = []\n",
    "\n",
    "def tri_audio(audio_name):\n",
    "  if(audio_name not in [*audios_75_85,*audios_95]):\n",
    "    try:\n",
    "      if(re.split('_|%',audio_name)[3] == \"75-85\"):\n",
    "        audios_75_85.append(audio_name)\n",
    "      else:\n",
    "        audios_95.append(audio_name)\n",
    "    except :\n",
    "      print(audio_name)\n",
    "for i in sorted(os.listdir(audiosdir)):\n",
    "  tri_audio(i)\n"
   ]
  },
  {
   "cell_type": "code",
   "execution_count": 186,
   "id": "07faf3b0",
   "metadata": {},
   "outputs": [],
   "source": [
    "\n",
    "from sklearn.model_selection import train_test_split\n",
    "\n",
    "# Séparer la liste AUDIO_LIST en train et test avant toute data augmentation\n",
    "train_files_1, test_files_1 = train_test_split(list(map(lambda x:f\"{AUDIO_PATH}/{x}\" ,audios_95)), test_size=0.5, random_state=42, shuffle=True)\n",
    "train_files_2, test_files_2 = train_test_split(list(map(lambda x:f\"{AUDIO_PATH}/{x}\",audios_75_85)), test_size=0.5, random_state=42, shuffle=True)\n",
    "\n",
    "train_files = train_files_1 + train_files_2\n",
    "random.shuffle(train_files)\n",
    "test_files = test_files_1 + test_files_2\n"
   ]
  },
  {
   "cell_type": "code",
   "execution_count": 187,
   "id": "08e59f94",
   "metadata": {},
   "outputs": [],
   "source": [
    "# len(test_files_1 + test_files_2), len(train_files_1 + train_files_2)"
   ]
  },
  {
   "cell_type": "markdown",
   "id": "01505ac3",
   "metadata": {},
   "source": [
    "# **1. Data preparation**\n",
    "---"
   ]
  },
  {
   "cell_type": "code",
   "execution_count": 188,
   "id": "f89938e5",
   "metadata": {},
   "outputs": [],
   "source": [
    "def load_audio(file_name, parent_dir=AUDIO_PATH):\n",
    "    if \"aug\" in file_name:\n",
    "        full_path = os.path.join(\"augmented_train_dataset\", file_name)\n",
    "    elif \"test\" in file_name:\n",
    "        full_path = os.path.join(\"augmented_test_dataset\", file_name)\n",
    "    else:\n",
    "        full_path = os.path.join(\"AUDIO_DATA\", file_name)\n",
    "    y, sr = librosa.load(full_path, sr=None)\n",
    "    return y, sr\n"
   ]
  },
  {
   "cell_type": "code",
   "execution_count": 189,
   "id": "d8741f73",
   "metadata": {},
   "outputs": [],
   "source": [
    "path_good = sorted(Path(\"AUDIO_DATA\").glob(\"*75-85%output.wav\"))\n",
    "path_bad = sorted(Path(\"AUDIO_DATA\").glob(\"*95-Ripeoutput.wav\"))\n",
    "\n",
    "for p in [*path_good, *path_bad]:\n",
    "    if not p.is_file():\n",
    "        print(f\"{p} NOT FOUND\")"
   ]
  },
  {
   "cell_type": "markdown",
   "id": "08ee8334",
   "metadata": {},
   "source": [
    "# **2. Data Augmentation**\n",
    "---"
   ]
  },
  {
   "cell_type": "code",
   "execution_count": 190,
   "id": "217860c2",
   "metadata": {},
   "outputs": [],
   "source": [
    "augment = [\n",
    "    AddGaussianNoise(min_amplitude=0.000001, max_amplitude=0.00001, p=0.5),\n",
    "    TimeStretch(min_rate=0.99, max_rate=1.01, p=0.5),\n",
    "    PitchShift(min_semitones=-0.1, max_semitones=0.1, p=0.5),\n",
    "]\n",
    "\n",
    "composed = Compose(augment)"
   ]
  },
  {
   "cell_type": "code",
   "execution_count": 191,
   "id": "d2096c5c",
   "metadata": {},
   "outputs": [],
   "source": [
    "out_path: str = \"augmented_train_dataset\""
   ]
  },
  {
   "cell_type": "code",
   "execution_count": 192,
   "id": "ee8b655b",
   "metadata": {},
   "outputs": [],
   "source": [
    "!mkdir {out_path}"
   ]
  },
  {
   "cell_type": "code",
   "execution_count": 193,
   "id": "d9da7125",
   "metadata": {},
   "outputs": [
    {
     "name": "stderr",
     "output_type": "stream",
     "text": [
      "100%|██████████| 45/45 [00:06<00:00,  6.89it/s]\n"
     ]
    }
   ],
   "source": [
    "use_one = True\n",
    "out_train_path = \"augmented_train_dataset\"\n",
    "os.makedirs(out_path, exist_ok=True)\n",
    "\n",
    "nb_copies = 10\n",
    "\n",
    "for file_name, (wave, sr) in tqdm([(Path(audio_path).name, librosa.load(audio_path)) for audio_path in train_files]):\n",
    "    for nb in range(nb_copies):\n",
    "        chosen_aug = random.choice(augment) if use_one else composed\n",
    "        wave_aug = chosen_aug(samples=wave, sample_rate=sr) #type: ignore\n",
    "        out = os.path.join(out_path, f\"{file_name}_aug{nb}.wav\")\n",
    "        sf.write(out, wave_aug, sr)\n"
   ]
  },
  {
   "cell_type": "code",
   "execution_count": 194,
   "id": "17a29643",
   "metadata": {},
   "outputs": [
    {
     "name": "stderr",
     "output_type": "stream",
     "text": [
      " 40%|████      | 19/47 [00:03<00:04,  6.05it/s]\n"
     ]
    },
    {
     "ename": "KeyboardInterrupt",
     "evalue": "",
     "output_type": "error",
     "traceback": [
      "\u001b[31m---------------------------------------------------------------------------\u001b[39m",
      "\u001b[31mKeyboardInterrupt\u001b[39m                         Traceback (most recent call last)",
      "\u001b[36mCell\u001b[39m\u001b[36m \u001b[39m\u001b[32mIn[194]\u001b[39m\u001b[32m, line 10\u001b[39m\n\u001b[32m      8\u001b[39m \u001b[38;5;28;01mfor\u001b[39;00m nb \u001b[38;5;129;01min\u001b[39;00m \u001b[38;5;28mrange\u001b[39m(nb_copies):\n\u001b[32m      9\u001b[39m     chosen_aug = random.choice(augment) \u001b[38;5;28;01mif\u001b[39;00m use_one \u001b[38;5;28;01melse\u001b[39;00m composed\n\u001b[32m---> \u001b[39m\u001b[32m10\u001b[39m     wave_aug = \u001b[43mchosen_aug\u001b[49m\u001b[43m(\u001b[49m\u001b[43msamples\u001b[49m\u001b[43m=\u001b[49m\u001b[43mwave\u001b[49m\u001b[43m,\u001b[49m\u001b[43m \u001b[49m\u001b[43msample_rate\u001b[49m\u001b[43m=\u001b[49m\u001b[43msr\u001b[49m\u001b[43m)\u001b[49m \u001b[38;5;66;03m#type: ignore\u001b[39;00m\n\u001b[32m     11\u001b[39m     out = os.path.join(out_test_path, \u001b[33mf\u001b[39m\u001b[33m\"\u001b[39m\u001b[38;5;132;01m{\u001b[39;00mfile_name\u001b[38;5;132;01m}\u001b[39;00m\u001b[33m_aug\u001b[39m\u001b[38;5;132;01m{\u001b[39;00mnb\u001b[38;5;132;01m}\u001b[39;00m\u001b[33m.wav\u001b[39m\u001b[33m\"\u001b[39m)\n\u001b[32m     12\u001b[39m     sf.write(out, wave_aug, sr)\n",
      "\u001b[36mFile \u001b[39m\u001b[32mc:\\Users\\Tom\\Documents\\Durian_internship\\.venv\\Lib\\site-packages\\audiomentations\\core\\transforms_interface.py:138\u001b[39m, in \u001b[36mBaseWaveformTransform.__call__\u001b[39m\u001b[34m(self, samples, sample_rate)\u001b[39m\n\u001b[32m    132\u001b[39m     \u001b[38;5;28;01melif\u001b[39;00m \u001b[38;5;129;01mnot\u001b[39;00m \u001b[38;5;28mself\u001b[39m.supports_mono:\n\u001b[32m    133\u001b[39m         \u001b[38;5;28;01mraise\u001b[39;00m MonoAudioNotSupportedException(\n\u001b[32m    134\u001b[39m             \u001b[33m\"\u001b[39m\u001b[38;5;132;01m{}\u001b[39;00m\u001b[33m only supports multichannel audio, not mono audio\u001b[39m\u001b[33m\"\u001b[39m.format(\n\u001b[32m    135\u001b[39m                 \u001b[38;5;28mself\u001b[39m.\u001b[34m__class__\u001b[39m.\u001b[34m__name__\u001b[39m\n\u001b[32m    136\u001b[39m             )\n\u001b[32m    137\u001b[39m         )\n\u001b[32m--> \u001b[39m\u001b[32m138\u001b[39m     \u001b[38;5;28;01mreturn\u001b[39;00m \u001b[38;5;28;43mself\u001b[39;49m\u001b[43m.\u001b[49m\u001b[43mapply\u001b[49m\u001b[43m(\u001b[49m\u001b[43msamples\u001b[49m\u001b[43m,\u001b[49m\u001b[43m \u001b[49m\u001b[43msample_rate\u001b[49m\u001b[43m)\u001b[49m\n\u001b[32m    139\u001b[39m \u001b[38;5;28;01mreturn\u001b[39;00m samples\n",
      "\u001b[36mFile \u001b[39m\u001b[32mc:\\Users\\Tom\\Documents\\Durian_internship\\.venv\\Lib\\site-packages\\audiomentations\\augmentations\\time_stretch.py:97\u001b[39m, in \u001b[36mTimeStretch.apply\u001b[39m\u001b[34m(self, samples, sample_rate)\u001b[39m\n\u001b[32m     90\u001b[39m         time_stretched_samples = np.array(\n\u001b[32m     91\u001b[39m             time_stretched_channels, dtype=samples.dtype\n\u001b[32m     92\u001b[39m         )\n\u001b[32m     94\u001b[39m \u001b[38;5;28;01mif\u001b[39;00m \u001b[38;5;28mself\u001b[39m.leave_length_unchanged:\n\u001b[32m     95\u001b[39m     \u001b[38;5;66;03m# Apply zero padding if the time stretched audio is not long enough to fill the\u001b[39;00m\n\u001b[32m     96\u001b[39m     \u001b[38;5;66;03m# whole space, or crop the time stretched audio if it ended up too long.\u001b[39;00m\n\u001b[32m---> \u001b[39m\u001b[32m97\u001b[39m     padded_samples = \u001b[43mnp\u001b[49m\u001b[43m.\u001b[49m\u001b[43mzeros\u001b[49m\u001b[43m(\u001b[49m\u001b[43mshape\u001b[49m\u001b[43m=\u001b[49m\u001b[43moriginal_shape\u001b[49m\u001b[43m,\u001b[49m\u001b[43m \u001b[49m\u001b[43mdtype\u001b[49m\u001b[43m=\u001b[49m\u001b[43msamples\u001b[49m\u001b[43m.\u001b[49m\u001b[43mdtype\u001b[49m\u001b[43m)\u001b[49m\n\u001b[32m     98\u001b[39m     window = time_stretched_samples[..., : samples.shape[-\u001b[32m1\u001b[39m]]\n\u001b[32m     99\u001b[39m     actual_window_length = window.shape[-\u001b[32m1\u001b[39m]\n",
      "\u001b[31mKeyboardInterrupt\u001b[39m: "
     ]
    }
   ],
   "source": [
    "use_one = True\n",
    "out_test_path = \"augmented_test_dataset\"\n",
    "os.makedirs(out_test_path, exist_ok=True)\n",
    "\n",
    "nb_copies = 10\n",
    "\n",
    "for file_name, (wave, sr) in tqdm([(Path(audio_path).name, librosa.load(audio_path)) for audio_path in test_files]):\n",
    "    for nb in range(nb_copies):\n",
    "        chosen_aug = random.choice(augment) if use_one else composed\n",
    "        wave_aug = chosen_aug(samples=wave, sample_rate=sr) #type: ignore\n",
    "        out = os.path.join(out_test_path, f\"{file_name}_aug{nb}.wav\")\n",
    "        sf.write(out, wave_aug, sr)"
   ]
  },
  {
   "cell_type": "markdown",
   "id": "288c6962",
   "metadata": {},
   "source": [
    "# **3. Data and features extraction : MFCC**\n",
    "---"
   ]
  },
  {
   "cell_type": "code",
   "execution_count": null,
   "id": "7c7da0ec",
   "metadata": {},
   "outputs": [
    {
     "name": "stdout",
     "output_type": "stream",
     "text": [
      "495 fichiers pour le train (originaux + augmentés)\n",
      "47 fichiers pour le test (non augmentés)\n"
     ]
    }
   ],
   "source": [
    "\n",
    "# Liste des fichiers augmentés\n",
    "augmented_train_files = sorted(Path(out_train_path).glob(\"*.wav\"))\n",
    "augmented_test_files = sorted(Path(out_test_path).glob(\"*.wav\"))\n",
    "\n",
    "# Les fichiers originaux du train\n",
    "train_files_names = [Path(f).name for f in train_files]\n",
    "# Les fichiers du test\n",
    "test_files_names = [Path(f).name for f in test_files]\n",
    "# Liste complète des fichiers d'entraînement (originaux + augmentés)\n",
    "train_files_final = [f.name for f in augmented_train_files] + train_files_names\n",
    "test_files_final = [f.name for f in augmented_test_files] + test_files_names\n"
   ]
  },
  {
   "cell_type": "code",
   "execution_count": null,
   "id": "81510c56",
   "metadata": {},
   "outputs": [
    {
     "name": "stdout",
     "output_type": "stream",
     "text": [
      "495 fichiers pour le train (originaux + augmentés)\n",
      "517 fichiers pour le test (non augmentés)\n"
     ]
    }
   ],
   "source": [
    "\n",
    "print(f\"{len(train_files_final)} fichiers pour le train (originaux + augmentés)\")\n",
    "print(f\"{len(test_files_final)} fichiers pour le test (non augmentés)\")\n"
   ]
  },
  {
   "cell_type": "code",
   "execution_count": null,
   "id": "f0a66a4a",
   "metadata": {},
   "outputs": [
    {
     "data": {
      "text/plain": [
       "[WindowsPath('augmented_test_dataset/20240929_023353_Dona_75-85%output.wav_aug0.wav'),\n",
       " WindowsPath('augmented_test_dataset/20240929_023353_Dona_75-85%output.wav_aug1.wav'),\n",
       " WindowsPath('augmented_test_dataset/20240929_023353_Dona_75-85%output.wav_aug2.wav'),\n",
       " WindowsPath('augmented_test_dataset/20240929_023353_Dona_75-85%output.wav_aug3.wav'),\n",
       " WindowsPath('augmented_test_dataset/20240929_023353_Dona_75-85%output.wav_aug4.wav'),\n",
       " WindowsPath('augmented_test_dataset/20240929_023353_Dona_75-85%output.wav_aug5.wav'),\n",
       " WindowsPath('augmented_test_dataset/20240929_023353_Dona_75-85%output.wav_aug6.wav'),\n",
       " WindowsPath('augmented_test_dataset/20240929_023353_Dona_75-85%output.wav_aug7.wav'),\n",
       " WindowsPath('augmented_test_dataset/20240929_023353_Dona_75-85%output.wav_aug8.wav'),\n",
       " WindowsPath('augmented_test_dataset/20240929_023353_Dona_75-85%output.wav_aug9.wav'),\n",
       " WindowsPath('augmented_test_dataset/20240929_023359_Dona_75-85%output.wav_aug0.wav'),\n",
       " WindowsPath('augmented_test_dataset/20240929_023359_Dona_75-85%output.wav_aug1.wav'),\n",
       " WindowsPath('augmented_test_dataset/20240929_023359_Dona_75-85%output.wav_aug2.wav'),\n",
       " WindowsPath('augmented_test_dataset/20240929_023359_Dona_75-85%output.wav_aug3.wav'),\n",
       " WindowsPath('augmented_test_dataset/20240929_023359_Dona_75-85%output.wav_aug4.wav'),\n",
       " WindowsPath('augmented_test_dataset/20240929_023359_Dona_75-85%output.wav_aug5.wav'),\n",
       " WindowsPath('augmented_test_dataset/20240929_023359_Dona_75-85%output.wav_aug6.wav'),\n",
       " WindowsPath('augmented_test_dataset/20240929_023359_Dona_75-85%output.wav_aug7.wav'),\n",
       " WindowsPath('augmented_test_dataset/20240929_023359_Dona_75-85%output.wav_aug8.wav'),\n",
       " WindowsPath('augmented_test_dataset/20240929_023359_Dona_75-85%output.wav_aug9.wav'),\n",
       " WindowsPath('augmented_test_dataset/20240929_023414_Dona_75-85%output.wav_aug0.wav'),\n",
       " WindowsPath('augmented_test_dataset/20240929_023414_Dona_75-85%output.wav_aug1.wav'),\n",
       " WindowsPath('augmented_test_dataset/20240929_023414_Dona_75-85%output.wav_aug2.wav'),\n",
       " WindowsPath('augmented_test_dataset/20240929_023414_Dona_75-85%output.wav_aug3.wav'),\n",
       " WindowsPath('augmented_test_dataset/20240929_023414_Dona_75-85%output.wav_aug4.wav'),\n",
       " WindowsPath('augmented_test_dataset/20240929_023414_Dona_75-85%output.wav_aug5.wav'),\n",
       " WindowsPath('augmented_test_dataset/20240929_023414_Dona_75-85%output.wav_aug6.wav'),\n",
       " WindowsPath('augmented_test_dataset/20240929_023414_Dona_75-85%output.wav_aug7.wav'),\n",
       " WindowsPath('augmented_test_dataset/20240929_023414_Dona_75-85%output.wav_aug8.wav'),\n",
       " WindowsPath('augmented_test_dataset/20240929_023414_Dona_75-85%output.wav_aug9.wav'),\n",
       " WindowsPath('augmented_test_dataset/20240929_023426_Dona_75-85%output.wav_aug0.wav'),\n",
       " WindowsPath('augmented_test_dataset/20240929_023426_Dona_75-85%output.wav_aug1.wav'),\n",
       " WindowsPath('augmented_test_dataset/20240929_023426_Dona_75-85%output.wav_aug2.wav'),\n",
       " WindowsPath('augmented_test_dataset/20240929_023426_Dona_75-85%output.wav_aug3.wav'),\n",
       " WindowsPath('augmented_test_dataset/20240929_023426_Dona_75-85%output.wav_aug4.wav'),\n",
       " WindowsPath('augmented_test_dataset/20240929_023426_Dona_75-85%output.wav_aug5.wav'),\n",
       " WindowsPath('augmented_test_dataset/20240929_023426_Dona_75-85%output.wav_aug6.wav'),\n",
       " WindowsPath('augmented_test_dataset/20240929_023426_Dona_75-85%output.wav_aug7.wav'),\n",
       " WindowsPath('augmented_test_dataset/20240929_023426_Dona_75-85%output.wav_aug8.wav'),\n",
       " WindowsPath('augmented_test_dataset/20240929_023426_Dona_75-85%output.wav_aug9.wav'),\n",
       " WindowsPath('augmented_test_dataset/20240929_023431_Dona_75-85%output.wav_aug0.wav'),\n",
       " WindowsPath('augmented_test_dataset/20240929_023431_Dona_75-85%output.wav_aug1.wav'),\n",
       " WindowsPath('augmented_test_dataset/20240929_023431_Dona_75-85%output.wav_aug2.wav'),\n",
       " WindowsPath('augmented_test_dataset/20240929_023431_Dona_75-85%output.wav_aug3.wav'),\n",
       " WindowsPath('augmented_test_dataset/20240929_023431_Dona_75-85%output.wav_aug4.wav'),\n",
       " WindowsPath('augmented_test_dataset/20240929_023431_Dona_75-85%output.wav_aug5.wav'),\n",
       " WindowsPath('augmented_test_dataset/20240929_023431_Dona_75-85%output.wav_aug6.wav'),\n",
       " WindowsPath('augmented_test_dataset/20240929_023431_Dona_75-85%output.wav_aug7.wav'),\n",
       " WindowsPath('augmented_test_dataset/20240929_023431_Dona_75-85%output.wav_aug8.wav'),\n",
       " WindowsPath('augmented_test_dataset/20240929_023431_Dona_75-85%output.wav_aug9.wav'),\n",
       " WindowsPath('augmented_test_dataset/20240929_023443_Dona_75-85%output.wav_aug0.wav'),\n",
       " WindowsPath('augmented_test_dataset/20240929_023443_Dona_75-85%output.wav_aug1.wav'),\n",
       " WindowsPath('augmented_test_dataset/20240929_023443_Dona_75-85%output.wav_aug2.wav'),\n",
       " WindowsPath('augmented_test_dataset/20240929_023443_Dona_75-85%output.wav_aug3.wav'),\n",
       " WindowsPath('augmented_test_dataset/20240929_023443_Dona_75-85%output.wav_aug4.wav'),\n",
       " WindowsPath('augmented_test_dataset/20240929_023443_Dona_75-85%output.wav_aug5.wav'),\n",
       " WindowsPath('augmented_test_dataset/20240929_023443_Dona_75-85%output.wav_aug6.wav'),\n",
       " WindowsPath('augmented_test_dataset/20240929_023443_Dona_75-85%output.wav_aug7.wav'),\n",
       " WindowsPath('augmented_test_dataset/20240929_023443_Dona_75-85%output.wav_aug8.wav'),\n",
       " WindowsPath('augmented_test_dataset/20240929_023443_Dona_75-85%output.wav_aug9.wav'),\n",
       " WindowsPath('augmented_test_dataset/20240929_023447_Dona_75-85%output.wav_aug0.wav'),\n",
       " WindowsPath('augmented_test_dataset/20240929_023447_Dona_75-85%output.wav_aug1.wav'),\n",
       " WindowsPath('augmented_test_dataset/20240929_023447_Dona_75-85%output.wav_aug2.wav'),\n",
       " WindowsPath('augmented_test_dataset/20240929_023447_Dona_75-85%output.wav_aug3.wav'),\n",
       " WindowsPath('augmented_test_dataset/20240929_023447_Dona_75-85%output.wav_aug4.wav'),\n",
       " WindowsPath('augmented_test_dataset/20240929_023447_Dona_75-85%output.wav_aug5.wav'),\n",
       " WindowsPath('augmented_test_dataset/20240929_023447_Dona_75-85%output.wav_aug6.wav'),\n",
       " WindowsPath('augmented_test_dataset/20240929_023447_Dona_75-85%output.wav_aug7.wav'),\n",
       " WindowsPath('augmented_test_dataset/20240929_023447_Dona_75-85%output.wav_aug8.wav'),\n",
       " WindowsPath('augmented_test_dataset/20240929_023447_Dona_75-85%output.wav_aug9.wav'),\n",
       " WindowsPath('augmented_test_dataset/20240929_023505_Dona_75-85%output.wav_aug0.wav'),\n",
       " WindowsPath('augmented_test_dataset/20240929_023505_Dona_75-85%output.wav_aug1.wav'),\n",
       " WindowsPath('augmented_test_dataset/20240929_023505_Dona_75-85%output.wav_aug2.wav'),\n",
       " WindowsPath('augmented_test_dataset/20240929_023505_Dona_75-85%output.wav_aug3.wav'),\n",
       " WindowsPath('augmented_test_dataset/20240929_023505_Dona_75-85%output.wav_aug4.wav'),\n",
       " WindowsPath('augmented_test_dataset/20240929_023505_Dona_75-85%output.wav_aug5.wav'),\n",
       " WindowsPath('augmented_test_dataset/20240929_023505_Dona_75-85%output.wav_aug6.wav'),\n",
       " WindowsPath('augmented_test_dataset/20240929_023505_Dona_75-85%output.wav_aug7.wav'),\n",
       " WindowsPath('augmented_test_dataset/20240929_023505_Dona_75-85%output.wav_aug8.wav'),\n",
       " WindowsPath('augmented_test_dataset/20240929_023505_Dona_75-85%output.wav_aug9.wav'),\n",
       " WindowsPath('augmented_test_dataset/20240929_023509_Dona_75-85%output.wav_aug0.wav'),\n",
       " WindowsPath('augmented_test_dataset/20240929_023509_Dona_75-85%output.wav_aug1.wav'),\n",
       " WindowsPath('augmented_test_dataset/20240929_023509_Dona_75-85%output.wav_aug2.wav'),\n",
       " WindowsPath('augmented_test_dataset/20240929_023509_Dona_75-85%output.wav_aug3.wav'),\n",
       " WindowsPath('augmented_test_dataset/20240929_023509_Dona_75-85%output.wav_aug4.wav'),\n",
       " WindowsPath('augmented_test_dataset/20240929_023509_Dona_75-85%output.wav_aug5.wav'),\n",
       " WindowsPath('augmented_test_dataset/20240929_023509_Dona_75-85%output.wav_aug6.wav'),\n",
       " WindowsPath('augmented_test_dataset/20240929_023509_Dona_75-85%output.wav_aug7.wav'),\n",
       " WindowsPath('augmented_test_dataset/20240929_023509_Dona_75-85%output.wav_aug8.wav'),\n",
       " WindowsPath('augmented_test_dataset/20240929_023509_Dona_75-85%output.wav_aug9.wav'),\n",
       " WindowsPath('augmented_test_dataset/20240929_023513_Dona_75-85%output.wav_aug0.wav'),\n",
       " WindowsPath('augmented_test_dataset/20240929_023513_Dona_75-85%output.wav_aug1.wav'),\n",
       " WindowsPath('augmented_test_dataset/20240929_023513_Dona_75-85%output.wav_aug2.wav'),\n",
       " WindowsPath('augmented_test_dataset/20240929_023513_Dona_75-85%output.wav_aug3.wav'),\n",
       " WindowsPath('augmented_test_dataset/20240929_023513_Dona_75-85%output.wav_aug4.wav'),\n",
       " WindowsPath('augmented_test_dataset/20240929_023513_Dona_75-85%output.wav_aug5.wav'),\n",
       " WindowsPath('augmented_test_dataset/20240929_023513_Dona_75-85%output.wav_aug6.wav'),\n",
       " WindowsPath('augmented_test_dataset/20240929_023513_Dona_75-85%output.wav_aug7.wav'),\n",
       " WindowsPath('augmented_test_dataset/20240929_023513_Dona_75-85%output.wav_aug8.wav'),\n",
       " WindowsPath('augmented_test_dataset/20240929_023513_Dona_75-85%output.wav_aug9.wav'),\n",
       " WindowsPath('augmented_test_dataset/20240929_023521_Dona_75-85%output.wav_aug0.wav'),\n",
       " WindowsPath('augmented_test_dataset/20240929_023521_Dona_75-85%output.wav_aug1.wav'),\n",
       " WindowsPath('augmented_test_dataset/20240929_023521_Dona_75-85%output.wav_aug2.wav'),\n",
       " WindowsPath('augmented_test_dataset/20240929_023521_Dona_75-85%output.wav_aug3.wav'),\n",
       " WindowsPath('augmented_test_dataset/20240929_023521_Dona_75-85%output.wav_aug4.wav'),\n",
       " WindowsPath('augmented_test_dataset/20240929_023521_Dona_75-85%output.wav_aug5.wav'),\n",
       " WindowsPath('augmented_test_dataset/20240929_023521_Dona_75-85%output.wav_aug6.wav'),\n",
       " WindowsPath('augmented_test_dataset/20240929_023521_Dona_75-85%output.wav_aug7.wav'),\n",
       " WindowsPath('augmented_test_dataset/20240929_023521_Dona_75-85%output.wav_aug8.wav'),\n",
       " WindowsPath('augmented_test_dataset/20240929_023521_Dona_75-85%output.wav_aug9.wav'),\n",
       " WindowsPath('augmented_test_dataset/20240929_023710_Dona_95-Ripeoutput.wav_aug0.wav'),\n",
       " WindowsPath('augmented_test_dataset/20240929_023710_Dona_95-Ripeoutput.wav_aug1.wav'),\n",
       " WindowsPath('augmented_test_dataset/20240929_023710_Dona_95-Ripeoutput.wav_aug2.wav'),\n",
       " WindowsPath('augmented_test_dataset/20240929_023710_Dona_95-Ripeoutput.wav_aug3.wav'),\n",
       " WindowsPath('augmented_test_dataset/20240929_023710_Dona_95-Ripeoutput.wav_aug4.wav'),\n",
       " WindowsPath('augmented_test_dataset/20240929_023710_Dona_95-Ripeoutput.wav_aug5.wav'),\n",
       " WindowsPath('augmented_test_dataset/20240929_023710_Dona_95-Ripeoutput.wav_aug6.wav'),\n",
       " WindowsPath('augmented_test_dataset/20240929_023710_Dona_95-Ripeoutput.wav_aug7.wav'),\n",
       " WindowsPath('augmented_test_dataset/20240929_023710_Dona_95-Ripeoutput.wav_aug8.wav'),\n",
       " WindowsPath('augmented_test_dataset/20240929_023710_Dona_95-Ripeoutput.wav_aug9.wav'),\n",
       " WindowsPath('augmented_test_dataset/20240929_023713_Dona_95-Ripeoutput.wav_aug0.wav'),\n",
       " WindowsPath('augmented_test_dataset/20240929_023713_Dona_95-Ripeoutput.wav_aug1.wav'),\n",
       " WindowsPath('augmented_test_dataset/20240929_023713_Dona_95-Ripeoutput.wav_aug2.wav'),\n",
       " WindowsPath('augmented_test_dataset/20240929_023713_Dona_95-Ripeoutput.wav_aug3.wav'),\n",
       " WindowsPath('augmented_test_dataset/20240929_023713_Dona_95-Ripeoutput.wav_aug4.wav'),\n",
       " WindowsPath('augmented_test_dataset/20240929_023713_Dona_95-Ripeoutput.wav_aug5.wav'),\n",
       " WindowsPath('augmented_test_dataset/20240929_023713_Dona_95-Ripeoutput.wav_aug6.wav'),\n",
       " WindowsPath('augmented_test_dataset/20240929_023713_Dona_95-Ripeoutput.wav_aug7.wav'),\n",
       " WindowsPath('augmented_test_dataset/20240929_023713_Dona_95-Ripeoutput.wav_aug8.wav'),\n",
       " WindowsPath('augmented_test_dataset/20240929_023713_Dona_95-Ripeoutput.wav_aug9.wav'),\n",
       " WindowsPath('augmented_test_dataset/20240929_023721_Dona_95-Ripeoutput.wav_aug0.wav'),\n",
       " WindowsPath('augmented_test_dataset/20240929_023721_Dona_95-Ripeoutput.wav_aug1.wav'),\n",
       " WindowsPath('augmented_test_dataset/20240929_023721_Dona_95-Ripeoutput.wav_aug2.wav'),\n",
       " WindowsPath('augmented_test_dataset/20240929_023721_Dona_95-Ripeoutput.wav_aug3.wav'),\n",
       " WindowsPath('augmented_test_dataset/20240929_023721_Dona_95-Ripeoutput.wav_aug4.wav'),\n",
       " WindowsPath('augmented_test_dataset/20240929_023721_Dona_95-Ripeoutput.wav_aug5.wav'),\n",
       " WindowsPath('augmented_test_dataset/20240929_023721_Dona_95-Ripeoutput.wav_aug6.wav'),\n",
       " WindowsPath('augmented_test_dataset/20240929_023721_Dona_95-Ripeoutput.wav_aug7.wav'),\n",
       " WindowsPath('augmented_test_dataset/20240929_023721_Dona_95-Ripeoutput.wav_aug8.wav'),\n",
       " WindowsPath('augmented_test_dataset/20240929_023721_Dona_95-Ripeoutput.wav_aug9.wav'),\n",
       " WindowsPath('augmented_test_dataset/20240929_023730_Dona_95-Ripeoutput.wav_aug0.wav'),\n",
       " WindowsPath('augmented_test_dataset/20240929_023730_Dona_95-Ripeoutput.wav_aug1.wav'),\n",
       " WindowsPath('augmented_test_dataset/20240929_023730_Dona_95-Ripeoutput.wav_aug2.wav'),\n",
       " WindowsPath('augmented_test_dataset/20240929_023730_Dona_95-Ripeoutput.wav_aug3.wav'),\n",
       " WindowsPath('augmented_test_dataset/20240929_023730_Dona_95-Ripeoutput.wav_aug4.wav'),\n",
       " WindowsPath('augmented_test_dataset/20240929_023730_Dona_95-Ripeoutput.wav_aug5.wav'),\n",
       " WindowsPath('augmented_test_dataset/20240929_023730_Dona_95-Ripeoutput.wav_aug6.wav'),\n",
       " WindowsPath('augmented_test_dataset/20240929_023730_Dona_95-Ripeoutput.wav_aug7.wav'),\n",
       " WindowsPath('augmented_test_dataset/20240929_023730_Dona_95-Ripeoutput.wav_aug8.wav'),\n",
       " WindowsPath('augmented_test_dataset/20240929_023730_Dona_95-Ripeoutput.wav_aug9.wav'),\n",
       " WindowsPath('augmented_test_dataset/20240929_023734_Dona_95-Ripeoutput.wav_aug0.wav'),\n",
       " WindowsPath('augmented_test_dataset/20240929_023734_Dona_95-Ripeoutput.wav_aug1.wav'),\n",
       " WindowsPath('augmented_test_dataset/20240929_023734_Dona_95-Ripeoutput.wav_aug2.wav'),\n",
       " WindowsPath('augmented_test_dataset/20240929_023734_Dona_95-Ripeoutput.wav_aug3.wav'),\n",
       " WindowsPath('augmented_test_dataset/20240929_023734_Dona_95-Ripeoutput.wav_aug4.wav'),\n",
       " WindowsPath('augmented_test_dataset/20240929_023734_Dona_95-Ripeoutput.wav_aug5.wav'),\n",
       " WindowsPath('augmented_test_dataset/20240929_023734_Dona_95-Ripeoutput.wav_aug6.wav'),\n",
       " WindowsPath('augmented_test_dataset/20240929_023734_Dona_95-Ripeoutput.wav_aug7.wav'),\n",
       " WindowsPath('augmented_test_dataset/20240929_023734_Dona_95-Ripeoutput.wav_aug8.wav'),\n",
       " WindowsPath('augmented_test_dataset/20240929_023734_Dona_95-Ripeoutput.wav_aug9.wav'),\n",
       " WindowsPath('augmented_test_dataset/20240929_023751_Dona_95-Ripeoutput.wav_aug0.wav'),\n",
       " WindowsPath('augmented_test_dataset/20240929_023751_Dona_95-Ripeoutput.wav_aug1.wav'),\n",
       " WindowsPath('augmented_test_dataset/20240929_023751_Dona_95-Ripeoutput.wav_aug2.wav'),\n",
       " WindowsPath('augmented_test_dataset/20240929_023751_Dona_95-Ripeoutput.wav_aug3.wav'),\n",
       " WindowsPath('augmented_test_dataset/20240929_023751_Dona_95-Ripeoutput.wav_aug4.wav'),\n",
       " WindowsPath('augmented_test_dataset/20240929_023751_Dona_95-Ripeoutput.wav_aug5.wav'),\n",
       " WindowsPath('augmented_test_dataset/20240929_023751_Dona_95-Ripeoutput.wav_aug6.wav'),\n",
       " WindowsPath('augmented_test_dataset/20240929_023751_Dona_95-Ripeoutput.wav_aug7.wav'),\n",
       " WindowsPath('augmented_test_dataset/20240929_023751_Dona_95-Ripeoutput.wav_aug8.wav'),\n",
       " WindowsPath('augmented_test_dataset/20240929_023751_Dona_95-Ripeoutput.wav_aug9.wav'),\n",
       " WindowsPath('augmented_test_dataset/20240929_023758_Dona_95-Ripeoutput.wav_aug0.wav'),\n",
       " WindowsPath('augmented_test_dataset/20240929_023758_Dona_95-Ripeoutput.wav_aug1.wav'),\n",
       " WindowsPath('augmented_test_dataset/20240929_023758_Dona_95-Ripeoutput.wav_aug2.wav'),\n",
       " WindowsPath('augmented_test_dataset/20240929_023758_Dona_95-Ripeoutput.wav_aug3.wav'),\n",
       " WindowsPath('augmented_test_dataset/20240929_023758_Dona_95-Ripeoutput.wav_aug4.wav'),\n",
       " WindowsPath('augmented_test_dataset/20240929_023758_Dona_95-Ripeoutput.wav_aug5.wav'),\n",
       " WindowsPath('augmented_test_dataset/20240929_023758_Dona_95-Ripeoutput.wav_aug6.wav'),\n",
       " WindowsPath('augmented_test_dataset/20240929_023758_Dona_95-Ripeoutput.wav_aug7.wav'),\n",
       " WindowsPath('augmented_test_dataset/20240929_023758_Dona_95-Ripeoutput.wav_aug8.wav'),\n",
       " WindowsPath('augmented_test_dataset/20240929_023758_Dona_95-Ripeoutput.wav_aug9.wav'),\n",
       " WindowsPath('augmented_test_dataset/20240929_023811_Dona_95-Ripeoutput.wav_aug0.wav'),\n",
       " WindowsPath('augmented_test_dataset/20240929_023811_Dona_95-Ripeoutput.wav_aug1.wav'),\n",
       " WindowsPath('augmented_test_dataset/20240929_023811_Dona_95-Ripeoutput.wav_aug2.wav'),\n",
       " WindowsPath('augmented_test_dataset/20240929_023811_Dona_95-Ripeoutput.wav_aug3.wav'),\n",
       " WindowsPath('augmented_test_dataset/20240929_023811_Dona_95-Ripeoutput.wav_aug4.wav'),\n",
       " WindowsPath('augmented_test_dataset/20240929_023811_Dona_95-Ripeoutput.wav_aug5.wav'),\n",
       " WindowsPath('augmented_test_dataset/20240929_023811_Dona_95-Ripeoutput.wav_aug6.wav'),\n",
       " WindowsPath('augmented_test_dataset/20240929_023811_Dona_95-Ripeoutput.wav_aug7.wav'),\n",
       " WindowsPath('augmented_test_dataset/20240929_023811_Dona_95-Ripeoutput.wav_aug8.wav'),\n",
       " WindowsPath('augmented_test_dataset/20240929_023811_Dona_95-Ripeoutput.wav_aug9.wav'),\n",
       " WindowsPath('augmented_test_dataset/20240929_023815_Dona_95-Ripeoutput.wav_aug0.wav'),\n",
       " WindowsPath('augmented_test_dataset/20240929_023815_Dona_95-Ripeoutput.wav_aug1.wav'),\n",
       " WindowsPath('augmented_test_dataset/20240929_023815_Dona_95-Ripeoutput.wav_aug2.wav'),\n",
       " WindowsPath('augmented_test_dataset/20240929_023815_Dona_95-Ripeoutput.wav_aug3.wav'),\n",
       " WindowsPath('augmented_test_dataset/20240929_023815_Dona_95-Ripeoutput.wav_aug4.wav'),\n",
       " WindowsPath('augmented_test_dataset/20240929_023815_Dona_95-Ripeoutput.wav_aug5.wav'),\n",
       " WindowsPath('augmented_test_dataset/20240929_023815_Dona_95-Ripeoutput.wav_aug6.wav'),\n",
       " WindowsPath('augmented_test_dataset/20240929_023815_Dona_95-Ripeoutput.wav_aug7.wav'),\n",
       " WindowsPath('augmented_test_dataset/20240929_023815_Dona_95-Ripeoutput.wav_aug8.wav'),\n",
       " WindowsPath('augmented_test_dataset/20240929_023815_Dona_95-Ripeoutput.wav_aug9.wav'),\n",
       " WindowsPath('augmented_test_dataset/20240929_023820_Dona_95-Ripeoutput.wav_aug0.wav'),\n",
       " WindowsPath('augmented_test_dataset/20240929_023820_Dona_95-Ripeoutput.wav_aug1.wav'),\n",
       " WindowsPath('augmented_test_dataset/20240929_023820_Dona_95-Ripeoutput.wav_aug2.wav'),\n",
       " WindowsPath('augmented_test_dataset/20240929_023820_Dona_95-Ripeoutput.wav_aug3.wav'),\n",
       " WindowsPath('augmented_test_dataset/20240929_023820_Dona_95-Ripeoutput.wav_aug4.wav'),\n",
       " WindowsPath('augmented_test_dataset/20240929_023820_Dona_95-Ripeoutput.wav_aug5.wav'),\n",
       " WindowsPath('augmented_test_dataset/20240929_023820_Dona_95-Ripeoutput.wav_aug6.wav'),\n",
       " WindowsPath('augmented_test_dataset/20240929_023820_Dona_95-Ripeoutput.wav_aug7.wav'),\n",
       " WindowsPath('augmented_test_dataset/20240929_023820_Dona_95-Ripeoutput.wav_aug8.wav'),\n",
       " WindowsPath('augmented_test_dataset/20240929_023820_Dona_95-Ripeoutput.wav_aug9.wav'),\n",
       " WindowsPath('augmented_test_dataset/20240929_023827_Dona_95-Ripeoutput.wav_aug0.wav'),\n",
       " WindowsPath('augmented_test_dataset/20240929_023827_Dona_95-Ripeoutput.wav_aug1.wav'),\n",
       " WindowsPath('augmented_test_dataset/20240929_023827_Dona_95-Ripeoutput.wav_aug2.wav'),\n",
       " WindowsPath('augmented_test_dataset/20240929_023827_Dona_95-Ripeoutput.wav_aug3.wav'),\n",
       " WindowsPath('augmented_test_dataset/20240929_023827_Dona_95-Ripeoutput.wav_aug4.wav'),\n",
       " WindowsPath('augmented_test_dataset/20240929_023827_Dona_95-Ripeoutput.wav_aug5.wav'),\n",
       " WindowsPath('augmented_test_dataset/20240929_023827_Dona_95-Ripeoutput.wav_aug6.wav'),\n",
       " WindowsPath('augmented_test_dataset/20240929_023827_Dona_95-Ripeoutput.wav_aug7.wav'),\n",
       " WindowsPath('augmented_test_dataset/20240929_023827_Dona_95-Ripeoutput.wav_aug8.wav'),\n",
       " WindowsPath('augmented_test_dataset/20240929_023827_Dona_95-Ripeoutput.wav_aug9.wav'),\n",
       " WindowsPath('augmented_test_dataset/20240929_023858_Dona_95-Ripeoutput.wav_aug0.wav'),\n",
       " WindowsPath('augmented_test_dataset/20240929_023858_Dona_95-Ripeoutput.wav_aug1.wav'),\n",
       " WindowsPath('augmented_test_dataset/20240929_023858_Dona_95-Ripeoutput.wav_aug2.wav'),\n",
       " WindowsPath('augmented_test_dataset/20240929_023858_Dona_95-Ripeoutput.wav_aug3.wav'),\n",
       " WindowsPath('augmented_test_dataset/20240929_023858_Dona_95-Ripeoutput.wav_aug4.wav'),\n",
       " WindowsPath('augmented_test_dataset/20240929_023858_Dona_95-Ripeoutput.wav_aug5.wav'),\n",
       " WindowsPath('augmented_test_dataset/20240929_023858_Dona_95-Ripeoutput.wav_aug6.wav'),\n",
       " WindowsPath('augmented_test_dataset/20240929_023858_Dona_95-Ripeoutput.wav_aug7.wav'),\n",
       " WindowsPath('augmented_test_dataset/20240929_023858_Dona_95-Ripeoutput.wav_aug8.wav'),\n",
       " WindowsPath('augmented_test_dataset/20240929_023858_Dona_95-Ripeoutput.wav_aug9.wav'),\n",
       " WindowsPath('augmented_test_dataset/20240929_023901_Dona_95-Ripeoutput.wav_aug0.wav'),\n",
       " WindowsPath('augmented_test_dataset/20240929_023901_Dona_95-Ripeoutput.wav_aug1.wav'),\n",
       " WindowsPath('augmented_test_dataset/20240929_023901_Dona_95-Ripeoutput.wav_aug2.wav'),\n",
       " WindowsPath('augmented_test_dataset/20240929_023901_Dona_95-Ripeoutput.wav_aug3.wav'),\n",
       " WindowsPath('augmented_test_dataset/20240929_023901_Dona_95-Ripeoutput.wav_aug4.wav'),\n",
       " WindowsPath('augmented_test_dataset/20240929_023901_Dona_95-Ripeoutput.wav_aug5.wav'),\n",
       " WindowsPath('augmented_test_dataset/20240929_023901_Dona_95-Ripeoutput.wav_aug6.wav'),\n",
       " WindowsPath('augmented_test_dataset/20240929_023901_Dona_95-Ripeoutput.wav_aug7.wav'),\n",
       " WindowsPath('augmented_test_dataset/20240929_023901_Dona_95-Ripeoutput.wav_aug8.wav'),\n",
       " WindowsPath('augmented_test_dataset/20240929_023901_Dona_95-Ripeoutput.wav_aug9.wav'),\n",
       " WindowsPath('augmented_test_dataset/20240929_023906_Dona_95-Ripeoutput.wav_aug0.wav'),\n",
       " WindowsPath('augmented_test_dataset/20240929_023906_Dona_95-Ripeoutput.wav_aug1.wav'),\n",
       " WindowsPath('augmented_test_dataset/20240929_023906_Dona_95-Ripeoutput.wav_aug2.wav'),\n",
       " WindowsPath('augmented_test_dataset/20240929_023906_Dona_95-Ripeoutput.wav_aug3.wav'),\n",
       " WindowsPath('augmented_test_dataset/20240929_023906_Dona_95-Ripeoutput.wav_aug4.wav'),\n",
       " WindowsPath('augmented_test_dataset/20240929_023906_Dona_95-Ripeoutput.wav_aug5.wav'),\n",
       " WindowsPath('augmented_test_dataset/20240929_023906_Dona_95-Ripeoutput.wav_aug6.wav'),\n",
       " WindowsPath('augmented_test_dataset/20240929_023906_Dona_95-Ripeoutput.wav_aug7.wav'),\n",
       " WindowsPath('augmented_test_dataset/20240929_023906_Dona_95-Ripeoutput.wav_aug8.wav'),\n",
       " WindowsPath('augmented_test_dataset/20240929_023906_Dona_95-Ripeoutput.wav_aug9.wav'),\n",
       " WindowsPath('augmented_test_dataset/20240929_023911_Dona_95-Ripeoutput.wav_aug0.wav'),\n",
       " WindowsPath('augmented_test_dataset/20240929_023911_Dona_95-Ripeoutput.wav_aug1.wav'),\n",
       " WindowsPath('augmented_test_dataset/20240929_023911_Dona_95-Ripeoutput.wav_aug2.wav'),\n",
       " WindowsPath('augmented_test_dataset/20240929_023911_Dona_95-Ripeoutput.wav_aug3.wav'),\n",
       " WindowsPath('augmented_test_dataset/20240929_023911_Dona_95-Ripeoutput.wav_aug4.wav'),\n",
       " WindowsPath('augmented_test_dataset/20240929_023911_Dona_95-Ripeoutput.wav_aug5.wav'),\n",
       " WindowsPath('augmented_test_dataset/20240929_023911_Dona_95-Ripeoutput.wav_aug6.wav'),\n",
       " WindowsPath('augmented_test_dataset/20240929_023911_Dona_95-Ripeoutput.wav_aug7.wav'),\n",
       " WindowsPath('augmented_test_dataset/20240929_023911_Dona_95-Ripeoutput.wav_aug8.wav'),\n",
       " WindowsPath('augmented_test_dataset/20240929_023911_Dona_95-Ripeoutput.wav_aug9.wav'),\n",
       " WindowsPath('augmented_test_dataset/20240929_023919_Dona_95-Ripeoutput.wav_aug0.wav'),\n",
       " WindowsPath('augmented_test_dataset/20240929_023919_Dona_95-Ripeoutput.wav_aug1.wav'),\n",
       " WindowsPath('augmented_test_dataset/20240929_023919_Dona_95-Ripeoutput.wav_aug2.wav'),\n",
       " WindowsPath('augmented_test_dataset/20240929_023919_Dona_95-Ripeoutput.wav_aug3.wav'),\n",
       " WindowsPath('augmented_test_dataset/20240929_023919_Dona_95-Ripeoutput.wav_aug4.wav'),\n",
       " WindowsPath('augmented_test_dataset/20240929_023919_Dona_95-Ripeoutput.wav_aug5.wav'),\n",
       " WindowsPath('augmented_test_dataset/20240929_023919_Dona_95-Ripeoutput.wav_aug6.wav'),\n",
       " WindowsPath('augmented_test_dataset/20240929_023919_Dona_95-Ripeoutput.wav_aug7.wav'),\n",
       " WindowsPath('augmented_test_dataset/20240929_023919_Dona_95-Ripeoutput.wav_aug8.wav'),\n",
       " WindowsPath('augmented_test_dataset/20240929_023919_Dona_95-Ripeoutput.wav_aug9.wav'),\n",
       " WindowsPath('augmented_test_dataset/20240929_023934_Dona_95-Ripeoutput.wav_aug0.wav'),\n",
       " WindowsPath('augmented_test_dataset/20240929_023934_Dona_95-Ripeoutput.wav_aug1.wav'),\n",
       " WindowsPath('augmented_test_dataset/20240929_023934_Dona_95-Ripeoutput.wav_aug2.wav'),\n",
       " WindowsPath('augmented_test_dataset/20240929_023934_Dona_95-Ripeoutput.wav_aug3.wav'),\n",
       " WindowsPath('augmented_test_dataset/20240929_023934_Dona_95-Ripeoutput.wav_aug4.wav'),\n",
       " WindowsPath('augmented_test_dataset/20240929_023934_Dona_95-Ripeoutput.wav_aug5.wav'),\n",
       " WindowsPath('augmented_test_dataset/20240929_023934_Dona_95-Ripeoutput.wav_aug6.wav'),\n",
       " WindowsPath('augmented_test_dataset/20240929_023934_Dona_95-Ripeoutput.wav_aug7.wav'),\n",
       " WindowsPath('augmented_test_dataset/20240929_023934_Dona_95-Ripeoutput.wav_aug8.wav'),\n",
       " WindowsPath('augmented_test_dataset/20240929_023934_Dona_95-Ripeoutput.wav_aug9.wav'),\n",
       " WindowsPath('augmented_test_dataset/20240929_023938_Dona_95-Ripeoutput.wav_aug0.wav'),\n",
       " WindowsPath('augmented_test_dataset/20240929_023938_Dona_95-Ripeoutput.wav_aug1.wav'),\n",
       " WindowsPath('augmented_test_dataset/20240929_023938_Dona_95-Ripeoutput.wav_aug2.wav'),\n",
       " WindowsPath('augmented_test_dataset/20240929_023938_Dona_95-Ripeoutput.wav_aug3.wav'),\n",
       " WindowsPath('augmented_test_dataset/20240929_023938_Dona_95-Ripeoutput.wav_aug4.wav'),\n",
       " WindowsPath('augmented_test_dataset/20240929_023938_Dona_95-Ripeoutput.wav_aug5.wav'),\n",
       " WindowsPath('augmented_test_dataset/20240929_023938_Dona_95-Ripeoutput.wav_aug6.wav'),\n",
       " WindowsPath('augmented_test_dataset/20240929_023938_Dona_95-Ripeoutput.wav_aug7.wav'),\n",
       " WindowsPath('augmented_test_dataset/20240929_023938_Dona_95-Ripeoutput.wav_aug8.wav'),\n",
       " WindowsPath('augmented_test_dataset/20240929_023938_Dona_95-Ripeoutput.wav_aug9.wav'),\n",
       " WindowsPath('augmented_test_dataset/20240929_024014_Dona_75-85%output.wav_aug0.wav'),\n",
       " WindowsPath('augmented_test_dataset/20240929_024014_Dona_75-85%output.wav_aug1.wav'),\n",
       " WindowsPath('augmented_test_dataset/20240929_024014_Dona_75-85%output.wav_aug2.wav'),\n",
       " WindowsPath('augmented_test_dataset/20240929_024014_Dona_75-85%output.wav_aug3.wav'),\n",
       " WindowsPath('augmented_test_dataset/20240929_024014_Dona_75-85%output.wav_aug4.wav'),\n",
       " WindowsPath('augmented_test_dataset/20240929_024014_Dona_75-85%output.wav_aug5.wav'),\n",
       " WindowsPath('augmented_test_dataset/20240929_024014_Dona_75-85%output.wav_aug6.wav'),\n",
       " WindowsPath('augmented_test_dataset/20240929_024014_Dona_75-85%output.wav_aug7.wav'),\n",
       " WindowsPath('augmented_test_dataset/20240929_024014_Dona_75-85%output.wav_aug8.wav'),\n",
       " WindowsPath('augmented_test_dataset/20240929_024014_Dona_75-85%output.wav_aug9.wav'),\n",
       " WindowsPath('augmented_test_dataset/20240929_024017_Dona_75-85%output.wav_aug0.wav'),\n",
       " WindowsPath('augmented_test_dataset/20240929_024017_Dona_75-85%output.wav_aug1.wav'),\n",
       " WindowsPath('augmented_test_dataset/20240929_024017_Dona_75-85%output.wav_aug2.wav'),\n",
       " WindowsPath('augmented_test_dataset/20240929_024017_Dona_75-85%output.wav_aug3.wav'),\n",
       " WindowsPath('augmented_test_dataset/20240929_024017_Dona_75-85%output.wav_aug4.wav'),\n",
       " WindowsPath('augmented_test_dataset/20240929_024017_Dona_75-85%output.wav_aug5.wav'),\n",
       " WindowsPath('augmented_test_dataset/20240929_024017_Dona_75-85%output.wav_aug6.wav'),\n",
       " WindowsPath('augmented_test_dataset/20240929_024017_Dona_75-85%output.wav_aug7.wav'),\n",
       " WindowsPath('augmented_test_dataset/20240929_024017_Dona_75-85%output.wav_aug8.wav'),\n",
       " WindowsPath('augmented_test_dataset/20240929_024017_Dona_75-85%output.wav_aug9.wav'),\n",
       " WindowsPath('augmented_test_dataset/20240929_024027_Dona_75-85%output.wav_aug0.wav'),\n",
       " WindowsPath('augmented_test_dataset/20240929_024027_Dona_75-85%output.wav_aug1.wav'),\n",
       " WindowsPath('augmented_test_dataset/20240929_024027_Dona_75-85%output.wav_aug2.wav'),\n",
       " WindowsPath('augmented_test_dataset/20240929_024027_Dona_75-85%output.wav_aug3.wav'),\n",
       " WindowsPath('augmented_test_dataset/20240929_024027_Dona_75-85%output.wav_aug4.wav'),\n",
       " WindowsPath('augmented_test_dataset/20240929_024027_Dona_75-85%output.wav_aug5.wav'),\n",
       " WindowsPath('augmented_test_dataset/20240929_024027_Dona_75-85%output.wav_aug6.wav'),\n",
       " WindowsPath('augmented_test_dataset/20240929_024027_Dona_75-85%output.wav_aug7.wav'),\n",
       " WindowsPath('augmented_test_dataset/20240929_024027_Dona_75-85%output.wav_aug8.wav'),\n",
       " WindowsPath('augmented_test_dataset/20240929_024027_Dona_75-85%output.wav_aug9.wav'),\n",
       " WindowsPath('augmented_test_dataset/20240929_024030_Dona_75-85%output.wav_aug0.wav'),\n",
       " WindowsPath('augmented_test_dataset/20240929_024030_Dona_75-85%output.wav_aug1.wav'),\n",
       " WindowsPath('augmented_test_dataset/20240929_024030_Dona_75-85%output.wav_aug2.wav'),\n",
       " WindowsPath('augmented_test_dataset/20240929_024030_Dona_75-85%output.wav_aug3.wav'),\n",
       " WindowsPath('augmented_test_dataset/20240929_024030_Dona_75-85%output.wav_aug4.wav'),\n",
       " WindowsPath('augmented_test_dataset/20240929_024030_Dona_75-85%output.wav_aug5.wav'),\n",
       " WindowsPath('augmented_test_dataset/20240929_024030_Dona_75-85%output.wav_aug6.wav'),\n",
       " WindowsPath('augmented_test_dataset/20240929_024030_Dona_75-85%output.wav_aug7.wav'),\n",
       " WindowsPath('augmented_test_dataset/20240929_024030_Dona_75-85%output.wav_aug8.wav'),\n",
       " WindowsPath('augmented_test_dataset/20240929_024030_Dona_75-85%output.wav_aug9.wav'),\n",
       " WindowsPath('augmented_test_dataset/20240929_024314_Dona_95-Ripeoutput.wav_aug0.wav'),\n",
       " WindowsPath('augmented_test_dataset/20240929_024314_Dona_95-Ripeoutput.wav_aug1.wav'),\n",
       " WindowsPath('augmented_test_dataset/20240929_024314_Dona_95-Ripeoutput.wav_aug2.wav'),\n",
       " WindowsPath('augmented_test_dataset/20240929_024314_Dona_95-Ripeoutput.wav_aug3.wav'),\n",
       " WindowsPath('augmented_test_dataset/20240929_024314_Dona_95-Ripeoutput.wav_aug4.wav'),\n",
       " WindowsPath('augmented_test_dataset/20240929_024314_Dona_95-Ripeoutput.wav_aug5.wav'),\n",
       " WindowsPath('augmented_test_dataset/20240929_024314_Dona_95-Ripeoutput.wav_aug6.wav'),\n",
       " WindowsPath('augmented_test_dataset/20240929_024314_Dona_95-Ripeoutput.wav_aug7.wav'),\n",
       " WindowsPath('augmented_test_dataset/20240929_024314_Dona_95-Ripeoutput.wav_aug8.wav'),\n",
       " WindowsPath('augmented_test_dataset/20240929_024314_Dona_95-Ripeoutput.wav_aug9.wav'),\n",
       " WindowsPath('augmented_test_dataset/20240929_024325_Dona_95-Ripeoutput.wav_aug0.wav'),\n",
       " WindowsPath('augmented_test_dataset/20240929_024325_Dona_95-Ripeoutput.wav_aug1.wav'),\n",
       " WindowsPath('augmented_test_dataset/20240929_024325_Dona_95-Ripeoutput.wav_aug2.wav'),\n",
       " WindowsPath('augmented_test_dataset/20240929_024325_Dona_95-Ripeoutput.wav_aug3.wav'),\n",
       " WindowsPath('augmented_test_dataset/20240929_024325_Dona_95-Ripeoutput.wav_aug4.wav'),\n",
       " WindowsPath('augmented_test_dataset/20240929_024325_Dona_95-Ripeoutput.wav_aug5.wav'),\n",
       " WindowsPath('augmented_test_dataset/20240929_024325_Dona_95-Ripeoutput.wav_aug6.wav'),\n",
       " WindowsPath('augmented_test_dataset/20240929_024325_Dona_95-Ripeoutput.wav_aug7.wav'),\n",
       " WindowsPath('augmented_test_dataset/20240929_024325_Dona_95-Ripeoutput.wav_aug8.wav'),\n",
       " WindowsPath('augmented_test_dataset/20240929_024325_Dona_95-Ripeoutput.wav_aug9.wav'),\n",
       " WindowsPath('augmented_test_dataset/20240929_024329_Dona_95-Ripeoutput.wav_aug0.wav'),\n",
       " WindowsPath('augmented_test_dataset/20240929_024329_Dona_95-Ripeoutput.wav_aug1.wav'),\n",
       " WindowsPath('augmented_test_dataset/20240929_024329_Dona_95-Ripeoutput.wav_aug2.wav'),\n",
       " WindowsPath('augmented_test_dataset/20240929_024329_Dona_95-Ripeoutput.wav_aug3.wav'),\n",
       " WindowsPath('augmented_test_dataset/20240929_024329_Dona_95-Ripeoutput.wav_aug4.wav'),\n",
       " WindowsPath('augmented_test_dataset/20240929_024329_Dona_95-Ripeoutput.wav_aug5.wav'),\n",
       " WindowsPath('augmented_test_dataset/20240929_024329_Dona_95-Ripeoutput.wav_aug6.wav'),\n",
       " WindowsPath('augmented_test_dataset/20240929_024329_Dona_95-Ripeoutput.wav_aug7.wav'),\n",
       " WindowsPath('augmented_test_dataset/20240929_024329_Dona_95-Ripeoutput.wav_aug8.wav'),\n",
       " WindowsPath('augmented_test_dataset/20240929_024329_Dona_95-Ripeoutput.wav_aug9.wav'),\n",
       " WindowsPath('augmented_test_dataset/20240929_024345_Dona_95-Ripeoutput.wav_aug0.wav'),\n",
       " WindowsPath('augmented_test_dataset/20240929_024345_Dona_95-Ripeoutput.wav_aug1.wav'),\n",
       " WindowsPath('augmented_test_dataset/20240929_024345_Dona_95-Ripeoutput.wav_aug2.wav'),\n",
       " WindowsPath('augmented_test_dataset/20240929_024345_Dona_95-Ripeoutput.wav_aug3.wav'),\n",
       " WindowsPath('augmented_test_dataset/20240929_024345_Dona_95-Ripeoutput.wav_aug4.wav'),\n",
       " WindowsPath('augmented_test_dataset/20240929_024345_Dona_95-Ripeoutput.wav_aug5.wav'),\n",
       " WindowsPath('augmented_test_dataset/20240929_024345_Dona_95-Ripeoutput.wav_aug6.wav'),\n",
       " WindowsPath('augmented_test_dataset/20240929_024345_Dona_95-Ripeoutput.wav_aug7.wav'),\n",
       " WindowsPath('augmented_test_dataset/20240929_024345_Dona_95-Ripeoutput.wav_aug8.wav'),\n",
       " WindowsPath('augmented_test_dataset/20240929_024345_Dona_95-Ripeoutput.wav_aug9.wav'),\n",
       " WindowsPath('augmented_test_dataset/20240929_024402_Dona_75-85%output.wav_aug0.wav'),\n",
       " WindowsPath('augmented_test_dataset/20240929_024402_Dona_75-85%output.wav_aug1.wav'),\n",
       " WindowsPath('augmented_test_dataset/20240929_024402_Dona_75-85%output.wav_aug2.wav'),\n",
       " WindowsPath('augmented_test_dataset/20240929_024402_Dona_75-85%output.wav_aug3.wav'),\n",
       " WindowsPath('augmented_test_dataset/20240929_024402_Dona_75-85%output.wav_aug4.wav'),\n",
       " WindowsPath('augmented_test_dataset/20240929_024402_Dona_75-85%output.wav_aug5.wav'),\n",
       " WindowsPath('augmented_test_dataset/20240929_024402_Dona_75-85%output.wav_aug6.wav'),\n",
       " WindowsPath('augmented_test_dataset/20240929_024402_Dona_75-85%output.wav_aug7.wav'),\n",
       " WindowsPath('augmented_test_dataset/20240929_024402_Dona_75-85%output.wav_aug8.wav'),\n",
       " WindowsPath('augmented_test_dataset/20240929_024402_Dona_75-85%output.wav_aug9.wav'),\n",
       " WindowsPath('augmented_test_dataset/20240929_024406_Dona_75-85%output.wav_aug0.wav'),\n",
       " WindowsPath('augmented_test_dataset/20240929_024406_Dona_75-85%output.wav_aug1.wav'),\n",
       " WindowsPath('augmented_test_dataset/20240929_024406_Dona_75-85%output.wav_aug2.wav'),\n",
       " WindowsPath('augmented_test_dataset/20240929_024406_Dona_75-85%output.wav_aug3.wav'),\n",
       " WindowsPath('augmented_test_dataset/20240929_024406_Dona_75-85%output.wav_aug4.wav'),\n",
       " WindowsPath('augmented_test_dataset/20240929_024406_Dona_75-85%output.wav_aug5.wav'),\n",
       " WindowsPath('augmented_test_dataset/20240929_024406_Dona_75-85%output.wav_aug6.wav'),\n",
       " WindowsPath('augmented_test_dataset/20240929_024406_Dona_75-85%output.wav_aug7.wav'),\n",
       " WindowsPath('augmented_test_dataset/20240929_024406_Dona_75-85%output.wav_aug8.wav'),\n",
       " WindowsPath('augmented_test_dataset/20240929_024406_Dona_75-85%output.wav_aug9.wav'),\n",
       " WindowsPath('augmented_test_dataset/20240929_024419_Dona_75-85%output.wav_aug0.wav'),\n",
       " WindowsPath('augmented_test_dataset/20240929_024419_Dona_75-85%output.wav_aug1.wav'),\n",
       " WindowsPath('augmented_test_dataset/20240929_024419_Dona_75-85%output.wav_aug2.wav'),\n",
       " WindowsPath('augmented_test_dataset/20240929_024419_Dona_75-85%output.wav_aug3.wav'),\n",
       " WindowsPath('augmented_test_dataset/20240929_024419_Dona_75-85%output.wav_aug4.wav'),\n",
       " WindowsPath('augmented_test_dataset/20240929_024419_Dona_75-85%output.wav_aug5.wav'),\n",
       " WindowsPath('augmented_test_dataset/20240929_024419_Dona_75-85%output.wav_aug6.wav'),\n",
       " WindowsPath('augmented_test_dataset/20240929_024419_Dona_75-85%output.wav_aug7.wav'),\n",
       " WindowsPath('augmented_test_dataset/20240929_024419_Dona_75-85%output.wav_aug8.wav'),\n",
       " WindowsPath('augmented_test_dataset/20240929_024419_Dona_75-85%output.wav_aug9.wav'),\n",
       " WindowsPath('augmented_test_dataset/20240929_024426_Dona_75-85%output.wav_aug0.wav'),\n",
       " WindowsPath('augmented_test_dataset/20240929_024426_Dona_75-85%output.wav_aug1.wav'),\n",
       " WindowsPath('augmented_test_dataset/20240929_024426_Dona_75-85%output.wav_aug2.wav'),\n",
       " WindowsPath('augmented_test_dataset/20240929_024426_Dona_75-85%output.wav_aug3.wav'),\n",
       " WindowsPath('augmented_test_dataset/20240929_024426_Dona_75-85%output.wav_aug4.wav'),\n",
       " WindowsPath('augmented_test_dataset/20240929_024426_Dona_75-85%output.wav_aug5.wav'),\n",
       " WindowsPath('augmented_test_dataset/20240929_024426_Dona_75-85%output.wav_aug6.wav'),\n",
       " WindowsPath('augmented_test_dataset/20240929_024426_Dona_75-85%output.wav_aug7.wav'),\n",
       " WindowsPath('augmented_test_dataset/20240929_024426_Dona_75-85%output.wav_aug8.wav'),\n",
       " WindowsPath('augmented_test_dataset/20240929_024426_Dona_75-85%output.wav_aug9.wav'),\n",
       " WindowsPath('augmented_test_dataset/20240929_024435_Dona_95-Ripeoutput.wav_aug0.wav'),\n",
       " WindowsPath('augmented_test_dataset/20240929_024435_Dona_95-Ripeoutput.wav_aug1.wav'),\n",
       " WindowsPath('augmented_test_dataset/20240929_024435_Dona_95-Ripeoutput.wav_aug2.wav'),\n",
       " WindowsPath('augmented_test_dataset/20240929_024435_Dona_95-Ripeoutput.wav_aug3.wav'),\n",
       " WindowsPath('augmented_test_dataset/20240929_024435_Dona_95-Ripeoutput.wav_aug4.wav'),\n",
       " WindowsPath('augmented_test_dataset/20240929_024435_Dona_95-Ripeoutput.wav_aug5.wav'),\n",
       " WindowsPath('augmented_test_dataset/20240929_024435_Dona_95-Ripeoutput.wav_aug6.wav'),\n",
       " WindowsPath('augmented_test_dataset/20240929_024435_Dona_95-Ripeoutput.wav_aug7.wav'),\n",
       " WindowsPath('augmented_test_dataset/20240929_024435_Dona_95-Ripeoutput.wav_aug8.wav'),\n",
       " WindowsPath('augmented_test_dataset/20240929_024435_Dona_95-Ripeoutput.wav_aug9.wav'),\n",
       " WindowsPath('augmented_test_dataset/20240929_024443_Dona_95-Ripeoutput.wav_aug0.wav'),\n",
       " WindowsPath('augmented_test_dataset/20240929_024443_Dona_95-Ripeoutput.wav_aug1.wav'),\n",
       " WindowsPath('augmented_test_dataset/20240929_024443_Dona_95-Ripeoutput.wav_aug2.wav'),\n",
       " WindowsPath('augmented_test_dataset/20240929_024443_Dona_95-Ripeoutput.wav_aug3.wav'),\n",
       " WindowsPath('augmented_test_dataset/20240929_024443_Dona_95-Ripeoutput.wav_aug4.wav'),\n",
       " WindowsPath('augmented_test_dataset/20240929_024443_Dona_95-Ripeoutput.wav_aug5.wav'),\n",
       " WindowsPath('augmented_test_dataset/20240929_024443_Dona_95-Ripeoutput.wav_aug6.wav'),\n",
       " WindowsPath('augmented_test_dataset/20240929_024443_Dona_95-Ripeoutput.wav_aug7.wav'),\n",
       " WindowsPath('augmented_test_dataset/20240929_024443_Dona_95-Ripeoutput.wav_aug8.wav'),\n",
       " WindowsPath('augmented_test_dataset/20240929_024443_Dona_95-Ripeoutput.wav_aug9.wav'),\n",
       " WindowsPath('augmented_test_dataset/20240929_024503_Dona_75-85%output.wav_aug0.wav'),\n",
       " WindowsPath('augmented_test_dataset/20240929_024503_Dona_75-85%output.wav_aug1.wav'),\n",
       " WindowsPath('augmented_test_dataset/20240929_024503_Dona_75-85%output.wav_aug2.wav'),\n",
       " WindowsPath('augmented_test_dataset/20240929_024503_Dona_75-85%output.wav_aug3.wav'),\n",
       " WindowsPath('augmented_test_dataset/20240929_024503_Dona_75-85%output.wav_aug4.wav'),\n",
       " WindowsPath('augmented_test_dataset/20240929_024503_Dona_75-85%output.wav_aug5.wav'),\n",
       " WindowsPath('augmented_test_dataset/20240929_024503_Dona_75-85%output.wav_aug6.wav'),\n",
       " WindowsPath('augmented_test_dataset/20240929_024503_Dona_75-85%output.wav_aug7.wav'),\n",
       " WindowsPath('augmented_test_dataset/20240929_024503_Dona_75-85%output.wav_aug8.wav'),\n",
       " WindowsPath('augmented_test_dataset/20240929_024503_Dona_75-85%output.wav_aug9.wav'),\n",
       " WindowsPath('augmented_test_dataset/20240929_024510_Dona_75-85%output.wav_aug0.wav'),\n",
       " WindowsPath('augmented_test_dataset/20240929_024510_Dona_75-85%output.wav_aug1.wav'),\n",
       " WindowsPath('augmented_test_dataset/20240929_024510_Dona_75-85%output.wav_aug2.wav'),\n",
       " WindowsPath('augmented_test_dataset/20240929_024510_Dona_75-85%output.wav_aug3.wav'),\n",
       " WindowsPath('augmented_test_dataset/20240929_024510_Dona_75-85%output.wav_aug4.wav'),\n",
       " WindowsPath('augmented_test_dataset/20240929_024510_Dona_75-85%output.wav_aug5.wav'),\n",
       " WindowsPath('augmented_test_dataset/20240929_024510_Dona_75-85%output.wav_aug6.wav'),\n",
       " WindowsPath('augmented_test_dataset/20240929_024510_Dona_75-85%output.wav_aug7.wav'),\n",
       " WindowsPath('augmented_test_dataset/20240929_024510_Dona_75-85%output.wav_aug8.wav'),\n",
       " WindowsPath('augmented_test_dataset/20240929_024510_Dona_75-85%output.wav_aug9.wav'),\n",
       " WindowsPath('augmented_test_dataset/20240929_024513_Dona_75-85%output.wav_aug0.wav'),\n",
       " WindowsPath('augmented_test_dataset/20240929_024513_Dona_75-85%output.wav_aug1.wav'),\n",
       " WindowsPath('augmented_test_dataset/20240929_024513_Dona_75-85%output.wav_aug2.wav'),\n",
       " WindowsPath('augmented_test_dataset/20240929_024513_Dona_75-85%output.wav_aug3.wav'),\n",
       " WindowsPath('augmented_test_dataset/20240929_024513_Dona_75-85%output.wav_aug4.wav'),\n",
       " WindowsPath('augmented_test_dataset/20240929_024513_Dona_75-85%output.wav_aug5.wav'),\n",
       " WindowsPath('augmented_test_dataset/20240929_024513_Dona_75-85%output.wav_aug6.wav'),\n",
       " WindowsPath('augmented_test_dataset/20240929_024513_Dona_75-85%output.wav_aug7.wav'),\n",
       " WindowsPath('augmented_test_dataset/20240929_024513_Dona_75-85%output.wav_aug8.wav'),\n",
       " WindowsPath('augmented_test_dataset/20240929_024513_Dona_75-85%output.wav_aug9.wav'),\n",
       " WindowsPath('augmented_test_dataset/20240929_024517_Dona_75-85%output.wav_aug0.wav'),\n",
       " WindowsPath('augmented_test_dataset/20240929_024517_Dona_75-85%output.wav_aug1.wav'),\n",
       " WindowsPath('augmented_test_dataset/20240929_024517_Dona_75-85%output.wav_aug2.wav'),\n",
       " WindowsPath('augmented_test_dataset/20240929_024517_Dona_75-85%output.wav_aug3.wav'),\n",
       " WindowsPath('augmented_test_dataset/20240929_024517_Dona_75-85%output.wav_aug4.wav'),\n",
       " WindowsPath('augmented_test_dataset/20240929_024517_Dona_75-85%output.wav_aug5.wav'),\n",
       " WindowsPath('augmented_test_dataset/20240929_024517_Dona_75-85%output.wav_aug6.wav'),\n",
       " WindowsPath('augmented_test_dataset/20240929_024517_Dona_75-85%output.wav_aug7.wav'),\n",
       " WindowsPath('augmented_test_dataset/20240929_024517_Dona_75-85%output.wav_aug8.wav'),\n",
       " WindowsPath('augmented_test_dataset/20240929_024517_Dona_75-85%output.wav_aug9.wav')]"
      ]
     },
     "execution_count": 173,
     "metadata": {},
     "output_type": "execute_result"
    }
   ],
   "source": [
    "augmented_test_files"
   ]
  },
  {
   "cell_type": "code",
   "execution_count": 195,
   "id": "b3a556a4",
   "metadata": {},
   "outputs": [],
   "source": [
    "n_mfcc     = 40        # number of coefficients\n",
    "n_fft      = 2048      # window size STFT\n",
    "hop_length = 512\n",
    "\n",
    "def compute_mfcc(lst: list, parent: Path):\n",
    "  for fn in lst:\n",
    "      y, sr = librosa.load(parent / fn, sr=None)\n",
    "      mfcc_features = librosa.feature.mfcc(y=y, sr=sr, n_mfcc=n_mfcc, n_fft=n_fft, hop_length=hop_length)\n",
    "      yield librosa.util.normalize(mfcc_features, axis=1)"
   ]
  },
  {
   "cell_type": "code",
   "execution_count": 196,
   "id": "4cce4818",
   "metadata": {},
   "outputs": [
    {
     "ename": "FileNotFoundError",
     "evalue": "[Errno 2] No such file or directory: 'augmented_test_dataset\\\\20240929_023353_Dona_75-85%output.wav_aug0.wav'",
     "output_type": "error",
     "traceback": [
      "\u001b[31m---------------------------------------------------------------------------\u001b[39m",
      "\u001b[31mLibsndfileError\u001b[39m                           Traceback (most recent call last)",
      "\u001b[36mFile \u001b[39m\u001b[32mc:\\Users\\Tom\\Documents\\Durian_internship\\.venv\\Lib\\site-packages\\librosa\\core\\audio.py:175\u001b[39m, in \u001b[36mload\u001b[39m\u001b[34m(path, sr, mono, offset, duration, dtype, res_type)\u001b[39m\n\u001b[32m    174\u001b[39m \u001b[38;5;28;01mtry\u001b[39;00m:\n\u001b[32m--> \u001b[39m\u001b[32m175\u001b[39m     y, sr_native = \u001b[43m__soundfile_load\u001b[49m\u001b[43m(\u001b[49m\u001b[43mpath\u001b[49m\u001b[43m,\u001b[49m\u001b[43m \u001b[49m\u001b[43moffset\u001b[49m\u001b[43m,\u001b[49m\u001b[43m \u001b[49m\u001b[43mduration\u001b[49m\u001b[43m,\u001b[49m\u001b[43m \u001b[49m\u001b[43mdtype\u001b[49m\u001b[43m)\u001b[49m\n\u001b[32m    177\u001b[39m \u001b[38;5;28;01mexcept\u001b[39;00m sf.SoundFileRuntimeError \u001b[38;5;28;01mas\u001b[39;00m exc:\n\u001b[32m    178\u001b[39m     \u001b[38;5;66;03m# If soundfile failed, try audioread instead\u001b[39;00m\n",
      "\u001b[36mFile \u001b[39m\u001b[32mc:\\Users\\Tom\\Documents\\Durian_internship\\.venv\\Lib\\site-packages\\librosa\\core\\audio.py:208\u001b[39m, in \u001b[36m__soundfile_load\u001b[39m\u001b[34m(path, offset, duration, dtype)\u001b[39m\n\u001b[32m    206\u001b[39m \u001b[38;5;28;01melse\u001b[39;00m:\n\u001b[32m    207\u001b[39m     \u001b[38;5;66;03m# Otherwise, create the soundfile object\u001b[39;00m\n\u001b[32m--> \u001b[39m\u001b[32m208\u001b[39m     context = \u001b[43msf\u001b[49m\u001b[43m.\u001b[49m\u001b[43mSoundFile\u001b[49m\u001b[43m(\u001b[49m\u001b[43mpath\u001b[49m\u001b[43m)\u001b[49m\n\u001b[32m    210\u001b[39m \u001b[38;5;28;01mwith\u001b[39;00m context \u001b[38;5;28;01mas\u001b[39;00m sf_desc:\n",
      "\u001b[36mFile \u001b[39m\u001b[32mc:\\Users\\Tom\\Documents\\Durian_internship\\.venv\\Lib\\site-packages\\soundfile.py:690\u001b[39m, in \u001b[36mSoundFile.__init__\u001b[39m\u001b[34m(self, file, mode, samplerate, channels, subtype, endian, format, closefd, compression_level, bitrate_mode)\u001b[39m\n\u001b[32m    688\u001b[39m \u001b[38;5;28mself\u001b[39m._info = _create_info_struct(file, mode, samplerate, channels,\n\u001b[32m    689\u001b[39m                                  \u001b[38;5;28mformat\u001b[39m, subtype, endian)\n\u001b[32m--> \u001b[39m\u001b[32m690\u001b[39m \u001b[38;5;28mself\u001b[39m._file = \u001b[38;5;28;43mself\u001b[39;49m\u001b[43m.\u001b[49m\u001b[43m_open\u001b[49m\u001b[43m(\u001b[49m\u001b[43mfile\u001b[49m\u001b[43m,\u001b[49m\u001b[43m \u001b[49m\u001b[43mmode_int\u001b[49m\u001b[43m,\u001b[49m\u001b[43m \u001b[49m\u001b[43mclosefd\u001b[49m\u001b[43m)\u001b[49m\n\u001b[32m    691\u001b[39m \u001b[38;5;28;01mif\u001b[39;00m \u001b[38;5;28mset\u001b[39m(mode).issuperset(\u001b[33m'\u001b[39m\u001b[33mr+\u001b[39m\u001b[33m'\u001b[39m) \u001b[38;5;129;01mand\u001b[39;00m \u001b[38;5;28mself\u001b[39m.seekable():\n\u001b[32m    692\u001b[39m     \u001b[38;5;66;03m# Move write position to 0 (like in Python file objects)\u001b[39;00m\n",
      "\u001b[36mFile \u001b[39m\u001b[32mc:\\Users\\Tom\\Documents\\Durian_internship\\.venv\\Lib\\site-packages\\soundfile.py:1265\u001b[39m, in \u001b[36mSoundFile._open\u001b[39m\u001b[34m(self, file, mode_int, closefd)\u001b[39m\n\u001b[32m   1264\u001b[39m     err = _snd.sf_error(file_ptr)\n\u001b[32m-> \u001b[39m\u001b[32m1265\u001b[39m     \u001b[38;5;28;01mraise\u001b[39;00m LibsndfileError(err, prefix=\u001b[33m\"\u001b[39m\u001b[33mError opening \u001b[39m\u001b[38;5;132;01m{0!r}\u001b[39;00m\u001b[33m: \u001b[39m\u001b[33m\"\u001b[39m.format(\u001b[38;5;28mself\u001b[39m.name))\n\u001b[32m   1266\u001b[39m \u001b[38;5;28;01mif\u001b[39;00m mode_int == _snd.SFM_WRITE:\n\u001b[32m   1267\u001b[39m     \u001b[38;5;66;03m# Due to a bug in libsndfile version <= 1.0.25, frames != 0\u001b[39;00m\n\u001b[32m   1268\u001b[39m     \u001b[38;5;66;03m# when opening a named pipe in SFM_WRITE mode.\u001b[39;00m\n\u001b[32m   1269\u001b[39m     \u001b[38;5;66;03m# See http://github.com/erikd/libsndfile/issues/77.\u001b[39;00m\n",
      "\u001b[31mLibsndfileError\u001b[39m: Error opening 'augmented_test_dataset\\\\20240929_023353_Dona_75-85%output.wav_aug0.wav': System error.",
      "\nDuring handling of the above exception, another exception occurred:\n",
      "\u001b[31mFileNotFoundError\u001b[39m                         Traceback (most recent call last)",
      "\u001b[36mCell\u001b[39m\u001b[36m \u001b[39m\u001b[32mIn[196]\u001b[39m\u001b[32m, line 1\u001b[39m\n\u001b[32m----> \u001b[39m\u001b[32m1\u001b[39m mfcc_test = [*compute_mfcc(test_files_final, parent=Path(out_test_path))]\n\u001b[32m      2\u001b[39m mfcc_train = [*compute_mfcc(train_files_final, parent=Path(out_train_path))]\n",
      "\u001b[36mCell\u001b[39m\u001b[36m \u001b[39m\u001b[32mIn[195]\u001b[39m\u001b[32m, line 7\u001b[39m, in \u001b[36mcompute_mfcc\u001b[39m\u001b[34m(lst, parent)\u001b[39m\n\u001b[32m      5\u001b[39m \u001b[38;5;28;01mdef\u001b[39;00m\u001b[38;5;250m \u001b[39m\u001b[34mcompute_mfcc\u001b[39m(lst: \u001b[38;5;28mlist\u001b[39m, parent: Path):\n\u001b[32m      6\u001b[39m   \u001b[38;5;28;01mfor\u001b[39;00m fn \u001b[38;5;129;01min\u001b[39;00m lst:\n\u001b[32m----> \u001b[39m\u001b[32m7\u001b[39m       y, sr = \u001b[43mlibrosa\u001b[49m\u001b[43m.\u001b[49m\u001b[43mload\u001b[49m\u001b[43m(\u001b[49m\u001b[43mparent\u001b[49m\u001b[43m \u001b[49m\u001b[43m/\u001b[49m\u001b[43m \u001b[49m\u001b[43mfn\u001b[49m\u001b[43m,\u001b[49m\u001b[43m \u001b[49m\u001b[43msr\u001b[49m\u001b[43m=\u001b[49m\u001b[38;5;28;43;01mNone\u001b[39;49;00m\u001b[43m)\u001b[49m\n\u001b[32m      8\u001b[39m       mfcc_features = librosa.feature.mfcc(y=y, sr=sr, n_mfcc=n_mfcc, n_fft=n_fft, hop_length=hop_length)\n\u001b[32m      9\u001b[39m       \u001b[38;5;28;01myield\u001b[39;00m librosa.util.normalize(mfcc_features, axis=\u001b[32m1\u001b[39m)\n",
      "\u001b[36mFile \u001b[39m\u001b[32mc:\\Users\\Tom\\Documents\\Durian_internship\\.venv\\Lib\\site-packages\\librosa\\core\\audio.py:183\u001b[39m, in \u001b[36mload\u001b[39m\u001b[34m(path, sr, mono, offset, duration, dtype, res_type)\u001b[39m\n\u001b[32m    179\u001b[39m \u001b[38;5;28;01mif\u001b[39;00m \u001b[38;5;28misinstance\u001b[39m(path, (\u001b[38;5;28mstr\u001b[39m, pathlib.PurePath)):\n\u001b[32m    180\u001b[39m     warnings.warn(\n\u001b[32m    181\u001b[39m         \u001b[33m\"\u001b[39m\u001b[33mPySoundFile failed. Trying audioread instead.\u001b[39m\u001b[33m\"\u001b[39m, stacklevel=\u001b[32m2\u001b[39m\n\u001b[32m    182\u001b[39m     )\n\u001b[32m--> \u001b[39m\u001b[32m183\u001b[39m     y, sr_native = \u001b[43m__audioread_load\u001b[49m\u001b[43m(\u001b[49m\u001b[43mpath\u001b[49m\u001b[43m,\u001b[49m\u001b[43m \u001b[49m\u001b[43moffset\u001b[49m\u001b[43m,\u001b[49m\u001b[43m \u001b[49m\u001b[43mduration\u001b[49m\u001b[43m,\u001b[49m\u001b[43m \u001b[49m\u001b[43mdtype\u001b[49m\u001b[43m)\u001b[49m\n\u001b[32m    184\u001b[39m \u001b[38;5;28;01melse\u001b[39;00m:\n\u001b[32m    185\u001b[39m     \u001b[38;5;28;01mraise\u001b[39;00m exc\n",
      "\u001b[36mFile \u001b[39m\u001b[32mc:\\Users\\Tom\\Documents\\Durian_internship\\.venv\\Lib\\site-packages\\decorator.py:235\u001b[39m, in \u001b[36mdecorate.<locals>.fun\u001b[39m\u001b[34m(*args, **kw)\u001b[39m\n\u001b[32m    233\u001b[39m \u001b[38;5;28;01mif\u001b[39;00m \u001b[38;5;129;01mnot\u001b[39;00m kwsyntax:\n\u001b[32m    234\u001b[39m     args, kw = fix(args, kw, sig)\n\u001b[32m--> \u001b[39m\u001b[32m235\u001b[39m \u001b[38;5;28;01mreturn\u001b[39;00m \u001b[43mcaller\u001b[49m\u001b[43m(\u001b[49m\u001b[43mfunc\u001b[49m\u001b[43m,\u001b[49m\u001b[43m \u001b[49m\u001b[43m*\u001b[49m\u001b[43m(\u001b[49m\u001b[43mextras\u001b[49m\u001b[43m \u001b[49m\u001b[43m+\u001b[49m\u001b[43m \u001b[49m\u001b[43margs\u001b[49m\u001b[43m)\u001b[49m\u001b[43m,\u001b[49m\u001b[43m \u001b[49m\u001b[43m*\u001b[49m\u001b[43m*\u001b[49m\u001b[43mkw\u001b[49m\u001b[43m)\u001b[49m\n",
      "\u001b[36mFile \u001b[39m\u001b[32mc:\\Users\\Tom\\Documents\\Durian_internship\\.venv\\Lib\\site-packages\\librosa\\util\\decorators.py:59\u001b[39m, in \u001b[36mdeprecated.<locals>.__wrapper\u001b[39m\u001b[34m(func, *args, **kwargs)\u001b[39m\n\u001b[32m     50\u001b[39m \u001b[38;5;250m\u001b[39m\u001b[33;03m\"\"\"Warn the user, and then proceed.\"\"\"\u001b[39;00m\n\u001b[32m     51\u001b[39m warnings.warn(\n\u001b[32m     52\u001b[39m     \u001b[33m\"\u001b[39m\u001b[38;5;132;01m{:s}\u001b[39;00m\u001b[33m.\u001b[39m\u001b[38;5;132;01m{:s}\u001b[39;00m\u001b[38;5;130;01m\\n\u001b[39;00m\u001b[38;5;130;01m\\t\u001b[39;00m\u001b[33mDeprecated as of librosa version \u001b[39m\u001b[38;5;132;01m{:s}\u001b[39;00m\u001b[33m.\u001b[39m\u001b[33m\"\u001b[39m\n\u001b[32m     53\u001b[39m     \u001b[33m\"\u001b[39m\u001b[38;5;130;01m\\n\u001b[39;00m\u001b[38;5;130;01m\\t\u001b[39;00m\u001b[33mIt will be removed in librosa version \u001b[39m\u001b[38;5;132;01m{:s}\u001b[39;00m\u001b[33m.\u001b[39m\u001b[33m\"\u001b[39m.format(\n\u001b[32m   (...)\u001b[39m\u001b[32m     57\u001b[39m     stacklevel=\u001b[32m3\u001b[39m,  \u001b[38;5;66;03m# Would be 2, but the decorator adds a level\u001b[39;00m\n\u001b[32m     58\u001b[39m )\n\u001b[32m---> \u001b[39m\u001b[32m59\u001b[39m \u001b[38;5;28;01mreturn\u001b[39;00m \u001b[43mfunc\u001b[49m\u001b[43m(\u001b[49m\u001b[43m*\u001b[49m\u001b[43margs\u001b[49m\u001b[43m,\u001b[49m\u001b[43m \u001b[49m\u001b[43m*\u001b[49m\u001b[43m*\u001b[49m\u001b[43mkwargs\u001b[49m\u001b[43m)\u001b[49m\n",
      "\u001b[36mFile \u001b[39m\u001b[32mc:\\Users\\Tom\\Documents\\Durian_internship\\.venv\\Lib\\site-packages\\librosa\\core\\audio.py:239\u001b[39m, in \u001b[36m__audioread_load\u001b[39m\u001b[34m(path, offset, duration, dtype)\u001b[39m\n\u001b[32m    236\u001b[39m     reader = path\n\u001b[32m    237\u001b[39m \u001b[38;5;28;01melse\u001b[39;00m:\n\u001b[32m    238\u001b[39m     \u001b[38;5;66;03m# If the input was not an audioread object, try to open it\u001b[39;00m\n\u001b[32m--> \u001b[39m\u001b[32m239\u001b[39m     reader = \u001b[43maudioread\u001b[49m\u001b[43m.\u001b[49m\u001b[43maudio_open\u001b[49m\u001b[43m(\u001b[49m\u001b[43mpath\u001b[49m\u001b[43m)\u001b[49m\n\u001b[32m    241\u001b[39m \u001b[38;5;28;01mwith\u001b[39;00m reader \u001b[38;5;28;01mas\u001b[39;00m input_file:\n\u001b[32m    242\u001b[39m     sr_native = input_file.samplerate\n",
      "\u001b[36mFile \u001b[39m\u001b[32mc:\\Users\\Tom\\Documents\\Durian_internship\\.venv\\Lib\\site-packages\\audioread\\__init__.py:127\u001b[39m, in \u001b[36maudio_open\u001b[39m\u001b[34m(path, backends)\u001b[39m\n\u001b[32m    125\u001b[39m \u001b[38;5;28;01mfor\u001b[39;00m BackendClass \u001b[38;5;129;01min\u001b[39;00m backends:\n\u001b[32m    126\u001b[39m     \u001b[38;5;28;01mtry\u001b[39;00m:\n\u001b[32m--> \u001b[39m\u001b[32m127\u001b[39m         \u001b[38;5;28;01mreturn\u001b[39;00m \u001b[43mBackendClass\u001b[49m\u001b[43m(\u001b[49m\u001b[43mpath\u001b[49m\u001b[43m)\u001b[49m\n\u001b[32m    128\u001b[39m     \u001b[38;5;28;01mexcept\u001b[39;00m DecodeError:\n\u001b[32m    129\u001b[39m         \u001b[38;5;28;01mpass\u001b[39;00m\n",
      "\u001b[36mFile \u001b[39m\u001b[32mc:\\Users\\Tom\\Documents\\Durian_internship\\.venv\\Lib\\site-packages\\audioread\\rawread.py:59\u001b[39m, in \u001b[36mRawAudioFile.__init__\u001b[39m\u001b[34m(self, filename)\u001b[39m\n\u001b[32m     58\u001b[39m \u001b[38;5;28;01mdef\u001b[39;00m\u001b[38;5;250m \u001b[39m\u001b[34m__init__\u001b[39m(\u001b[38;5;28mself\u001b[39m, filename):\n\u001b[32m---> \u001b[39m\u001b[32m59\u001b[39m     \u001b[38;5;28mself\u001b[39m._fh = \u001b[38;5;28;43mopen\u001b[39;49m\u001b[43m(\u001b[49m\u001b[43mfilename\u001b[49m\u001b[43m,\u001b[49m\u001b[43m \u001b[49m\u001b[33;43m'\u001b[39;49m\u001b[33;43mrb\u001b[39;49m\u001b[33;43m'\u001b[39;49m\u001b[43m)\u001b[49m\n\u001b[32m     61\u001b[39m     \u001b[38;5;28;01mtry\u001b[39;00m:\n\u001b[32m     62\u001b[39m         \u001b[38;5;28mself\u001b[39m._file = aifc.open(\u001b[38;5;28mself\u001b[39m._fh)\n",
      "\u001b[31mFileNotFoundError\u001b[39m: [Errno 2] No such file or directory: 'augmented_test_dataset\\\\20240929_023353_Dona_75-85%output.wav_aug0.wav'"
     ]
    }
   ],
   "source": [
    "mfcc_test = [*compute_mfcc(test_files_final, parent=Path(out_test_path))]\n",
    "mfcc_train = [*compute_mfcc(train_files_final, parent=Path(out_train_path))]\n"
   ]
  },
  {
   "cell_type": "markdown",
   "id": "d3467fe9",
   "metadata": {},
   "source": [
    "# **4. Audio dataset preparation (padding and trimming)**\n",
    "---"
   ]
  },
  {
   "cell_type": "markdown",
   "id": "26127b80",
   "metadata": {},
   "source": [
    "Besides, the idea is to set a single length T_max (typically the maximum recorded value) and then, for each MFCC:  \n",
    "*   If T_i < T_max → pad with columns of trailing zeros\n",
    "*   If T_i > T_max → trim to keep only the first T_max frames  "
   ]
  },
  {
   "cell_type": "code",
   "execution_count": null,
   "id": "196dfd3a",
   "metadata": {},
   "outputs": [
    {
     "name": "stdout",
     "output_type": "stream",
     "text": [
      "Durée (train) : 122 122 122 122 122 122 122 122 122 122 122 122 122 122 122 122 122 122 122 122 125 125 125 125 125 125 125 125 125 125 129 129 129 129 129 129 129 129 129 129 129 129 129 129 129 129 129 129 129 129 134 134 134 134 134 134 134 134 134 134 134 134 134 134 134 134 134 134 134 134 137 137 137 137 137 137 137 137 137 137 136 136 136 136 136 136 136 136 136 136 124 124 124 124 124 124 124 124 124 124 123 123 123 123 123 123 123 123 123 123 121 121 121 121 121 121 121 121 121 121 137 137 137 137 137 137 137 137 137 137 122 122 122 122 122 122 122 122 122 122 120 120 120 120 120 120 120 120 120 120 133 133 133 133 133 133 133 133 133 133 124 124 124 124 124 124 124 124 124 124 136 136 136 136 136 136 136 136 136 136 131 131 131 131 131 131 131 131 131 131 122 122 122 122 122 122 122 122 122 122 121 121 121 121 121 121 121 121 121 121 122 122 122 122 122 122 122 122 122 122 134 134 134 134 134 134 134 134 134 134 124 124 124 124 124 124 124 124 124 124 134 134 134 134 134 134 134 134 134 134 123 123 123 123 123 123 123 123 123 123 131 131 131 131 131 131 131 131 131 131 136 136 136 136 136 136 136 136 136 136 134 134 134 134 134 134 134 134 134 134 136 136 136 136 136 136 136 136 136 136 134 134 134 134 134 134 134 134 134 134 124 124 124 124 124 124 124 124 124 124 128 128 128 128 128 128 128 128 128 128 132 132 132 132 132 132 132 132 132 132 128 128 128 128 128 128 128 128 128 128 132 132 132 132 132 132 132 132 132 132 122 122 122 122 122 122 122 122 122 122 123 123 123 123 123 123 123 123 123 123 130 130 130 130 130 130 130 130 130 130 128 128 128 128 128 128 128 128 128 128 124 124 124 124 124 124 124 124 124 124 123 123 123 123 123 123 123 123 123 123 130 130 130 130 130 130 130 130 130 130 137 137 137 137 137 137 137 137 137 137 131 131 131 131 131 131 131 131 131 131 111 111 111 111 111 111 111 111 111 111 101 101 101 101 101 101 101 101 101 101 125 125 125 125 125 125 125 125 125 125 122 122 122 122 122 122 122 122 122 122 134 134 134 134 134 134 134 134 134 134 123 123 123 123 123 123 123 123 123 123 136 136 136 136 136 136 136 136 136 136 134 134 134 134 134 134 134 134 134 134 136 136 136 136 136 136 136 136 136 136 128 128 128 128 128 128 128 128 128 128 122 122 122 122 122 122 122 122 122 122 134 134 134 134 134 134 134 134 134 134 123 123 123 123 123 123 123 123 123 123 124 124 124 124 124 124 124 124 124 124 123 123 123 123 123 123 123 123 123 123 136 136 136 136 136 136 136 136 136 136 123 123 123 123 123 123 123 123 123 123 136 136 136 136 136 136 136 136 136 136 137 137 137 137 137 137 137 137 137 137 128 128 128 128 128 128 128 128 128 128 131 131 131 131 131 131 131 131 131 131 136 136 136 136 136 136 136 136 136 136 128 128 128 128 128 128 128 128 128 128 123 123 123 123 123 123 123 123 123 123 134 134 134 134 134 134 134 134 134 134 123 123 123 123 123 123 123 123 123 123 137 137 137 137 137 137 137 137 137 137 125 125 125 125 125 125 125 125 125 125 129 129 129 129 129 129 129 129 129 129 133 133 133 133 133 133 133 133 133 133 134 134 134 134 134 134 134 134 134 134 136 136 136 136 136 136 136 136 136 136 123 123 123 123 123 123 123 123 123 123 130 130 130 130 130 130 130 130 130 130 123 123 123 123 123 123 123 123 123 123 133 133 133 133 133 133 133 133 133 133 133 133 133 133 133 133 133 133 133 133 134 134 134 134 134 134 134 134 134 134 124 124 124 124 124 124 124 124 124 124 122 122 122 122 122 122 122 122 122 122 134 134 134 134 134 134 134 134 134 134 123 123 123 123 123 123 123 123 123 123 123 123 123 123 123 123 123 123 123 123 124 124 124 124 124 124 124 124 124 124 134 134 134 134 134 134 134 134 134 134 124 124 124 124 124 124 124 124 124 124 124 124 124 124 124 124 124 124 124 124 246 255 268 268 239 244 259 248 246 273 255 248 241 273 244 268 268 273 246 250 262 250 246 255 246 255 273 244 244 248 246 246 271 259 241 244 248 266 271 246 268 262 259 244 266\n",
      "Durée (test) : 250 268 201 257 262 271 255 255 268 221 268 248 262 246 271 264 246 268 264 271 244 268 268 248 246 271 246 248 246 248 257 273 271 257 268 246 271 244 271 244 268 266 248 248 266 268 271\n",
      "The maximum value of time is 273 ms\n"
     ]
    }
   ],
   "source": [
    "# Pour le train\n",
    "T_train = [mfcc.shape[1] for mfcc in mfcc_train]\n",
    "print(\"Durée (train) :\", *T_train)\n",
    "\n",
    "# Pour le test\n",
    "T_test = [mfcc.shape[1] for mfcc in mfcc_test]\n",
    "print(\"Durée (test) :\", *T_test)\n",
    "\n",
    "# T_max commun pour le padding (on prend le max des deux)\n",
    "T_max = max(T_train + T_test)\n",
    "print(f'The maximum value of time is {T_max} ms')"
   ]
  },
  {
   "cell_type": "markdown",
   "id": "6df91e1d",
   "metadata": {},
   "source": [
    "In this step, we ensure that all MFCCs have the same length by either padding them with zeros or trimming them to a fixed length, `T_max`. This is necessary to standardize the input size for the model."
   ]
  },
  {
   "cell_type": "code",
   "execution_count": null,
   "id": "af7014ae",
   "metadata": {},
   "outputs": [],
   "source": [
    "def pad_mfccs(mfcc_list, T_max):\n",
    "    mfcc_fixed = []\n",
    "    for m in mfcc_list:\n",
    "        T_i = m.shape[1]\n",
    "        if T_i < T_max:\n",
    "            pad_width = T_max - T_i\n",
    "            m2 = np.pad(m,\n",
    "                        pad_width=((0,0),   # no padding sur les coefficients\n",
    "                        (0,pad_width)),     # padding à droite sur le temps\n",
    "                        mode='constant',\n",
    "                        constant_values=0)\n",
    "        else:\n",
    "            m2 = m[:, :T_max]\n",
    "        mfcc_fixed.append(m2)\n",
    "    return mfcc_fixed\n",
    "\n",
    "# Pour le train\n",
    "mfcc_train_fixed = pad_mfccs(mfcc_train, T_max)\n",
    "\n",
    "# Pour le test\n",
    "mfcc_test_fixed = pad_mfccs(mfcc_test, T_max)\n"
   ]
  },
  {
   "cell_type": "markdown",
   "id": "f388ccbb",
   "metadata": {},
   "source": [
    "# **5. Dataset formatting for model input**\n",
    "---\n",
    "At this stage, we will prepare our padded/truncated MFCCs into the right shape for our deep learning model (flattening, stacking, or reshaping as needed), and associate them with their corresponding labels.\n"
   ]
  },
  {
   "cell_type": "code",
   "execution_count": null,
   "id": "629c0eb0",
   "metadata": {},
   "outputs": [
    {
     "name": "stdout",
     "output_type": "stream",
     "text": [
      "X_train.shape = (965, 40, 273, 1)\n",
      "X_test.shape = (47, 40, 273, 1)\n"
     ]
    }
   ],
   "source": [
    "x_train = np.stack(mfcc_train_fixed, axis=0)[..., np.newaxis]\n",
    "x_test = np.stack(mfcc_test_fixed, axis=0)[..., np.newaxis]\n",
    "\n",
    "print(\"X_train.shape =\", x_train.shape)\n",
    "print(\"X_test.shape =\", x_test.shape)\n"
   ]
  },
  {
   "cell_type": "code",
   "execution_count": null,
   "id": "e48e913e",
   "metadata": {},
   "outputs": [
    {
     "data": {
      "text/plain": [
       "47"
      ]
     },
     "execution_count": 149,
     "metadata": {},
     "output_type": "execute_result"
    }
   ],
   "source": [
    "len(mfcc_test_fixed)"
   ]
  },
  {
   "cell_type": "markdown",
   "id": "23a9bbe1",
   "metadata": {},
   "source": [
    "# **6. Label and shuffle**\n",
    "---"
   ]
  },
  {
   "cell_type": "code",
   "execution_count": null,
   "id": "912b8a91",
   "metadata": {},
   "outputs": [],
   "source": [
    "import re\n",
    "\n",
    "def get_label(filename):\n",
    "    base_name = re.sub(r'_aug\\d+\\.wav$', '', filename)\n",
    "    if \"75-85\" in base_name:\n",
    "        return 0  # unripe\n",
    "    elif \"95\" in base_name:\n",
    "        return 1  # ripe\n",
    "    else:\n",
    "        raise ValueError(f\"Le nom de fichier ne permet pas d'extraire le label : {filename}\")\n",
    "\n",
    "# Recréer y_train avec la nouvelle fonction\n",
    "y_train = np.array([get_label(f) for f in train_files_final])\n",
    "y_test = np.array([get_label(f) for f in test_files_names])\n",
    "\n",
    "# Calcul des poids de classes\n",
    "from sklearn.utils import class_weight\n",
    "class_weights = class_weight.compute_class_weight('balanced', classes=np.unique(y_train), y=y_train)\n",
    "class_weights_dict = dict(enumerate(class_weights))\n"
   ]
  },
  {
   "cell_type": "code",
   "execution_count": null,
   "id": "33621814",
   "metadata": {},
   "outputs": [
    {
     "data": {
      "text/plain": [
       "(472, 493)"
      ]
     },
     "execution_count": 131,
     "metadata": {},
     "output_type": "execute_result"
    }
   ],
   "source": [
    "len([i for i in y_train if i == 0]), len([i for i in y_train if i == 1])"
   ]
  },
  {
   "cell_type": "markdown",
   "id": "ede5ba7a",
   "metadata": {},
   "source": [
    "Shuffle training data ton ensure linear accuracy progress during training"
   ]
  },
  {
   "cell_type": "code",
   "execution_count": null,
   "id": "a43d9eff",
   "metadata": {},
   "outputs": [],
   "source": [
    "# Shuffle le train pour éviter tout biais\n",
    "idx = np.arange(x_train.shape[0])\n",
    "np.random.shuffle(idx)\n",
    "x_train = x_train[idx]\n",
    "y_train = y_train[idx]\n",
    "train_files_final = [train_files_final[i] for i in idx]# type: ignore"
   ]
  },
  {
   "cell_type": "markdown",
   "id": "50f96ada",
   "metadata": {},
   "source": [
    "# **7. Building the classification model**\n",
    "---\n",
    "Now let's define our deep learning model. We'll use a simple Convolutional Neural Network (CNN) architecture suitable for audio classification.\n"
   ]
  },
  {
   "cell_type": "code",
   "execution_count": null,
   "id": "bb53d03e",
   "metadata": {},
   "outputs": [],
   "source": [
    "from keras.models import Sequential\n",
    "from keras.layers import Dense, Conv2D, Input, BatchNormalization, Dropout, MaxPooling2D, Flatten\n",
    "import numpy as np\n",
    "import matplotlib.pyplot as plt\n",
    "from sklearn.metrics import confusion_matrix, classification_report\n",
    "import seaborn as sns\n",
    "import tensorflow as tf\n",
    "from keras.models import Sequential\n",
    "from keras.layers import Conv2D, MaxPooling2D, Flatten, Dense, Dropout, BatchNormalization\n",
    "from keras.callbacks import EarlyStopping\n",
    "from keras.utils import to_categorical\n",
    "from sklearn.utils import class_weight\n",
    "from keras.utils import plot_model\n"
   ]
  },
  {
   "cell_type": "code",
   "execution_count": null,
   "id": "8c17d104",
   "metadata": {},
   "outputs": [],
   "source": [
    "model = Sequential([\n",
    "    Input(shape=x_train.shape[1:]),\n",
    "    Conv2D(32, (3,3), activation='relu'),\n",
    "    BatchNormalization(),\n",
    "    MaxPooling2D(),\n",
    "    Dropout(0.25),\n",
    "\n",
    "    Conv2D(64, (3,3), activation='relu'),\n",
    "    BatchNormalization(),\n",
    "    MaxPooling2D(),\n",
    "    Dropout(0.25),\n",
    "\n",
    "    Flatten(),\n",
    "    Dense(128, activation='relu', kernel_regularizer=keras.regularizers.l2(1e-4)),\n",
    "    Dropout(0.5),\n",
    "    Dense(1, activation='sigmoid')\n",
    "])"
   ]
  },
  {
   "cell_type": "code",
   "execution_count": null,
   "id": "afef7f1c",
   "metadata": {},
   "outputs": [
    {
     "name": "stdout",
     "output_type": "stream",
     "text": [
      "You must install graphviz (see instructions at https://graphviz.gitlab.io/download/) for `plot_model` to work.\n"
     ]
    }
   ],
   "source": [
    "plot_model(model, to_file=\"model.png\", show_shapes=True, show_layer_names=True, show_layer_activations=True)\n"
   ]
  },
  {
   "cell_type": "code",
   "execution_count": null,
   "id": "010c4ab1",
   "metadata": {},
   "outputs": [],
   "source": [
    "def compile_model(model, learning_rate: int | None = None):\n",
    "    if learning_rate is not None:\n",
    "        opt = keras.optimizers.Adam(learning_rate=learning_rate)\n",
    "        model.compile(\n",
    "            optimizer=opt,\n",
    "            loss='binary_crossentropy',\n",
    "            metrics=['accuracy']\n",
    "        )\n",
    "        return opt\n",
    "    model.compile(\n",
    "        optimizer='adam',\n",
    "        loss='binary_crossentropy',\n",
    "        metrics=['accuracy']\n",
    "    )"
   ]
  },
  {
   "cell_type": "code",
   "execution_count": null,
   "id": "771db89b",
   "metadata": {},
   "outputs": [],
   "source": [
    "compile_model(model)"
   ]
  },
  {
   "cell_type": "markdown",
   "id": "31692876",
   "metadata": {},
   "source": [
    "# **6. Model training**\n",
    "---\n",
    "Let's train the model on the training data and keep track of its performance.\n"
   ]
  },
  {
   "cell_type": "code",
   "execution_count": null,
   "id": "cbb111c1",
   "metadata": {},
   "outputs": [
    {
     "name": "stdout",
     "output_type": "stream",
     "text": [
      "Epoch 1/60\n",
      "\u001b[1m25/25\u001b[0m \u001b[32m━━━━━━━━━━━━━━━━━━━━\u001b[0m\u001b[37m\u001b[0m \u001b[1m8s\u001b[0m 231ms/step - accuracy: 0.4546 - loss: 12.6356 - val_accuracy: 0.5440 - val_loss: 1.9068\n",
      "Epoch 2/60\n",
      "\u001b[1m25/25\u001b[0m \u001b[32m━━━━━━━━━━━━━━━━━━━━\u001b[0m\u001b[37m\u001b[0m \u001b[1m5s\u001b[0m 205ms/step - accuracy: 0.5038 - loss: 0.7219 - val_accuracy: 0.5337 - val_loss: 8.0915\n",
      "Epoch 3/60\n",
      "\u001b[1m25/25\u001b[0m \u001b[32m━━━━━━━━━━━━━━━━━━━━\u001b[0m\u001b[37m\u001b[0m \u001b[1m5s\u001b[0m 202ms/step - accuracy: 0.5007 - loss: 0.7672 - val_accuracy: 0.5337 - val_loss: 13.3284\n",
      "Epoch 4/60\n",
      "\u001b[1m25/25\u001b[0m \u001b[32m━━━━━━━━━━━━━━━━━━━━\u001b[0m\u001b[37m\u001b[0m \u001b[1m5s\u001b[0m 197ms/step - accuracy: 0.4974 - loss: 0.7268 - val_accuracy: 0.5337 - val_loss: 17.1861\n",
      "Epoch 5/60\n",
      "\u001b[1m25/25\u001b[0m \u001b[32m━━━━━━━━━━━━━━━━━━━━\u001b[0m\u001b[37m\u001b[0m \u001b[1m5s\u001b[0m 197ms/step - accuracy: 0.4979 - loss: 0.7256 - val_accuracy: 0.5337 - val_loss: 19.9964\n",
      "Epoch 6/60\n",
      "\u001b[1m25/25\u001b[0m \u001b[32m━━━━━━━━━━━━━━━━━━━━\u001b[0m\u001b[37m\u001b[0m \u001b[1m5s\u001b[0m 196ms/step - accuracy: 0.5079 - loss: 0.7241 - val_accuracy: 0.5337 - val_loss: 21.9077\n"
     ]
    }
   ],
   "source": [
    "es = EarlyStopping(monitor='val_loss', patience=5, restore_best_weights=True)\n",
    "\n",
    "\n",
    "history = model.fit(\n",
    "    x_train, y_train,\n",
    "    epochs=60,\n",
    "    batch_size=32,\n",
    "    validation_split=0.2,\n",
    "    callbacks=[es],\n",
    "    shuffle=True,\n",
    ")"
   ]
  },
  {
   "cell_type": "code",
   "execution_count": null,
   "id": "e988aa52",
   "metadata": {},
   "outputs": [
    {
     "data": {
      "text/plain": [
       "((965, 40, 273, 1), (965,), (47, 40, 273, 1), (47,))"
      ]
     },
     "execution_count": 147,
     "metadata": {},
     "output_type": "execute_result"
    }
   ],
   "source": [
    "x_train.shape, y_train.shape, x_test.shape, y_test.shape"
   ]
  },
  {
   "cell_type": "markdown",
   "id": "3e15b11e",
   "metadata": {},
   "source": [
    "# **7. Model evaluation**\n",
    "---\n",
    "We now evaluate the trained model on the test set, check the accuracy, and display a confusion matrix for detailed analysis.\n"
   ]
  },
  {
   "cell_type": "code",
   "execution_count": null,
   "id": "dacce045",
   "metadata": {},
   "outputs": [
    {
     "name": "stdout",
     "output_type": "stream",
     "text": [
      "\u001b[1m2/2\u001b[0m \u001b[32m━━━━━━━━━━━━━━━━━━━━\u001b[0m\u001b[37m\u001b[0m \u001b[1m0s\u001b[0m 31ms/step - accuracy: 0.7502 - loss: 0.6687\n"
     ]
    }
   ],
   "source": [
    "loss, acc = model.evaluate(x_test, y_test)"
   ]
  },
  {
   "cell_type": "markdown",
   "id": "973b0936",
   "metadata": {},
   "source": [
    "# **8. Results & analysis**\n",
    "---\n",
    "Let's analyze the results, discuss strengths and weaknesses, and try to interpret what the model is learning.\n"
   ]
  },
  {
   "cell_type": "code",
   "execution_count": null,
   "id": "9afb91a3",
   "metadata": {},
   "outputs": [
    {
     "name": "stdout",
     "output_type": "stream",
     "text": [
      "X_train.shape: (965, 40, 273, 1)\n",
      "y_train.shape: (965,)\n",
      "X_test.shape: (47, 40, 273, 1)\n",
      "y_test.shape: (47,)\n",
      "Répartition y_train : (array([0, 1]), array([472, 493]))\n",
      "Répartition y_test : (array([0, 1]), array([23, 24]))\n",
      "Premier fichier train: 20240929_023811_Dona_95-Ripeoutput.wav_aug8.wav label: 1\n",
      "Premier fichier test: 20240929_023911_Dona_95-Ripeoutput.wav label: 1\n"
     ]
    }
   ],
   "source": [
    "print(\"X_train.shape:\", x_train.shape)\n",
    "print(\"y_train.shape:\", y_train.shape)\n",
    "print(\"X_test.shape:\", x_test.shape)\n",
    "print(\"y_test.shape:\", y_test.shape)\n",
    "\n",
    "print(\"Répartition y_train :\", np.unique(y_train, return_counts=True))\n",
    "print(\"Répartition y_test :\", np.unique(y_test, return_counts=True))\n",
    "\n",
    "print(\"Premier fichier train:\", train_files_final[0], \"label:\", y_train[0])\n",
    "print(\"Premier fichier test:\", test_files_names[0], \"label:\", y_test[0])"
   ]
  },
  {
   "cell_type": "code",
   "execution_count": null,
   "id": "8e7a2ac6",
   "metadata": {},
   "outputs": [
    {
     "name": "stdout",
     "output_type": "stream",
     "text": [
      "y_train repartition : [472 493]\n",
      "y_test repartition : [23 24]\n"
     ]
    }
   ],
   "source": [
    "print(\"y_train repartition :\", np.bincount(y_train))\n",
    "print(\"y_test repartition :\", np.bincount(y_test))"
   ]
  },
  {
   "cell_type": "code",
   "execution_count": null,
   "id": "4a5c79d9",
   "metadata": {},
   "outputs": [
    {
     "data": {
      "image/png": "[encoded data removed]",
      "text/plain": [
       "<Figure size 1200x400 with 2 Axes>"
      ]
     },
     "metadata": {},
     "output_type": "display_data"
    }
   ],
   "source": [
    "plt.figure(figsize=(12,4))\n",
    "\n",
    "# Accuracy\n",
    "plt.subplot(1,2,1)\n",
    "plt.plot(history.history['accuracy'], label='train')\n",
    "plt.plot(history.history['val_accuracy'], label='val')\n",
    "plt.title(\"Accuracy\")\n",
    "plt.xlabel(\"Epoch\")\n",
    "plt.ylabel(\"Accuracy\")\n",
    "plt.legend()\n",
    "\n",
    "# Loss\n",
    "plt.subplot(1,2,2)\n",
    "plt.plot(history.history['loss'], label='train')\n",
    "plt.plot(history.history['val_loss'], label='val')\n",
    "plt.title(\"Loss\")\n",
    "plt.xlabel(\"Epoch\")\n",
    "plt.ylabel(\"Loss\")\n",
    "plt.legend()\n",
    "\n",
    "plt.tight_layout()\n",
    "plt.show()\n",
    "\n"
   ]
  },
  {
   "cell_type": "code",
   "execution_count": null,
   "id": "730b95c5",
   "metadata": {},
   "outputs": [
    {
     "name": "stdout",
     "output_type": "stream",
     "text": [
      "\u001b[1m2/2\u001b[0m \u001b[32m━━━━━━━━━━━━━━━━━━━━\u001b[0m\u001b[37m\u001b[0m \u001b[1m0s\u001b[0m 78ms/step\n"
     ]
    },
    {
     "data": {
      "image/png": "[encoded data removed]",
      "text/plain": [
       "<Figure size 600x500 with 2 Axes>"
      ]
     },
     "metadata": {},
     "output_type": "display_data"
    }
   ],
   "source": [
    "\n",
    "# Confusion matrix\n",
    "y_prob = model.predict(x_test).ravel()\n",
    "y_pred = (y_prob >= 0.5).astype(int)\n",
    "\n",
    "cm = confusion_matrix(y_test, y_pred)\n",
    "labels = ['unripe', 'ripe']\n",
    "\n",
    "plt.figure(figsize=(6,5))\n",
    "sns.heatmap(cm, annot=True, fmt=\"d\", cmap=\"Blues\",\n",
    "            xticklabels=labels, yticklabels=labels)\n",
    "plt.xlabel(\"Prediction\")\n",
    "plt.ylabel(\"Reality\")\n",
    "plt.title(\"Confusion matrix\")\n",
    "plt.show()\n"
   ]
  },
  {
   "cell_type": "code",
   "execution_count": null,
   "id": "01efb70f",
   "metadata": {},
   "outputs": [
    {
     "name": "stdout",
     "output_type": "stream",
     "text": [
      "              precision    recall  f1-score   support\n",
      "\n",
      "      unripe       0.71      0.87      0.78        23\n",
      "        ripe       0.84      0.67      0.74        24\n",
      "\n",
      "    accuracy                           0.77        47\n",
      "   macro avg       0.78      0.77      0.76        47\n",
      "weighted avg       0.78      0.77      0.76        47\n",
      "\n"
     ]
    }
   ],
   "source": [
    "\n",
    "print(classification_report(y_test, y_pred, target_names=labels))\n",
    "\n"
   ]
  },
  {
   "cell_type": "markdown",
   "id": "69188cc9",
   "metadata": {},
   "source": [
    "# **9. Save model**\n",
    "---\n",
    "Finally, we save our trained model for later use, and discuss possible improvements or future work.\n"
   ]
  },
  {
   "cell_type": "code",
   "execution_count": null,
   "id": "fd5825ad",
   "metadata": {},
   "outputs": [],
   "source": [
    "# only execute the first time \n",
    "model_version_index = 4"
   ]
  },
  {
   "cell_type": "code",
   "execution_count": null,
   "id": "7678b6f0",
   "metadata": {},
   "outputs": [],
   "source": [
    "# model.save(f\"models/model_augmented_v{model_version_index}_({loss:.2f}, {acc:.2f})_.keras\")\n",
    "# model_version_index+=1"
   ]
  },
  {
   "cell_type": "markdown",
   "id": "df56d402",
   "metadata": {},
   "source": [
    "test"
   ]
  }
 ],
 "metadata": {
  "kernelspec": {
   "display_name": "durian-maturity-classification-py3.12",
   "language": "python",
   "name": "python3"
  },
  "language_info": {
   "codemirror_mode": {
    "name": "ipython",
    "version": 3
   },
   "file_extension": ".py",
   "mimetype": "text/x-python",
   "name": "python",
   "nbconvert_exporter": "python",
   "pygments_lexer": "ipython3",
   "version": "3.12.0"
  }
 },
 "nbformat": 4,
 "nbformat_minor": 5
}
