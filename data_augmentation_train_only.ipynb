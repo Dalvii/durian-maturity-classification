{
 "cells": [
  {
   "cell_type": "code",
   "execution_count": 126,
   "id": "b433d42b",
   "metadata": {},
   "outputs": [],
   "source": [
    "import os\n",
    "from pathlib import Path\n",
    "import torch\n",
    "from tqdm import tqdm\n",
    "import warnings\n",
    "import re\n",
    "import keras\n",
    "import librosa\n",
    "import shutil\n",
    "import numpy as np\n",
    "from audiomentations import Compose, AddGaussianNoise, TimeStretch, PitchShift, Shift"
   ]
  },
  {
   "cell_type": "code",
   "execution_count": 127,
   "id": "ac7e35c9",
   "metadata": {},
   "outputs": [],
   "source": [
    "import soundfile as sf"
   ]
  },
  {
   "cell_type": "markdown",
   "id": "02217a1f",
   "metadata": {},
   "source": [
    "### Use cuda acceleration (optional)"
   ]
  },
  {
   "cell_type": "code",
   "execution_count": 128,
   "id": "87e48947",
   "metadata": {},
   "outputs": [
    {
     "data": {
      "text/plain": [
       "'cpu'"
      ]
     },
     "execution_count": 128,
     "metadata": {},
     "output_type": "execute_result"
    }
   ],
   "source": [
    "device = \"cuda\" if torch.cuda.is_available() else \"cpu\"\n",
    "device"
   ]
  },
  {
   "cell_type": "code",
   "execution_count": null,
   "id": "7ef92323",
   "metadata": {},
   "outputs": [],
   "source": [
    "path = './AUDIO_DATA'\n",
    "\n",
    "if os.path.exists('./augmented_train_dataset'):\n",
    "    shutil.rmtree('./augmented_train_dataset')"
   ]
  },
  {
   "cell_type": "markdown",
   "id": "62924dbd",
   "metadata": {},
   "source": [
    "### Link your google drive storage if you are working on google colab (optional)  "
   ]
  },
  {
   "cell_type": "code",
   "execution_count": 130,
   "id": "44664c23",
   "metadata": {},
   "outputs": [],
   "source": [
    "path = '<your google drive path>'\n",
    "# from google.colab import drive\n",
    "# drive.mount('/content/drive')\n",
    "# %cd /content/drive/MyDrive/DurianAudios"
   ]
  },
  {
   "cell_type": "code",
   "execution_count": 131,
   "id": "a9b14934",
   "metadata": {},
   "outputs": [
    {
     "name": "stdout",
     "output_type": "stream",
     "text": [
      "./AUDIO_DATA/20240929_023338_Dona_75-85%output.wav ./AUDIO_DATA/20240929_023344_Dona_75-85%output.wav ./AUDIO_DATA/20240929_023348_Dona_75-85%output.wav ./AUDIO_DATA/20240929_023353_Dona_75-85%output.wav ./AUDIO_DATA/20240929_023359_Dona_75-85%output.wav ./AUDIO_DATA/20240929_023409_Dona_75-85%output.wav ./AUDIO_DATA/20240929_023414_Dona_75-85%output.wav ./AUDIO_DATA/20240929_023418_Dona_75-85%output.wav ./AUDIO_DATA/20240929_023426_Dona_75-85%output.wav ./AUDIO_DATA/20240929_023431_Dona_75-85%output.wav ./AUDIO_DATA/20240929_023435_Dona_75-85%output.wav ./AUDIO_DATA/20240929_023439_Dona_75-85%output.wav ./AUDIO_DATA/20240929_023443_Dona_75-85%output.wav ./AUDIO_DATA/20240929_023447_Dona_75-85%output.wav ./AUDIO_DATA/20240929_023501_Dona_75-85%output.wav ./AUDIO_DATA/20240929_023505_Dona_75-85%output.wav ./AUDIO_DATA/20240929_023509_Dona_75-85%output.wav ./AUDIO_DATA/20240929_023513_Dona_75-85%output.wav ./AUDIO_DATA/20240929_023517_Dona_75-85%output.wav ./AUDIO_DATA/20240929_023521_Dona_75-85%output.wav ./AUDIO_DATA/20240929_023541_Dona_95-Ripeoutput.wav ./AUDIO_DATA/20240929_023702_Dona_95-Ripeoutput.wav ./AUDIO_DATA/20240929_023705_Dona_95-Ripeoutput.wav ./AUDIO_DATA/20240929_023710_Dona_95-Ripeoutput.wav ./AUDIO_DATA/20240929_023713_Dona_95-Ripeoutput.wav ./AUDIO_DATA/20240929_023718_Dona_95-Ripeoutput.wav ./AUDIO_DATA/20240929_023721_Dona_95-Ripeoutput.wav ./AUDIO_DATA/20240929_023726_Dona_95-Ripeoutput.wav ./AUDIO_DATA/20240929_023730_Dona_95-Ripeoutput.wav ./AUDIO_DATA/20240929_023734_Dona_95-Ripeoutput.wav ./AUDIO_DATA/20240929_023738_Dona_95-Ripeoutput.wav ./AUDIO_DATA/20240929_023742_Dona_95-Ripeoutput.wav ./AUDIO_DATA/20240929_023751_Dona_95-Ripeoutput.wav ./AUDIO_DATA/20240929_023758_Dona_95-Ripeoutput.wav ./AUDIO_DATA/20240929_023807_Dona_95-Ripeoutput.wav ./AUDIO_DATA/20240929_023811_Dona_95-Ripeoutput.wav ./AUDIO_DATA/20240929_023815_Dona_95-Ripeoutput.wav ./AUDIO_DATA/20240929_023820_Dona_95-Ripeoutput.wav ./AUDIO_DATA/20240929_023823_Dona_95-Ripeoutput.wav ./AUDIO_DATA/20240929_023827_Dona_95-Ripeoutput.wav ./AUDIO_DATA/20240929_023832_Dona_95-Ripeoutput.wav ./AUDIO_DATA/20240929_023835_Dona_95-Ripeoutput.wav ./AUDIO_DATA/20240929_023839_Dona_95-Ripeoutput.wav ./AUDIO_DATA/20240929_023843_Dona_95-Ripeoutput.wav ./AUDIO_DATA/20240929_023858_Dona_95-Ripeoutput.wav ./AUDIO_DATA/20240929_023901_Dona_95-Ripeoutput.wav ./AUDIO_DATA/20240929_023906_Dona_95-Ripeoutput.wav ./AUDIO_DATA/20240929_023911_Dona_95-Ripeoutput.wav ./AUDIO_DATA/20240929_023915_Dona_95-Ripeoutput.wav ./AUDIO_DATA/20240929_023919_Dona_95-Ripeoutput.wav ./AUDIO_DATA/20240929_023923_Dona_95-Ripeoutput.wav ./AUDIO_DATA/20240929_023926_Dona_95-Ripeoutput.wav ./AUDIO_DATA/20240929_023934_Dona_95-Ripeoutput.wav ./AUDIO_DATA/20240929_023938_Dona_95-Ripeoutput.wav ./AUDIO_DATA/20240929_023942_Dona_95-Ripeoutput.wav ./AUDIO_DATA/20240929_023957_Dona_75-85%output.wav ./AUDIO_DATA/20240929_024001_Dona_75-85%output.wav ./AUDIO_DATA/20240929_024005_Dona_75-85%output.wav ./AUDIO_DATA/20240929_024010_Dona_75-85%output.wav ./AUDIO_DATA/20240929_024014_Dona_75-85%output.wav ./AUDIO_DATA/20240929_024017_Dona_75-85%output.wav ./AUDIO_DATA/20240929_024027_Dona_75-85%output.wav ./AUDIO_DATA/20240929_024030_Dona_75-85%output.wav ./AUDIO_DATA/20240929_024034_Dona_75-85%output.wav ./AUDIO_DATA/20240929_024039_Dona_75-85%output.wav ./AUDIO_DATA/20240929_024309_Dona_95-Ripeoutput.wav ./AUDIO_DATA/20240929_024314_Dona_95-Ripeoutput.wav ./AUDIO_DATA/20240929_024318_Dona_95-Ripeoutput.wav ./AUDIO_DATA/20240929_024321_Dona_95-Ripeoutput.wav ./AUDIO_DATA/20240929_024325_Dona_95-Ripeoutput.wav ./AUDIO_DATA/20240929_024329_Dona_95-Ripeoutput.wav ./AUDIO_DATA/20240929_024333_Dona_95-Ripeoutput.wav ./AUDIO_DATA/20240929_024341_Dona_95-Ripeoutput.wav ./AUDIO_DATA/20240929_024345_Dona_95-Ripeoutput.wav ./AUDIO_DATA/20240929_024358_Dona_75-85%output.wav ./AUDIO_DATA/20240929_024402_Dona_75-85%output.wav ./AUDIO_DATA/20240929_024406_Dona_75-85%output.wav ./AUDIO_DATA/20240929_024410_Dona_75-85%output.wav ./AUDIO_DATA/20240929_024413_Dona_75-85%output.wav ./AUDIO_DATA/20240929_024419_Dona_75-85%output.wav ./AUDIO_DATA/20240929_024422_Dona_75-85%output.wav ./AUDIO_DATA/20240929_024426_Dona_75-85%output.wav ./AUDIO_DATA/20240929_024435_Dona_95-Ripeoutput.wav ./AUDIO_DATA/20240929_024443_Dona_95-Ripeoutput.wav ./AUDIO_DATA/20240929_024446_Dona_95-Ripeoutput.wav ./AUDIO_DATA/20240929_024459_Dona_75-85%output.wav ./AUDIO_DATA/20240929_024503_Dona_75-85%output.wav ./AUDIO_DATA/20240929_024506_Dona_75-85%output.wav ./AUDIO_DATA/20240929_024510_Dona_75-85%output.wav ./AUDIO_DATA/20240929_024513_Dona_75-85%output.wav ./AUDIO_DATA/20240929_024517_Dona_75-85%output.wav ./AUDIO_DATA/20240929_024521_Dona_75-85%output.wav\n"
     ]
    }
   ],
   "source": [
    "\n",
    "AUDIO_PATH = \"./AUDIO_DATA\"\n",
    "AUDIO_LIST = list(map(lambda x: f\"{AUDIO_PATH}/{x}\", sorted(os.listdir(AUDIO_PATH))))\n",
    "print(*AUDIO_LIST)"
   ]
  },
  {
   "cell_type": "code",
   "execution_count": 132,
   "id": "07faf3b0",
   "metadata": {},
   "outputs": [
    {
     "name": "stdout",
     "output_type": "stream",
     "text": [
      "46 fichiers pour le train, 46 pour le test.\n"
     ]
    }
   ],
   "source": [
    "\n",
    "from sklearn.model_selection import train_test_split\n",
    "# Séparer la liste AUDIO_LIST en train et test avant toute data augmentation\n",
    "train_files, test_files = train_test_split(AUDIO_LIST, test_size=0.5, random_state=42, shuffle=True)\n",
    "print(f\"{len(train_files)} fichiers pour le train, {len(test_files)} pour le test.\")\n"
   ]
  },
  {
   "cell_type": "markdown",
   "id": "01505ac3",
   "metadata": {},
   "source": [
    "# **1. Data preparation**\n",
    "---"
   ]
  },
  {
   "cell_type": "code",
   "execution_count": 133,
   "id": "03b5548c",
   "metadata": {},
   "outputs": [],
   "source": [
    "warnings.filterwarnings(\"ignore\", category=FutureWarning)\n",
    "warnings.filterwarnings(\"ignore\", message=\"PySoundFile failed.*\")\n",
    "\n",
    "audiosdir = AUDIO_PATH\n",
    "\n",
    "audios_75_85 = []\n",
    "audios_95 = []\n",
    "\n",
    "def tri_audio(audio_name):\n",
    "  if(audio_name not in [*audios_75_85,*audios_95]):\n",
    "    try:\n",
    "      if(re.split('_|%',audio_name)[3] == \"75-85\"):\n",
    "        audios_75_85.append(audio_name)\n",
    "      else:\n",
    "        audios_95.append(audio_name)\n",
    "    except :\n",
    "      print(audio_name)\n",
    "for i in sorted(os.listdir(audiosdir)):\n",
    "  tri_audio(i)\n"
   ]
  },
  {
   "cell_type": "code",
   "execution_count": 134,
   "id": "f89938e5",
   "metadata": {},
   "outputs": [],
   "source": [
    "def load_audio(file_name):\n",
    "    if \"aug\" in file_name:\n",
    "        full_path = os.path.join(\"augmented_train_dataset\", file_name)\n",
    "    else:\n",
    "        full_path = os.path.join(\"AUDIO_DATA\", file_name)\n",
    "    y, sr = librosa.load(full_path, sr=None)\n",
    "    return y, sr\n"
   ]
  },
  {
   "cell_type": "code",
   "execution_count": 135,
   "id": "d8741f73",
   "metadata": {},
   "outputs": [],
   "source": [
    "path_good = sorted(Path(\"AUDIO_DATA\").glob(\"*75-85%output.wav\"))\n",
    "path_bad = sorted(Path(\"AUDIO_DATA\").glob(\"*95-Ripeoutput.wav\"))\n",
    "\n",
    "for p in [*path_good, *path_bad]:\n",
    "    if not p.is_file():\n",
    "        print(f\"{p} NOT FOUND\")"
   ]
  },
  {
   "cell_type": "code",
   "execution_count": 136,
   "id": "ec0976d3",
   "metadata": {},
   "outputs": [
    {
     "data": {
      "text/plain": [
       "([WindowsPath('AUDIO_DATA/20240929_023541_Dona_95-Ripeoutput.wav'),\n",
       "  WindowsPath('AUDIO_DATA/20240929_023702_Dona_95-Ripeoutput.wav'),\n",
       "  WindowsPath('AUDIO_DATA/20240929_023705_Dona_95-Ripeoutput.wav'),\n",
       "  WindowsPath('AUDIO_DATA/20240929_023710_Dona_95-Ripeoutput.wav'),\n",
       "  WindowsPath('AUDIO_DATA/20240929_023713_Dona_95-Ripeoutput.wav'),\n",
       "  WindowsPath('AUDIO_DATA/20240929_023718_Dona_95-Ripeoutput.wav'),\n",
       "  WindowsPath('AUDIO_DATA/20240929_023721_Dona_95-Ripeoutput.wav'),\n",
       "  WindowsPath('AUDIO_DATA/20240929_023726_Dona_95-Ripeoutput.wav'),\n",
       "  WindowsPath('AUDIO_DATA/20240929_023730_Dona_95-Ripeoutput.wav'),\n",
       "  WindowsPath('AUDIO_DATA/20240929_023734_Dona_95-Ripeoutput.wav'),\n",
       "  WindowsPath('AUDIO_DATA/20240929_023738_Dona_95-Ripeoutput.wav'),\n",
       "  WindowsPath('AUDIO_DATA/20240929_023742_Dona_95-Ripeoutput.wav'),\n",
       "  WindowsPath('AUDIO_DATA/20240929_023751_Dona_95-Ripeoutput.wav'),\n",
       "  WindowsPath('AUDIO_DATA/20240929_023758_Dona_95-Ripeoutput.wav'),\n",
       "  WindowsPath('AUDIO_DATA/20240929_023807_Dona_95-Ripeoutput.wav'),\n",
       "  WindowsPath('AUDIO_DATA/20240929_023811_Dona_95-Ripeoutput.wav'),\n",
       "  WindowsPath('AUDIO_DATA/20240929_023815_Dona_95-Ripeoutput.wav'),\n",
       "  WindowsPath('AUDIO_DATA/20240929_023820_Dona_95-Ripeoutput.wav'),\n",
       "  WindowsPath('AUDIO_DATA/20240929_023823_Dona_95-Ripeoutput.wav'),\n",
       "  WindowsPath('AUDIO_DATA/20240929_023827_Dona_95-Ripeoutput.wav'),\n",
       "  WindowsPath('AUDIO_DATA/20240929_023832_Dona_95-Ripeoutput.wav'),\n",
       "  WindowsPath('AUDIO_DATA/20240929_023835_Dona_95-Ripeoutput.wav'),\n",
       "  WindowsPath('AUDIO_DATA/20240929_023839_Dona_95-Ripeoutput.wav'),\n",
       "  WindowsPath('AUDIO_DATA/20240929_023843_Dona_95-Ripeoutput.wav'),\n",
       "  WindowsPath('AUDIO_DATA/20240929_023858_Dona_95-Ripeoutput.wav'),\n",
       "  WindowsPath('AUDIO_DATA/20240929_023901_Dona_95-Ripeoutput.wav'),\n",
       "  WindowsPath('AUDIO_DATA/20240929_023906_Dona_95-Ripeoutput.wav'),\n",
       "  WindowsPath('AUDIO_DATA/20240929_023911_Dona_95-Ripeoutput.wav'),\n",
       "  WindowsPath('AUDIO_DATA/20240929_023915_Dona_95-Ripeoutput.wav'),\n",
       "  WindowsPath('AUDIO_DATA/20240929_023919_Dona_95-Ripeoutput.wav'),\n",
       "  WindowsPath('AUDIO_DATA/20240929_023923_Dona_95-Ripeoutput.wav'),\n",
       "  WindowsPath('AUDIO_DATA/20240929_023926_Dona_95-Ripeoutput.wav'),\n",
       "  WindowsPath('AUDIO_DATA/20240929_023934_Dona_95-Ripeoutput.wav'),\n",
       "  WindowsPath('AUDIO_DATA/20240929_023938_Dona_95-Ripeoutput.wav'),\n",
       "  WindowsPath('AUDIO_DATA/20240929_023942_Dona_95-Ripeoutput.wav'),\n",
       "  WindowsPath('AUDIO_DATA/20240929_024309_Dona_95-Ripeoutput.wav'),\n",
       "  WindowsPath('AUDIO_DATA/20240929_024314_Dona_95-Ripeoutput.wav'),\n",
       "  WindowsPath('AUDIO_DATA/20240929_024318_Dona_95-Ripeoutput.wav'),\n",
       "  WindowsPath('AUDIO_DATA/20240929_024321_Dona_95-Ripeoutput.wav'),\n",
       "  WindowsPath('AUDIO_DATA/20240929_024325_Dona_95-Ripeoutput.wav'),\n",
       "  WindowsPath('AUDIO_DATA/20240929_024329_Dona_95-Ripeoutput.wav'),\n",
       "  WindowsPath('AUDIO_DATA/20240929_024333_Dona_95-Ripeoutput.wav'),\n",
       "  WindowsPath('AUDIO_DATA/20240929_024341_Dona_95-Ripeoutput.wav'),\n",
       "  WindowsPath('AUDIO_DATA/20240929_024345_Dona_95-Ripeoutput.wav'),\n",
       "  WindowsPath('AUDIO_DATA/20240929_024435_Dona_95-Ripeoutput.wav'),\n",
       "  WindowsPath('AUDIO_DATA/20240929_024443_Dona_95-Ripeoutput.wav'),\n",
       "  WindowsPath('AUDIO_DATA/20240929_024446_Dona_95-Ripeoutput.wav')],\n",
       " [WindowsPath('AUDIO_DATA/20240929_023338_Dona_75-85%output.wav'),\n",
       "  WindowsPath('AUDIO_DATA/20240929_023344_Dona_75-85%output.wav'),\n",
       "  WindowsPath('AUDIO_DATA/20240929_023348_Dona_75-85%output.wav'),\n",
       "  WindowsPath('AUDIO_DATA/20240929_023353_Dona_75-85%output.wav'),\n",
       "  WindowsPath('AUDIO_DATA/20240929_023359_Dona_75-85%output.wav'),\n",
       "  WindowsPath('AUDIO_DATA/20240929_023409_Dona_75-85%output.wav'),\n",
       "  WindowsPath('AUDIO_DATA/20240929_023414_Dona_75-85%output.wav'),\n",
       "  WindowsPath('AUDIO_DATA/20240929_023418_Dona_75-85%output.wav'),\n",
       "  WindowsPath('AUDIO_DATA/20240929_023426_Dona_75-85%output.wav'),\n",
       "  WindowsPath('AUDIO_DATA/20240929_023431_Dona_75-85%output.wav'),\n",
       "  WindowsPath('AUDIO_DATA/20240929_023435_Dona_75-85%output.wav'),\n",
       "  WindowsPath('AUDIO_DATA/20240929_023439_Dona_75-85%output.wav'),\n",
       "  WindowsPath('AUDIO_DATA/20240929_023443_Dona_75-85%output.wav'),\n",
       "  WindowsPath('AUDIO_DATA/20240929_023447_Dona_75-85%output.wav'),\n",
       "  WindowsPath('AUDIO_DATA/20240929_023501_Dona_75-85%output.wav'),\n",
       "  WindowsPath('AUDIO_DATA/20240929_023505_Dona_75-85%output.wav'),\n",
       "  WindowsPath('AUDIO_DATA/20240929_023509_Dona_75-85%output.wav'),\n",
       "  WindowsPath('AUDIO_DATA/20240929_023513_Dona_75-85%output.wav'),\n",
       "  WindowsPath('AUDIO_DATA/20240929_023517_Dona_75-85%output.wav'),\n",
       "  WindowsPath('AUDIO_DATA/20240929_023521_Dona_75-85%output.wav'),\n",
       "  WindowsPath('AUDIO_DATA/20240929_023957_Dona_75-85%output.wav'),\n",
       "  WindowsPath('AUDIO_DATA/20240929_024001_Dona_75-85%output.wav'),\n",
       "  WindowsPath('AUDIO_DATA/20240929_024005_Dona_75-85%output.wav'),\n",
       "  WindowsPath('AUDIO_DATA/20240929_024010_Dona_75-85%output.wav'),\n",
       "  WindowsPath('AUDIO_DATA/20240929_024014_Dona_75-85%output.wav'),\n",
       "  WindowsPath('AUDIO_DATA/20240929_024017_Dona_75-85%output.wav'),\n",
       "  WindowsPath('AUDIO_DATA/20240929_024027_Dona_75-85%output.wav'),\n",
       "  WindowsPath('AUDIO_DATA/20240929_024030_Dona_75-85%output.wav'),\n",
       "  WindowsPath('AUDIO_DATA/20240929_024034_Dona_75-85%output.wav'),\n",
       "  WindowsPath('AUDIO_DATA/20240929_024039_Dona_75-85%output.wav'),\n",
       "  WindowsPath('AUDIO_DATA/20240929_024358_Dona_75-85%output.wav'),\n",
       "  WindowsPath('AUDIO_DATA/20240929_024402_Dona_75-85%output.wav'),\n",
       "  WindowsPath('AUDIO_DATA/20240929_024406_Dona_75-85%output.wav'),\n",
       "  WindowsPath('AUDIO_DATA/20240929_024410_Dona_75-85%output.wav'),\n",
       "  WindowsPath('AUDIO_DATA/20240929_024413_Dona_75-85%output.wav'),\n",
       "  WindowsPath('AUDIO_DATA/20240929_024419_Dona_75-85%output.wav'),\n",
       "  WindowsPath('AUDIO_DATA/20240929_024422_Dona_75-85%output.wav'),\n",
       "  WindowsPath('AUDIO_DATA/20240929_024426_Dona_75-85%output.wav'),\n",
       "  WindowsPath('AUDIO_DATA/20240929_024459_Dona_75-85%output.wav'),\n",
       "  WindowsPath('AUDIO_DATA/20240929_024503_Dona_75-85%output.wav'),\n",
       "  WindowsPath('AUDIO_DATA/20240929_024506_Dona_75-85%output.wav'),\n",
       "  WindowsPath('AUDIO_DATA/20240929_024510_Dona_75-85%output.wav'),\n",
       "  WindowsPath('AUDIO_DATA/20240929_024513_Dona_75-85%output.wav'),\n",
       "  WindowsPath('AUDIO_DATA/20240929_024517_Dona_75-85%output.wav'),\n",
       "  WindowsPath('AUDIO_DATA/20240929_024521_Dona_75-85%output.wav')])"
      ]
     },
     "execution_count": 136,
     "metadata": {},
     "output_type": "execute_result"
    }
   ],
   "source": [
    "path_bad, path_good"
   ]
  },
  {
   "cell_type": "markdown",
   "id": "08ee8334",
   "metadata": {},
   "source": [
    "# **2. Data Augmentation**\n",
    "---"
   ]
  },
  {
   "cell_type": "code",
   "execution_count": 137,
   "id": "217860c2",
   "metadata": {},
   "outputs": [],
   "source": [
    "augment = Compose([\n",
    "    AddGaussianNoise(min_amplitude=0.001, max_amplitude=0.015, p=0.5),\n",
    "    TimeStretch(min_rate=0.9, max_rate=1.1, p=0.5),\n",
    "    PitchShift(min_semitones=-1, max_semitones=1, p=0.5),\n",
    "    Shift(min_shift=-0.1, max_shift=0.1, p=0.5)\n",
    "])"
   ]
  },
  {
   "cell_type": "code",
   "execution_count": 138,
   "id": "d2096c5c",
   "metadata": {},
   "outputs": [],
   "source": [
    "out_path: str = \"augmented_train_dataset\""
   ]
  },
  {
   "cell_type": "code",
   "execution_count": 139,
   "id": "ee8b655b",
   "metadata": {},
   "outputs": [],
   "source": [
    "!mkdir {out_path}"
   ]
  },
  {
   "cell_type": "code",
   "execution_count": 140,
   "id": "1b570338",
   "metadata": {},
   "outputs": [
    {
     "data": {
      "text/plain": [
       "['./AUDIO_DATA/20240929_023713_Dona_95-Ripeoutput.wav',\n",
       " './AUDIO_DATA/20240929_023353_Dona_75-85%output.wav',\n",
       " './AUDIO_DATA/20240929_023513_Dona_75-85%output.wav',\n",
       " './AUDIO_DATA/20240929_023823_Dona_95-Ripeoutput.wav',\n",
       " './AUDIO_DATA/20240929_023426_Dona_75-85%output.wav',\n",
       " './AUDIO_DATA/20240929_024345_Dona_95-Ripeoutput.wav',\n",
       " './AUDIO_DATA/20240929_023414_Dona_75-85%output.wav',\n",
       " './AUDIO_DATA/20240929_024510_Dona_75-85%output.wav',\n",
       " './AUDIO_DATA/20240929_023815_Dona_95-Ripeoutput.wav',\n",
       " './AUDIO_DATA/20240929_024503_Dona_75-85%output.wav',\n",
       " './AUDIO_DATA/20240929_024001_Dona_75-85%output.wav',\n",
       " './AUDIO_DATA/20240929_024521_Dona_75-85%output.wav',\n",
       " './AUDIO_DATA/20240929_023942_Dona_95-Ripeoutput.wav',\n",
       " './AUDIO_DATA/20240929_023843_Dona_95-Ripeoutput.wav',\n",
       " './AUDIO_DATA/20240929_023923_Dona_95-Ripeoutput.wav',\n",
       " './AUDIO_DATA/20240929_024402_Dona_75-85%output.wav',\n",
       " './AUDIO_DATA/20240929_023906_Dona_95-Ripeoutput.wav',\n",
       " './AUDIO_DATA/20240929_024039_Dona_75-85%output.wav',\n",
       " './AUDIO_DATA/20240929_024027_Dona_75-85%output.wav',\n",
       " './AUDIO_DATA/20240929_024517_Dona_75-85%output.wav',\n",
       " './AUDIO_DATA/20240929_024446_Dona_95-Ripeoutput.wav',\n",
       " './AUDIO_DATA/20240929_023835_Dona_95-Ripeoutput.wav',\n",
       " './AUDIO_DATA/20240929_024010_Dona_75-85%output.wav',\n",
       " './AUDIO_DATA/20240929_023915_Dona_95-Ripeoutput.wav',\n",
       " './AUDIO_DATA/20240929_024426_Dona_75-85%output.wav',\n",
       " './AUDIO_DATA/20240929_024005_Dona_75-85%output.wav',\n",
       " './AUDIO_DATA/20240929_023751_Dona_95-Ripeoutput.wav',\n",
       " './AUDIO_DATA/20240929_024506_Dona_75-85%output.wav',\n",
       " './AUDIO_DATA/20240929_024014_Dona_75-85%output.wav',\n",
       " './AUDIO_DATA/20240929_024034_Dona_75-85%output.wav',\n",
       " './AUDIO_DATA/20240929_024419_Dona_75-85%output.wav',\n",
       " './AUDIO_DATA/20240929_023820_Dona_95-Ripeoutput.wav',\n",
       " './AUDIO_DATA/20240929_023734_Dona_95-Ripeoutput.wav',\n",
       " './AUDIO_DATA/20240929_023344_Dona_75-85%output.wav',\n",
       " './AUDIO_DATA/20240929_023934_Dona_95-Ripeoutput.wav',\n",
       " './AUDIO_DATA/20240929_023702_Dona_95-Ripeoutput.wav',\n",
       " './AUDIO_DATA/20240929_023348_Dona_75-85%output.wav',\n",
       " './AUDIO_DATA/20240929_023710_Dona_95-Ripeoutput.wav',\n",
       " './AUDIO_DATA/20240929_024459_Dona_75-85%output.wav',\n",
       " './AUDIO_DATA/20240929_024358_Dona_75-85%output.wav',\n",
       " './AUDIO_DATA/20240929_024435_Dona_95-Ripeoutput.wav',\n",
       " './AUDIO_DATA/20240929_023541_Dona_95-Ripeoutput.wav',\n",
       " './AUDIO_DATA/20240929_024017_Dona_75-85%output.wav',\n",
       " './AUDIO_DATA/20240929_024333_Dona_95-Ripeoutput.wav',\n",
       " './AUDIO_DATA/20240929_023501_Dona_75-85%output.wav',\n",
       " './AUDIO_DATA/20240929_023926_Dona_95-Ripeoutput.wav']"
      ]
     },
     "execution_count": 140,
     "metadata": {},
     "output_type": "execute_result"
    }
   ],
   "source": [
    "train_files"
   ]
  },
  {
   "cell_type": "code",
   "execution_count": 141,
   "id": "d9da7125",
   "metadata": {},
   "outputs": [
    {
     "name": "stderr",
     "output_type": "stream",
     "text": [
      "100%|██████████| 46/46 [00:04<00:00,  9.70it/s]\n"
     ]
    }
   ],
   "source": [
    "\n",
    "out_path = \"augmented_train_dataset\"\n",
    "os.makedirs(out_path, exist_ok=True)\n",
    "\n",
    "nb_copies = 5  # nombre de copies augmentées par fichier\n",
    "\n",
    "for file_name, (wave, sr) in tqdm ([(Path(audio_path).name, librosa.load(audio_path)) for audio_path in train_files]):\n",
    "    for nb in range(nb_copies):\n",
    "        wave_aug = augment(samples=wave, sample_rate=sr)\n",
    "        out = os.path.join(out_path, f\"{file_name}_aug{nb}.wav\")\n",
    "        sf.write(out, wave_aug, sr)\n"
   ]
  },
  {
   "cell_type": "markdown",
   "id": "288c6962",
   "metadata": {},
   "source": [
    "# **3. Data and features extraction : MFCC**\n",
    "---"
   ]
  },
  {
   "cell_type": "code",
   "execution_count": 142,
   "id": "7c7da0ec",
   "metadata": {},
   "outputs": [
    {
     "name": "stdout",
     "output_type": "stream",
     "text": [
      "276 fichiers pour le train (originaux + augmentés)\n",
      "46 fichiers pour le test (non augmentés)\n"
     ]
    }
   ],
   "source": [
    "\n",
    "# Liste des fichiers augmentés\n",
    "augmented_files = sorted(Path(out_path).glob(\"*.wav\"))\n",
    "# Les fichiers originaux du train\n",
    "train_files_names = [Path(f).name for f in train_files]\n",
    "# Les fichiers du test\n",
    "test_files_names = [Path(f).name for f in test_files]\n",
    "# Liste complète des fichiers d'entraînement (originaux + augmentés)\n",
    "train_files_final = train_files_names + [f.name for f in augmented_files]\n",
    "\n",
    "print(f\"{len(train_files_final)} fichiers pour le train (originaux + augmentés)\")\n",
    "print(f\"{len(test_files_names)} fichiers pour le test (non augmentés)\")\n"
   ]
  },
  {
   "cell_type": "code",
   "execution_count": 143,
   "id": "b3a556a4",
   "metadata": {},
   "outputs": [],
   "source": [
    "n_mfcc     = 40        # number of coefficients\n",
    "n_fft      = 2048      # window size STFT\n",
    "hop_length = 512\n",
    "\n",
    "def compute_mfcc(lst: list):\n",
    "  for fn in lst:\n",
    "      y, sr = load_audio(fn)\n",
    "      mfcc_features = librosa.feature.mfcc(y=y, sr=sr, n_mfcc=n_mfcc, n_fft=n_fft, hop_length=hop_length)\n",
    "      yield librosa.util.normalize(mfcc_features, axis=1)"
   ]
  },
  {
   "cell_type": "code",
   "execution_count": 144,
   "id": "4cce4818",
   "metadata": {},
   "outputs": [],
   "source": [
    "mfcc_train = [*compute_mfcc(train_files_final)]\n",
    "mfcc_test = [*compute_mfcc(test_files_names)]\n"
   ]
  },
  {
   "cell_type": "markdown",
   "id": "d3467fe9",
   "metadata": {},
   "source": [
    "# **4. Audio dataset preparation (padding and trimming)**\n",
    "---"
   ]
  },
  {
   "cell_type": "markdown",
   "id": "26127b80",
   "metadata": {},
   "source": [
    "Besides, the idea is to set a single length T_max (typically the maximum recorded value) and then, for each MFCC:  \n",
    "*   If T_i < T_max → pad with columns of trailing zeros\n",
    "*   If T_i > T_max → trim to keep only the first T_max frames  "
   ]
  },
  {
   "cell_type": "code",
   "execution_count": 145,
   "id": "196dfd3a",
   "metadata": {},
   "outputs": [
    {
     "name": "stdout",
     "output_type": "stream",
     "text": [
      "Durée (train) : 268 257 271 259 271 257 268 248 244 246 268 248 255 273 246 268 201 255 246 248 244 246 248 244 266 246 255 246 246 273 246 246 271 244 268 244 250 248 268 266 268 241 271 273 239 271 122 122 122 122 122 125 125 125 125 125 129 129 129 129 129 134 134 134 134 134 136 136 136 136 136 120 120 120 120 120 136 136 136 136 136 121 121 121 121 121 122 122 122 122 122 124 124 124 124 124 134 134 134 134 134 136 136 136 136 136 128 128 128 128 128 122 122 122 122 122 123 123 123 123 123 130 130 130 130 130 123 123 123 123 123 137 137 137 137 137 101 101 101 101 101 122 122 122 122 122 123 123 123 123 123 136 136 136 136 136 134 134 134 134 134 128 128 128 128 128 134 134 134 134 134 123 123 123 123 123 124 124 124 124 124 123 123 123 123 123 136 136 136 136 136 123 123 123 123 123 137 137 137 137 137 128 128 128 128 128 137 137 137 137 137 129 129 129 129 129 133 133 133 133 133 134 134 134 134 134 123 123 123 123 123 133 133 133 133 133 134 134 134 134 134 122 122 122 122 122 134 134 134 134 134 123 123 123 123 123 123 123 123 123 123 124 124 124 124 124 124 124 124 124 124 124 124 124 124 124\n",
      "Durée (test) : 248 268 244 250 244 262 255 255 246 262 248 264 268 271 273 257 262 268 268 262 266 246 259 268 264 241 271 268 248 246 248 246 268 259 250 248 221 255 273 266 271 244 271 246 271 244\n",
      "The maximum value of time is 273 ms\n"
     ]
    }
   ],
   "source": [
    "# Pour le train\n",
    "T_train = [mfcc.shape[1] for mfcc in mfcc_train]\n",
    "print(\"Durée (train) :\", *T_train)\n",
    "\n",
    "# Pour le test\n",
    "T_test = [mfcc.shape[1] for mfcc in mfcc_test]\n",
    "print(\"Durée (test) :\", *T_test)\n",
    "\n",
    "# T_max commun pour le padding (on prend le max des deux)\n",
    "T_max = max(T_train + T_test)\n",
    "print(f'The maximum value of time is {T_max} ms')"
   ]
  },
  {
   "cell_type": "markdown",
   "id": "6df91e1d",
   "metadata": {},
   "source": [
    "In this step, we ensure that all MFCCs have the same length by either padding them with zeros or trimming them to a fixed length, `T_max`. This is necessary to standardize the input size for the model."
   ]
  },
  {
   "cell_type": "code",
   "execution_count": 146,
   "id": "af7014ae",
   "metadata": {},
   "outputs": [],
   "source": [
    "def pad_mfccs(mfcc_list, T_max):\n",
    "    mfcc_fixed = []\n",
    "    for m in mfcc_list:\n",
    "        T_i = m.shape[1]\n",
    "        if T_i < T_max:\n",
    "            pad_width = T_max - T_i\n",
    "            m2 = np.pad(m,\n",
    "                        pad_width=((0,0),   # no padding sur les coefficients\n",
    "                        (0,pad_width)),     # padding à droite sur le temps\n",
    "                        mode='constant',\n",
    "                        constant_values=0)\n",
    "        else:\n",
    "            m2 = m[:, :T_max]\n",
    "        mfcc_fixed.append(m2)\n",
    "    return mfcc_fixed\n",
    "\n",
    "# Pour le train\n",
    "mfcc_train_fixed = pad_mfccs(mfcc_train, T_max)\n",
    "\n",
    "# Pour le test\n",
    "mfcc_test_fixed = pad_mfccs(mfcc_test, T_max)\n"
   ]
  },
  {
   "cell_type": "markdown",
   "id": "f388ccbb",
   "metadata": {},
   "source": [
    "# **5. Dataset formatting for model input**\n",
    "---\n",
    "At this stage, we will prepare our padded/truncated MFCCs into the right shape for our deep learning model (flattening, stacking, or reshaping as needed), and associate them with their corresponding labels.\n"
   ]
  },
  {
   "cell_type": "code",
   "execution_count": 147,
   "id": "629c0eb0",
   "metadata": {},
   "outputs": [
    {
     "name": "stdout",
     "output_type": "stream",
     "text": [
      "X_train.shape = (276, 40, 273, 1)\n",
      "X_test.shape = (46, 40, 273, 1)\n"
     ]
    }
   ],
   "source": [
    "x_train = np.stack(mfcc_train_fixed, axis=0)[..., np.newaxis]\n",
    "x_test = np.stack(mfcc_test_fixed, axis=0)[..., np.newaxis]\n",
    "\n",
    "print(\"X_train.shape =\", x_train.shape)\n",
    "print(\"X_test.shape =\", x_test.shape)\n"
   ]
  },
  {
   "cell_type": "markdown",
   "id": "23a9bbe1",
   "metadata": {},
   "source": [
    "# **6. Label and shuffle**\n",
    "---"
   ]
  },
  {
   "cell_type": "code",
   "execution_count": 148,
   "id": "912b8a91",
   "metadata": {},
   "outputs": [
    {
     "name": "stdout",
     "output_type": "stream",
     "text": [
      "20240929_023713_Dona_95-Ripeoutput.wav 1\n",
      "20240929_023353_Dona_75-85%output.wav 0\n",
      "20240929_023513_Dona_75-85%output.wav 0\n",
      "20240929_023823_Dona_95-Ripeoutput.wav 1\n",
      "20240929_023426_Dona_75-85%output.wav 0\n",
      "20240929_023832_Dona_95-Ripeoutput.wav 1\n",
      "20240929_023705_Dona_95-Ripeoutput.wav 1\n",
      "20240929_023957_Dona_75-85%output.wav 0\n",
      "20240929_024341_Dona_95-Ripeoutput.wav 1\n",
      "20240929_023338_Dona_75-85%output.wav 0\n",
      "y_train.shape = (276,)\n",
      "y_test.shape = (46,)\n"
     ]
    }
   ],
   "source": [
    "def get_label(filename):\n",
    "    if \"75-85\" in filename:\n",
    "        return 0  # 0 pour unripe\n",
    "    elif \"95\" in filename:\n",
    "        return 1  # 1 pour ripe\n",
    "    else:\n",
    "        raise ValueError(f\"Le nom de fichier ne permet pas d'extraire le label : {filename}\")\n",
    "\n",
    "for f in train_files_final[:5]:\n",
    "    print(f, get_label(f))\n",
    "for f in test_files_names[:5]:\n",
    "    print(f, get_label(f))\n",
    "\n",
    "\n",
    "y_train = np.array([get_label(f) for f in train_files_final])\n",
    "y_test = np.array([get_label(f) for f in test_files_names])\n",
    "\n",
    "print(\"y_train.shape =\", y_train.shape)\n",
    "print(\"y_test.shape =\", y_test.shape)\n"
   ]
  },
  {
   "cell_type": "markdown",
   "id": "ede5ba7a",
   "metadata": {},
   "source": [
    "Shuffle training data ton ensure linear accuracy progress during training"
   ]
  },
  {
   "cell_type": "code",
   "execution_count": 149,
   "id": "a43d9eff",
   "metadata": {},
   "outputs": [],
   "source": [
    "# Shuffle le train pour éviter tout biais\n",
    "idx = np.arange(x_train.shape[0])\n",
    "np.random.shuffle(idx)\n",
    "x_train = x_train[idx]\n",
    "y_train = y_train[idx]\n"
   ]
  },
  {
   "cell_type": "markdown",
   "id": "50f96ada",
   "metadata": {},
   "source": [
    "# **7. Building the classification model**\n",
    "---\n",
    "Now let's define our deep learning model. We'll use a simple Convolutional Neural Network (CNN) architecture suitable for audio classification.\n"
   ]
  },
  {
   "cell_type": "code",
   "execution_count": 150,
   "id": "bb53d03e",
   "metadata": {},
   "outputs": [],
   "source": [
    "from keras.models import Sequential\n",
    "from keras.layers import Dense, Conv2D, Input, BatchNormalization, Dropout, MaxPooling2D, Flatten\n",
    "import numpy as np\n",
    "import matplotlib.pyplot as plt\n",
    "from sklearn.metrics import confusion_matrix, classification_report\n",
    "import seaborn as sns\n",
    "import tensorflow as tf\n",
    "from keras.models import Sequential\n",
    "from keras.layers import Conv2D, MaxPooling2D, Flatten, Dense, Dropout, BatchNormalization\n",
    "from keras.callbacks import EarlyStopping\n",
    "from keras.utils import to_categorical\n",
    "from sklearn.utils import class_weight\n"
   ]
  },
  {
   "cell_type": "code",
   "execution_count": 151,
   "id": "8c17d104",
   "metadata": {},
   "outputs": [],
   "source": [
    "model = Sequential([\n",
    "    Input(shape=x_train.shape[1:]),\n",
    "    Conv2D(32, (3,3), activation='relu'),\n",
    "    BatchNormalization(),\n",
    "    MaxPooling2D(),\n",
    "    Dropout(0.25),\n",
    "\n",
    "    Conv2D(64, (3,3), activation='relu'),\n",
    "    BatchNormalization(),\n",
    "    MaxPooling2D(),\n",
    "    Dropout(0.25),\n",
    "\n",
    "    Flatten(),\n",
    "    Dense(128, activation='relu', kernel_regularizer=keras.regularizers.l2(1e-4)),\n",
    "    Dropout(0.5),\n",
    "    Dense(1, activation='sigmoid')\n",
    "])"
   ]
  },
  {
   "cell_type": "code",
   "execution_count": 152,
   "id": "afef7f1c",
   "metadata": {},
   "outputs": [
    {
     "name": "stdout",
     "output_type": "stream",
     "text": [
      "You must install pydot (`pip install pydot`) for `plot_model` to work.\n"
     ]
    }
   ],
   "source": [
    "keras.utils.plot_model(model, show_shapes=True)"
   ]
  },
  {
   "cell_type": "code",
   "execution_count": 153,
   "id": "010c4ab1",
   "metadata": {},
   "outputs": [],
   "source": [
    "def compile_model(model, learning_rate: int | None = None):\n",
    "    if learning_rate is not None:\n",
    "        opt = keras.optimizers.Adam(learning_rate=learning_rate)\n",
    "        model.compile(\n",
    "            optimizer=opt,\n",
    "            loss='binary_crossentropy',\n",
    "            metrics=['accuracy']\n",
    "        )\n",
    "        return opt\n",
    "    model.compile(\n",
    "        optimizer='adam',\n",
    "        loss='binary_crossentropy',\n",
    "        metrics=['accuracy']\n",
    "    )"
   ]
  },
  {
   "cell_type": "code",
   "execution_count": 154,
   "id": "771db89b",
   "metadata": {},
   "outputs": [],
   "source": [
    "compile_model(model)"
   ]
  },
  {
   "cell_type": "markdown",
   "id": "31692876",
   "metadata": {},
   "source": [
    "# **6. Model training**\n",
    "---\n",
    "Let's train the model on the training data and keep track of its performance.\n"
   ]
  },
  {
   "cell_type": "code",
   "execution_count": 155,
   "id": "cbb111c1",
   "metadata": {},
   "outputs": [
    {
     "name": "stdout",
     "output_type": "stream",
     "text": [
      "Epoch 1/60\n",
      "\u001b[1m7/7\u001b[0m \u001b[32m━━━━━━━━━━━━━━━━━━━━\u001b[0m\u001b[37m\u001b[0m \u001b[1m12s\u001b[0m 1s/step - accuracy: 0.5296 - loss: 12.1388 - val_accuracy: 0.5000 - val_loss: 0.7820\n",
      "Epoch 2/60\n",
      "\u001b[1m7/7\u001b[0m \u001b[32m━━━━━━━━━━━━━━━━━━━━\u001b[0m\u001b[37m\u001b[0m \u001b[1m6s\u001b[0m 884ms/step - accuracy: 0.5347 - loss: 9.0076 - val_accuracy: 0.5000 - val_loss: 0.7221\n",
      "Epoch 3/60\n",
      "\u001b[1m7/7\u001b[0m \u001b[32m━━━━━━━━━━━━━━━━━━━━\u001b[0m\u001b[37m\u001b[0m \u001b[1m7s\u001b[0m 958ms/step - accuracy: 0.5280 - loss: 2.2501 - val_accuracy: 0.5357 - val_loss: 0.7314\n",
      "Epoch 4/60\n",
      "\u001b[1m7/7\u001b[0m \u001b[32m━━━━━━━━━━━━━━━━━━━━\u001b[0m\u001b[37m\u001b[0m \u001b[1m10s\u001b[0m 1s/step - accuracy: 0.5453 - loss: 0.8785 - val_accuracy: 0.5000 - val_loss: 0.9311\n",
      "Epoch 5/60\n",
      "\u001b[1m7/7\u001b[0m \u001b[32m━━━━━━━━━━━━━━━━━━━━\u001b[0m\u001b[37m\u001b[0m \u001b[1m8s\u001b[0m 1s/step - accuracy: 0.6161 - loss: 0.7116 - val_accuracy: 0.5000 - val_loss: 1.3177\n",
      "Epoch 6/60\n",
      "\u001b[1m7/7\u001b[0m \u001b[32m━━━━━━━━━━━━━━━━━━━━\u001b[0m\u001b[37m\u001b[0m \u001b[1m7s\u001b[0m 996ms/step - accuracy: 0.6229 - loss: 0.6707 - val_accuracy: 0.5000 - val_loss: 1.8295\n",
      "Epoch 7/60\n",
      "\u001b[1m7/7\u001b[0m \u001b[32m━━━━━━━━━━━━━━━━━━━━\u001b[0m\u001b[37m\u001b[0m \u001b[1m9s\u001b[0m 1s/step - accuracy: 0.5713 - loss: 0.7316 - val_accuracy: 0.5000 - val_loss: 2.3073\n"
     ]
    }
   ],
   "source": [
    "es = EarlyStopping(monitor='val_loss', patience=5, restore_best_weights=True)\n",
    "\n",
    "\n",
    "history = model.fit(\n",
    "    x_train, y_train,\n",
    "    epochs=60,\n",
    "    batch_size=32,\n",
    "    validation_split=0.2,\n",
    "    callbacks=[es],\n",
    "    shuffle=True,\n",
    ")"
   ]
  },
  {
   "cell_type": "markdown",
   "id": "3e15b11e",
   "metadata": {},
   "source": [
    "# **7. Model evaluation**\n",
    "---\n",
    "We now evaluate the trained model on the test set, check the accuracy, and display a confusion matrix for detailed analysis.\n"
   ]
  },
  {
   "cell_type": "code",
   "execution_count": 156,
   "id": "dacce045",
   "metadata": {},
   "outputs": [
    {
     "name": "stdout",
     "output_type": "stream",
     "text": [
      "\u001b[1m2/2\u001b[0m \u001b[32m━━━━━━━━━━━━━━━━━━━━\u001b[0m\u001b[37m\u001b[0m \u001b[1m0s\u001b[0m 55ms/step - accuracy: 0.4543 - loss: 0.7870\n"
     ]
    }
   ],
   "source": [
    "loss, acc = model.evaluate(x_test, y_test)"
   ]
  },
  {
   "cell_type": "markdown",
   "id": "973b0936",
   "metadata": {},
   "source": [
    "# **8. Results & analysis**\n",
    "---\n",
    "Let's analyze the results, discuss strengths and weaknesses, and try to interpret what the model is learning.\n"
   ]
  },
  {
   "cell_type": "code",
   "execution_count": 157,
   "id": "9afb91a3",
   "metadata": {},
   "outputs": [
    {
     "name": "stdout",
     "output_type": "stream",
     "text": [
      "X_train.shape: (276, 40, 273, 1)\n",
      "y_train.shape: (276,)\n",
      "X_test.shape: (46, 40, 273, 1)\n",
      "y_test.shape: (46,)\n",
      "Répartition y_train : (array([0, 1]), array([150, 126]))\n",
      "Répartition y_test : (array([0, 1]), array([20, 26]))\n",
      "Premier fichier train: 20240929_023713_Dona_95-Ripeoutput.wav label: 0\n",
      "Premier fichier test: 20240929_023832_Dona_95-Ripeoutput.wav label: 1\n"
     ]
    }
   ],
   "source": [
    "print(\"X_train.shape:\", x_train.shape)\n",
    "print(\"y_train.shape:\", y_train.shape)\n",
    "print(\"X_test.shape:\", x_test.shape)\n",
    "print(\"y_test.shape:\", y_test.shape)\n",
    "\n",
    "print(\"Répartition y_train :\", np.unique(y_train, return_counts=True))\n",
    "print(\"Répartition y_test :\", np.unique(y_test, return_counts=True))\n",
    "\n",
    "print(\"Premier fichier train:\", train_files_final[0], \"label:\", y_train[0])\n",
    "print(\"Premier fichier test:\", test_files_names[0], \"label:\", y_test[0])"
   ]
  },
  {
   "cell_type": "code",
   "execution_count": 158,
   "id": "8e7a2ac6",
   "metadata": {},
   "outputs": [
    {
     "name": "stdout",
     "output_type": "stream",
     "text": [
      "y_train repartition : [150 126]\n",
      "y_test repartition : [20 26]\n"
     ]
    }
   ],
   "source": [
    "print(\"y_train repartition :\", np.bincount(y_train))\n",
    "print(\"y_test repartition :\", np.bincount(y_test))"
   ]
  },
  {
   "cell_type": "code",
   "execution_count": 159,
   "id": "4a5c79d9",
   "metadata": {},
   "outputs": [
    {
     "data": {
      "image/png": "[encoded data removed]",
      "text/plain": [
       "<Figure size 1200x400 with 2 Axes>"
      ]
     },
     "metadata": {},
     "output_type": "display_data"
    },
    {
     "name": "stdout",
     "output_type": "stream",
     "text": [
      "\u001b[1m2/2\u001b[0m \u001b[32m━━━━━━━━━━━━━━━━━━━━\u001b[0m\u001b[37m\u001b[0m \u001b[1m0s\u001b[0m 98ms/step\n"
     ]
    },
    {
     "data": {
      "image/png": "[encoded data removed]",
      "text/plain": [
       "<Figure size 600x500 with 2 Axes>"
      ]
     },
     "metadata": {},
     "output_type": "display_data"
    },
    {
     "name": "stdout",
     "output_type": "stream",
     "text": [
      "              precision    recall  f1-score   support\n",
      "\n",
      "      unripe       0.45      0.95      0.61        20\n",
      "        ripe       0.75      0.12      0.20        26\n",
      "\n",
      "    accuracy                           0.48        46\n",
      "   macro avg       0.60      0.53      0.41        46\n",
      "weighted avg       0.62      0.48      0.38        46\n",
      "\n"
     ]
    }
   ],
   "source": [
    "plt.figure(figsize=(12,4))\n",
    "\n",
    "# Accuracy\n",
    "plt.subplot(1,2,1)\n",
    "plt.plot(history.history['accuracy'], label='train')\n",
    "plt.plot(history.history['val_accuracy'], label='val')\n",
    "plt.title(\"Accuracy\")\n",
    "plt.xlabel(\"Epoch\")\n",
    "plt.ylabel(\"Accuracy\")\n",
    "plt.legend()\n",
    "\n",
    "# Loss\n",
    "plt.subplot(1,2,2)\n",
    "plt.plot(history.history['loss'], label='train')\n",
    "plt.plot(history.history['val_loss'], label='val')\n",
    "plt.title(\"Loss\")\n",
    "plt.xlabel(\"Epoch\")\n",
    "plt.ylabel(\"Loss\")\n",
    "plt.legend()\n",
    "\n",
    "plt.tight_layout()\n",
    "plt.show()\n",
    "\n",
    "# Confusion matrix\n",
    "y_prob = model.predict(x_test).ravel()\n",
    "y_pred = (y_prob >= 0.5).astype(int)\n",
    "\n",
    "cm = confusion_matrix(y_test, y_pred)\n",
    "labels = ['unripe', 'ripe']\n",
    "\n",
    "plt.figure(figsize=(6,5))\n",
    "sns.heatmap(cm, annot=True, fmt=\"d\", cmap=\"Blues\",\n",
    "            xticklabels=labels, yticklabels=labels)\n",
    "plt.xlabel(\"Prediction\")\n",
    "plt.ylabel(\"Reality\")\n",
    "plt.title(\"Confusion matrix\")\n",
    "plt.show()\n",
    "\n",
    "print(classification_report(y_test, y_pred, target_names=labels))\n",
    "\n"
   ]
  }
 ],
 "metadata": {
  "kernelspec": {
   "display_name": ".venv",
   "language": "python",
   "name": "python3"
  },
  "language_info": {
   "codemirror_mode": {
    "name": "ipython",
    "version": 3
   },
   "file_extension": ".py",
   "mimetype": "text/x-python",
   "name": "python",
   "nbconvert_exporter": "python",
   "pygments_lexer": "ipython3",
   "version": "3.12.0"
  }
 },
 "nbformat": 4,
 "nbformat_minor": 5
}
