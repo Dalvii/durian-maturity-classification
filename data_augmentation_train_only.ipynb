{
 "cells": [
  {
   "cell_type": "code",
   "execution_count": 1,
   "id": "b433d42b",
   "metadata": {},
   "outputs": [],
   "source": [
    "import os\n",
    "from pathlib import Path\n",
    "import torch\n",
    "from tqdm import tqdm\n",
    "import warnings\n",
    "import re\n",
    "import keras\n",
    "import librosa\n",
    "import tensorflow as tf\n",
    "import numpy as np\n",
    "from audiomentations import Compose, AddGaussianNoise, TimeStretch, PitchShift, Shift\n",
    "import random\n",
    "import soundfile as sf\n",
    "import shutil"
   ]
  },
  {
   "cell_type": "markdown",
   "id": "02217a1f",
   "metadata": {},
   "source": [
    "### Use cuda acceleration (optional)"
   ]
  },
  {
   "cell_type": "code",
   "execution_count": 2,
   "id": "87e48947",
   "metadata": {},
   "outputs": [
    {
     "data": {
      "text/plain": [
       "'cpu'"
      ]
     },
     "execution_count": 2,
     "metadata": {},
     "output_type": "execute_result"
    }
   ],
   "source": [
    "device = \"cuda\" if torch.cuda.is_available() else \"cpu\"\n",
    "device"
   ]
  },
  {
   "cell_type": "code",
   "execution_count": 3,
   "id": "7ef92323",
   "metadata": {},
   "outputs": [],
   "source": [
    "\n",
    "path = './AUDIO_DATA'\n",
    "\n",
    "if os.path.exists('./augmented_train_dataset'):\n",
    "    shutil.rmtree('./augmented_train_dataset')\n",
    "\n",
    "if os.path.exists('./augmented_test_dataset'):\n",
    "    shutil.rmtree('./augmented_test_dataset')"
   ]
  },
  {
   "cell_type": "markdown",
   "id": "62924dbd",
   "metadata": {},
   "source": [
    "### Link your google drive storage if you are working on google colab (optional)  "
   ]
  },
  {
   "cell_type": "code",
   "execution_count": 4,
   "id": "44664c23",
   "metadata": {},
   "outputs": [],
   "source": [
    "path = '<your google drive path>'\n",
    "# from google.colab import drive\n",
    "# drive.mount('/content/drive')\n",
    "# %cd /content/drive/MyDrive/DurianAudios"
   ]
  },
  {
   "cell_type": "code",
   "execution_count": 5,
   "id": "3e94f577",
   "metadata": {},
   "outputs": [
    {
     "data": {
      "text/plain": [
       "(None, None, None)"
      ]
     },
     "execution_count": 5,
     "metadata": {},
     "output_type": "execute_result"
    }
   ],
   "source": [
    "seed = 41\n",
    "random.seed(seed), np.random.seed(seed), tf.random.set_seed(seed)"
   ]
  },
  {
   "cell_type": "code",
   "execution_count": 6,
   "id": "a9b14934",
   "metadata": {},
   "outputs": [
    {
     "name": "stdout",
     "output_type": "stream",
     "text": [
      "AUDIO_DATA\\20240929_023338_Dona_75-85%output.wav AUDIO_DATA\\20240929_023344_Dona_75-85%output.wav AUDIO_DATA\\20240929_023348_Dona_75-85%output.wav AUDIO_DATA\\20240929_023353_Dona_75-85%output.wav AUDIO_DATA\\20240929_023359_Dona_75-85%output.wav AUDIO_DATA\\20240929_023409_Dona_75-85%output.wav AUDIO_DATA\\20240929_023414_Dona_75-85%output.wav AUDIO_DATA\\20240929_023418_Dona_75-85%output.wav AUDIO_DATA\\20240929_023426_Dona_75-85%output.wav AUDIO_DATA\\20240929_023431_Dona_75-85%output.wav AUDIO_DATA\\20240929_023435_Dona_75-85%output.wav AUDIO_DATA\\20240929_023439_Dona_75-85%output.wav AUDIO_DATA\\20240929_023443_Dona_75-85%output.wav AUDIO_DATA\\20240929_023447_Dona_75-85%output.wav AUDIO_DATA\\20240929_023501_Dona_75-85%output.wav AUDIO_DATA\\20240929_023505_Dona_75-85%output.wav AUDIO_DATA\\20240929_023509_Dona_75-85%output.wav AUDIO_DATA\\20240929_023513_Dona_75-85%output.wav AUDIO_DATA\\20240929_023517_Dona_75-85%output.wav AUDIO_DATA\\20240929_023521_Dona_75-85%output.wav AUDIO_DATA\\20240929_023541_Dona_95-Ripeoutput.wav AUDIO_DATA\\20240929_023702_Dona_95-Ripeoutput.wav AUDIO_DATA\\20240929_023705_Dona_95-Ripeoutput.wav AUDIO_DATA\\20240929_023710_Dona_95-Ripeoutput.wav AUDIO_DATA\\20240929_023713_Dona_95-Ripeoutput.wav AUDIO_DATA\\20240929_023718_Dona_95-Ripeoutput.wav AUDIO_DATA\\20240929_023721_Dona_95-Ripeoutput.wav AUDIO_DATA\\20240929_023726_Dona_95-Ripeoutput.wav AUDIO_DATA\\20240929_023730_Dona_95-Ripeoutput.wav AUDIO_DATA\\20240929_023734_Dona_95-Ripeoutput.wav AUDIO_DATA\\20240929_023738_Dona_95-Ripeoutput.wav AUDIO_DATA\\20240929_023742_Dona_95-Ripeoutput.wav AUDIO_DATA\\20240929_023751_Dona_95-Ripeoutput.wav AUDIO_DATA\\20240929_023758_Dona_95-Ripeoutput.wav AUDIO_DATA\\20240929_023807_Dona_95-Ripeoutput.wav AUDIO_DATA\\20240929_023811_Dona_95-Ripeoutput.wav AUDIO_DATA\\20240929_023815_Dona_95-Ripeoutput.wav AUDIO_DATA\\20240929_023820_Dona_95-Ripeoutput.wav AUDIO_DATA\\20240929_023823_Dona_95-Ripeoutput.wav AUDIO_DATA\\20240929_023827_Dona_95-Ripeoutput.wav AUDIO_DATA\\20240929_023832_Dona_95-Ripeoutput.wav AUDIO_DATA\\20240929_023835_Dona_95-Ripeoutput.wav AUDIO_DATA\\20240929_023839_Dona_95-Ripeoutput.wav AUDIO_DATA\\20240929_023843_Dona_95-Ripeoutput.wav AUDIO_DATA\\20240929_023858_Dona_95-Ripeoutput.wav AUDIO_DATA\\20240929_023901_Dona_95-Ripeoutput.wav AUDIO_DATA\\20240929_023906_Dona_95-Ripeoutput.wav AUDIO_DATA\\20240929_023911_Dona_95-Ripeoutput.wav AUDIO_DATA\\20240929_023915_Dona_95-Ripeoutput.wav AUDIO_DATA\\20240929_023919_Dona_95-Ripeoutput.wav AUDIO_DATA\\20240929_023923_Dona_95-Ripeoutput.wav AUDIO_DATA\\20240929_023926_Dona_95-Ripeoutput.wav AUDIO_DATA\\20240929_023934_Dona_95-Ripeoutput.wav AUDIO_DATA\\20240929_023938_Dona_95-Ripeoutput.wav AUDIO_DATA\\20240929_023942_Dona_95-Ripeoutput.wav AUDIO_DATA\\20240929_023957_Dona_75-85%output.wav AUDIO_DATA\\20240929_024001_Dona_75-85%output.wav AUDIO_DATA\\20240929_024005_Dona_75-85%output.wav AUDIO_DATA\\20240929_024010_Dona_75-85%output.wav AUDIO_DATA\\20240929_024014_Dona_75-85%output.wav AUDIO_DATA\\20240929_024017_Dona_75-85%output.wav AUDIO_DATA\\20240929_024027_Dona_75-85%output.wav AUDIO_DATA\\20240929_024030_Dona_75-85%output.wav AUDIO_DATA\\20240929_024034_Dona_75-85%output.wav AUDIO_DATA\\20240929_024039_Dona_75-85%output.wav AUDIO_DATA\\20240929_024309_Dona_95-Ripeoutput.wav AUDIO_DATA\\20240929_024314_Dona_95-Ripeoutput.wav AUDIO_DATA\\20240929_024318_Dona_95-Ripeoutput.wav AUDIO_DATA\\20240929_024321_Dona_95-Ripeoutput.wav AUDIO_DATA\\20240929_024325_Dona_95-Ripeoutput.wav AUDIO_DATA\\20240929_024329_Dona_95-Ripeoutput.wav AUDIO_DATA\\20240929_024333_Dona_95-Ripeoutput.wav AUDIO_DATA\\20240929_024341_Dona_95-Ripeoutput.wav AUDIO_DATA\\20240929_024345_Dona_95-Ripeoutput.wav AUDIO_DATA\\20240929_024358_Dona_75-85%output.wav AUDIO_DATA\\20240929_024402_Dona_75-85%output.wav AUDIO_DATA\\20240929_024406_Dona_75-85%output.wav AUDIO_DATA\\20240929_024410_Dona_75-85%output.wav AUDIO_DATA\\20240929_024413_Dona_75-85%output.wav AUDIO_DATA\\20240929_024419_Dona_75-85%output.wav AUDIO_DATA\\20240929_024422_Dona_75-85%output.wav AUDIO_DATA\\20240929_024426_Dona_75-85%output.wav AUDIO_DATA\\20240929_024435_Dona_95-Ripeoutput.wav AUDIO_DATA\\20240929_024443_Dona_95-Ripeoutput.wav AUDIO_DATA\\20240929_024446_Dona_95-Ripeoutput.wav AUDIO_DATA\\20240929_024459_Dona_75-85%output.wav AUDIO_DATA\\20240929_024503_Dona_75-85%output.wav AUDIO_DATA\\20240929_024506_Dona_75-85%output.wav AUDIO_DATA\\20240929_024510_Dona_75-85%output.wav AUDIO_DATA\\20240929_024513_Dona_75-85%output.wav AUDIO_DATA\\20240929_024517_Dona_75-85%output.wav AUDIO_DATA\\20240929_024521_Dona_75-85%output.wav\n"
     ]
    }
   ],
   "source": [
    "\n",
    "AUDIO_PATH = Path(\"./AUDIO_DATA\")\n",
    "assert AUDIO_PATH.exists(), f\"Audio path {AUDIO_PATH} does not exist.\"\n",
    "AUDIO_LIST = list(AUDIO_PATH.glob(\"*\"))\n",
    "print(*AUDIO_LIST)"
   ]
  },
  {
   "cell_type": "code",
   "execution_count": 7,
   "id": "03b5548c",
   "metadata": {},
   "outputs": [],
   "source": [
    "warnings.filterwarnings(\"ignore\", category=FutureWarning)\n",
    "warnings.filterwarnings(\"ignore\", message=\"PySoundFile failed.*\")\n",
    "\n",
    "audios_75_85: list[Path] = []\n",
    "audios_95: list[Path] = []\n",
    "\n",
    "def tri_audio(audio: Path):\n",
    "  if(audio.name not in [*audios_75_85,*audios_95]):\n",
    "    try:\n",
    "      if(re.split('_|%',audio.name)[3] == \"75-85\"):\n",
    "        audios_75_85.append(audio)\n",
    "      else:\n",
    "        audios_95.append(audio)\n",
    "    except :\n",
    "      print(audio.name)\n",
    "for i in sorted(AUDIO_LIST):\n",
    "  tri_audio(i)"
   ]
  },
  {
   "cell_type": "code",
   "execution_count": 8,
   "id": "07faf3b0",
   "metadata": {},
   "outputs": [],
   "source": [
    "from sklearn.model_selection import train_test_split\n",
    "\n",
    "# Séparer la liste AUDIO_LIST en train et test avant toute data augmentation\n",
    "train_files_1, test_files_1 = train_test_split(audios_95, test_size=0.2, random_state=42, shuffle=True)\n",
    "train_files_2, test_files_2 = train_test_split(audios_75_85, test_size=0.2, random_state=42, shuffle=True)\n",
    "\n",
    "train_files = train_files_1 + train_files_2\n",
    "random.shuffle(train_files)\n",
    "test_files = test_files_1 + test_files_2\n"
   ]
  },
  {
   "cell_type": "code",
   "execution_count": 9,
   "id": "ce705795",
   "metadata": {},
   "outputs": [
    {
     "data": {
      "text/plain": [
       "(73, 19)"
      ]
     },
     "execution_count": 9,
     "metadata": {},
     "output_type": "execute_result"
    }
   ],
   "source": [
    "len(train_files), len(test_files)"
   ]
  },
  {
   "cell_type": "code",
   "execution_count": 10,
   "id": "4f606e7b",
   "metadata": {},
   "outputs": [],
   "source": [
    "train_files = [Path(i) for i in train_files]\n",
    "test_files = [Path(i) for i in test_files]\n",
    "assert False not in [i.exists() for i in train_files], \"Some training files do not exist.\"\n",
    "assert False not in [i.exists() for i in test_files], \"Some testing files do not exist.\""
   ]
  },
  {
   "cell_type": "markdown",
   "id": "01505ac3",
   "metadata": {},
   "source": [
    "# **1. Data preparation**\n",
    "---"
   ]
  },
  {
   "cell_type": "code",
   "execution_count": 11,
   "id": "f89938e5",
   "metadata": {},
   "outputs": [],
   "source": [
    "# def load_audio(file_name, parent_dir=AUDIO_PATH):\n",
    "#     if \"aug\" in file_name:\n",
    "#         full_path = os.path.join(\"augmented_train_dataset\", file_name)\n",
    "#     elif \"test\" in file_name:\n",
    "#         full_path = os.path.join(\"augmented_test_dataset\", file_name)\n",
    "#     else:\n",
    "#         full_path = os.path.join(\"AUDIO_DATA\", file_name)\n",
    "#     y, sr = librosa.load(full_path, sr=None)\n",
    "#     return y, sr"
   ]
  },
  {
   "cell_type": "code",
   "execution_count": 12,
   "id": "d8741f73",
   "metadata": {},
   "outputs": [],
   "source": [
    "# path_good = sorted(Path(\"AUDIO_DATA\").glob(\"*75-85%output.wav\"))\n",
    "# path_bad = sorted(Path(\"AUDIO_DATA\").glob(\"*95-Ripeoutput.wav\"))\n",
    "\n",
    "# for p in [*path_good, *path_bad]:\n",
    "#     if not p.is_file():\n",
    "#         print(f\"{p} NOT FOUND\")"
   ]
  },
  {
   "cell_type": "markdown",
   "id": "08ee8334",
   "metadata": {},
   "source": [
    "# **2. Data Augmentation**\n",
    "---"
   ]
  },
  {
   "cell_type": "code",
   "execution_count": 13,
   "id": "217860c2",
   "metadata": {},
   "outputs": [],
   "source": [
    "augment = [\n",
    "    AddGaussianNoise(min_amplitude=0.000001, max_amplitude=0.00001, p=0.5),\n",
    "    TimeStretch(min_rate=0.99, max_rate=1.01, p=0.5),\n",
    "    PitchShift(min_semitones=-0.1, max_semitones=0.1, p=0.5),\n",
    "]\n",
    "\n",
    "composed = Compose(augment)"
   ]
  },
  {
   "cell_type": "code",
   "execution_count": 14,
   "id": "d2096c5c",
   "metadata": {},
   "outputs": [],
   "source": [
    "out_train_path = Path(\"./augmented_train_dataset\")"
   ]
  },
  {
   "cell_type": "code",
   "execution_count": 15,
   "id": "ee8b655b",
   "metadata": {},
   "outputs": [],
   "source": [
    "os.mkdir(out_train_path)"
   ]
  },
  {
   "cell_type": "code",
   "execution_count": 16,
   "id": "d9da7125",
   "metadata": {},
   "outputs": [
    {
     "name": "stderr",
     "output_type": "stream",
     "text": [
      "100%|██████████| 73/73 [00:11<00:00,  6.22it/s]\n"
     ]
    }
   ],
   "source": [
    "use_one = True\n",
    "\n",
    "nb_copies = 10\n",
    "\n",
    "for file_name, (wave, sr) in tqdm([(Path(audio_path).name, librosa.load(audio_path)) for audio_path in train_files]):\n",
    "    for nb in range(nb_copies):\n",
    "        chosen_aug = random.choice(augment) if use_one else composed\n",
    "        wave_aug = chosen_aug(samples=wave, sample_rate=sr) #type: ignore\n",
    "        out = os.path.join(out_train_path, f\"{file_name}_aug{nb}.wav\")\n",
    "        sf.write(out, wave_aug, sr)\n"
   ]
  },
  {
   "cell_type": "code",
   "execution_count": 17,
   "id": "17a29643",
   "metadata": {},
   "outputs": [],
   "source": [
    "use_one = True\n",
    "out_test_path = Path(\"./augmented_test_dataset\")\n",
    "os.mkdir(out_test_path)"
   ]
  },
  {
   "cell_type": "code",
   "execution_count": 18,
   "id": "35c8a9dc",
   "metadata": {},
   "outputs": [
    {
     "name": "stderr",
     "output_type": "stream",
     "text": [
      "100%|██████████| 19/19 [00:03<00:00,  5.97it/s]\n"
     ]
    }
   ],
   "source": [
    "nb_copies = 10\n",
    "\n",
    "for file_name, (wave, sr) in tqdm([(Path(audio_path).name, librosa.load(audio_path)) for audio_path in test_files]):\n",
    "    for nb in range(nb_copies):\n",
    "        chosen_aug = random.choice(augment) if use_one else composed\n",
    "        wave_aug = chosen_aug(samples=wave, sample_rate=sr) #type: ignore\n",
    "        out = os.path.join(out_test_path, f\"{file_name}_aug{nb}.wav\")\n",
    "        sf.write(out, wave_aug, sr)"
   ]
  },
  {
   "cell_type": "markdown",
   "id": "288c6962",
   "metadata": {},
   "source": [
    "# **3. Data and features extraction : MFCC**\n",
    "---"
   ]
  },
  {
   "cell_type": "code",
   "execution_count": 19,
   "id": "7c7da0ec",
   "metadata": {},
   "outputs": [],
   "source": [
    "\n",
    "# Liste des fichiers augmentés\n",
    "augmented_train_files = sorted(Path(out_train_path).glob(\"*.wav\"))\n",
    "augmented_test_files = sorted(Path(out_test_path).glob(\"*.wav\"))\n",
    "\n",
    "# Les fichiers originaux du train\n",
    "# train_files_names = [Path(f).name for f in train_files]\n",
    "# Les fichiers du test\n",
    "# test_files_names = [Path(f).name for f in test_files]\n",
    "# Liste complète des fichiers d'entraînement (originaux + augmentés)\n",
    "train_files_final = augmented_train_files + train_files\n",
    "test_files_final = augmented_test_files + test_files\n"
   ]
  },
  {
   "cell_type": "code",
   "execution_count": 20,
   "id": "ca9c39a8",
   "metadata": {},
   "outputs": [],
   "source": [
    "assert False not in list(map(lambda x: x.exists(), test_files_final))  \n",
    "assert False not in list(map(lambda x: x.exists(), train_files_final))"
   ]
  },
  {
   "cell_type": "code",
   "execution_count": 21,
   "id": "81510c56",
   "metadata": {},
   "outputs": [
    {
     "name": "stdout",
     "output_type": "stream",
     "text": [
      "803 fichiers pour le train\n",
      "209 fichiers pour le test\n"
     ]
    }
   ],
   "source": [
    "\n",
    "print(f\"{len(train_files_final)} fichiers pour le train\")\n",
    "print(f\"{len(test_files_final)} fichiers pour le test\")\n"
   ]
  },
  {
   "cell_type": "code",
   "execution_count": 22,
   "id": "b3a556a4",
   "metadata": {},
   "outputs": [],
   "source": [
    "from typing import Iterable\n",
    "\n",
    "\n",
    "n_mfcc     = 40        # number of coefficients\n",
    "n_fft      = 2048      # window size STFT\n",
    "hop_length = 512\n",
    "\n",
    "def compute_mfcc(files: Iterable[Path]) -> Iterable[np.ndarray]:\n",
    "  for file in files:\n",
    "      y, sr = librosa.load(file, sr=None)\n",
    "      mfcc_features = librosa.feature.mfcc(y=y, sr=sr, n_mfcc=n_mfcc, n_fft=n_fft, hop_length=hop_length)\n",
    "      yield librosa.util.normalize(mfcc_features, axis=1)"
   ]
  },
  {
   "cell_type": "code",
   "execution_count": 23,
   "id": "4cce4818",
   "metadata": {},
   "outputs": [
    {
     "name": "stderr",
     "output_type": "stream",
     "text": [
      "100%|██████████| 209/209 [00:04<00:00, 42.35it/s] \n",
      "100%|██████████| 803/803 [00:17<00:00, 45.45it/s] \n"
     ]
    }
   ],
   "source": [
    "mfcc_test = [*compute_mfcc(tqdm(test_files_final))]\n",
    "mfcc_train = [*compute_mfcc(tqdm(train_files_final))]"
   ]
  },
  {
   "cell_type": "markdown",
   "id": "d3467fe9",
   "metadata": {},
   "source": [
    "# **4. Audio dataset preparation (padding and trimming)**\n",
    "---"
   ]
  },
  {
   "cell_type": "markdown",
   "id": "26127b80",
   "metadata": {},
   "source": [
    "Besides, the idea is to set a single length T_max (typically the maximum recorded value) and then, for each MFCC:  \n",
    "*   If T_i < T_max → pad with columns of trailing zeros\n",
    "*   If T_i > T_max → trim to keep only the first T_max frames  "
   ]
  },
  {
   "cell_type": "code",
   "execution_count": 24,
   "id": "196dfd3a",
   "metadata": {},
   "outputs": [
    {
     "name": "stdout",
     "output_type": "stream",
     "text": [
      "Durée (train) : 122 122 122 122 122 122 122 122 122 122 122 122 122 122 122 122 122 122 122 122 125 125 125 125 125 125 125 125 125 125 129 129 129 129 129 129 129 129 129 129 134 134 134 134 134 134 134 134 134 134 134 134 134 134 134 134 134 134 134 134 137 137 137 137 137 137 137 137 137 137 124 124 124 124 124 124 124 124 124 124 123 123 123 123 123 123 123 123 123 123 121 121 121 121 121 121 121 121 121 121 122 122 122 122 122 122 122 122 122 122 120 120 120 120 120 120 120 120 120 120 133 133 133 133 133 133 133 133 133 133 124 124 124 124 124 124 124 124 124 124 136 136 136 136 136 136 136 136 136 136 131 131 131 131 131 131 131 131 131 131 122 122 122 122 122 122 122 122 122 122 121 121 121 121 121 121 121 121 121 121 122 122 122 122 122 122 122 122 122 122 134 134 134 134 134 134 134 134 134 134 124 124 124 124 124 124 124 124 124 124 123 123 123 123 123 123 123 123 123 123 131 131 131 131 131 131 131 131 131 131 136 136 136 136 136 136 136 136 136 136 134 134 134 134 134 134 134 134 134 134 136 136 136 136 136 136 136 136 136 136 134 134 134 134 134 134 134 134 134 134 124 124 124 124 124 124 124 124 124 124 132 132 132 132 132 132 132 132 132 132 128 128 128 128 128 128 128 128 128 128 132 132 132 132 132 132 132 132 132 132 122 122 122 122 122 122 122 122 122 122 123 123 123 123 123 123 123 123 123 123 130 130 130 130 130 130 130 130 130 130 124 124 124 124 124 124 124 124 124 124 123 123 123 123 123 123 123 123 123 123 130 130 130 130 130 130 130 130 130 130 137 137 137 137 137 137 137 137 137 137 122 122 122 122 122 122 122 122 122 122 134 134 134 134 134 134 134 134 134 134 123 123 123 123 123 123 123 123 123 123 136 136 136 136 136 136 136 136 136 136 134 134 134 134 134 134 134 134 134 134 136 136 136 136 136 136 136 136 136 136 128 128 128 128 128 128 128 128 128 128 122 122 122 122 122 122 122 122 122 122 134 134 134 134 134 134 134 134 134 134 123 123 123 123 123 123 123 123 123 123 124 124 124 124 124 124 124 124 124 124 123 123 123 123 123 123 123 123 123 123 136 136 136 136 136 136 136 136 136 136 137 137 137 137 137 137 137 137 137 137 128 128 128 128 128 128 128 128 128 128 131 131 131 131 131 131 131 131 131 131 128 128 128 128 128 128 128 128 128 128 123 123 123 123 123 123 123 123 123 123 123 123 123 123 123 123 123 123 123 123 137 137 137 137 137 137 137 137 137 137 125 125 125 125 125 125 125 125 125 125 133 133 133 133 133 133 133 133 133 133 134 134 134 134 134 134 134 134 134 134 136 136 136 136 136 136 136 136 136 136 123 123 123 123 123 123 123 123 123 123 130 130 130 130 130 130 130 130 130 130 133 133 133 133 133 133 133 133 133 133 133 133 133 133 133 133 133 133 133 133 134 134 134 134 134 134 134 134 134 134 124 124 124 124 124 124 124 124 124 124 122 122 122 122 122 122 122 122 122 122 134 134 134 134 134 134 134 134 134 134 123 123 123 123 123 123 123 123 123 123 134 134 134 134 134 134 134 134 134 134 124 124 124 124 124 124 124 124 124 124 271 259 273 262 241 271 271 273 241 246 255 268 271 239 255 246 266 266 266 268 250 248 248 264 244 244 268 255 246 268 268 268 268 244 246 248 250 262 264 244 268 271 248 248 268 262 246 268 246 257 246 268 244 246 244 244 248 246 271 259 246 255 273 248 248 244 244 246 268 273 259 271 266\n",
      "Durée (test) : 129 129 129 129 129 129 129 129 129 129 136 136 136 136 136 136 136 136 136 136 137 137 137 137 137 137 137 137 137 137 134 134 134 134 134 134 134 134 134 134 128 128 128 128 128 128 128 128 128 128 128 128 128 128 128 128 128 128 128 128 131 131 131 131 131 131 131 131 131 131 111 111 111 111 111 111 111 111 111 111 101 101 101 101 101 101 101 101 101 101 125 125 125 125 125 125 125 125 125 125 136 136 136 136 136 136 136 136 136 136 123 123 123 123 123 123 123 123 123 123 136 136 136 136 136 136 136 136 136 136 134 134 134 134 134 134 134 134 134 134 129 129 129 129 129 129 129 129 129 129 123 123 123 123 123 123 123 123 123 123 123 123 123 123 123 123 123 123 123 123 124 124 124 124 124 124 124 124 124 124 124 124 124 124 124 124 124 124 124 124 250 268 201 257 262 271 255 255 268 221 246 271 246 248 246 248 257 273 271\n",
      "The maximum value of time is 273 ms\n"
     ]
    }
   ],
   "source": [
    "# Pour le train\n",
    "T_train = [mfcc.shape[1] for mfcc in mfcc_train]\n",
    "print(\"Durée (train) :\", *T_train)\n",
    "\n",
    "# Pour le test\n",
    "T_test = [mfcc.shape[1] for mfcc in mfcc_test]\n",
    "print(\"Durée (test) :\", *T_test)\n",
    "\n",
    "# T_max commun pour le padding (on prend le max des deux)\n",
    "T_max = max(T_train + T_test)\n",
    "print(f'The maximum value of time is {T_max} ms')"
   ]
  },
  {
   "cell_type": "markdown",
   "id": "6df91e1d",
   "metadata": {},
   "source": [
    "In this step, we ensure that all MFCCs have the same length by either padding them with zeros or trimming them to a fixed length, `T_max`. This is necessary to standardize the input size for the model."
   ]
  },
  {
   "cell_type": "code",
   "execution_count": 25,
   "id": "af7014ae",
   "metadata": {},
   "outputs": [],
   "source": [
    "def pad_mfccs(mfcc_list, T_max):\n",
    "    mfcc_fixed = []\n",
    "    for m in mfcc_list:\n",
    "        T_i = m.shape[1]\n",
    "        if T_i < T_max:\n",
    "            pad_width = T_max - T_i\n",
    "            m2 = np.pad(m,\n",
    "                        pad_width=((0,0),   # no padding sur les coefficients\n",
    "                        (0,pad_width)),     # padding à droite sur le temps\n",
    "                        mode='constant',\n",
    "                        constant_values=0)\n",
    "        else:\n",
    "            m2 = m[:, :T_max]\n",
    "        mfcc_fixed.append(m2)\n",
    "    return mfcc_fixed\n",
    "\n",
    "# Pour le train\n",
    "mfcc_train_fixed = pad_mfccs(mfcc_train, T_max)\n",
    "\n",
    "# Pour le test\n",
    "mfcc_test_fixed = pad_mfccs(mfcc_test, T_max)\n"
   ]
  },
  {
   "cell_type": "markdown",
   "id": "f388ccbb",
   "metadata": {},
   "source": [
    "# **5. Dataset formatting for model input**\n",
    "---\n",
    "At this stage, we will prepare our padded/truncated MFCCs into the right shape for our deep learning model (flattening, stacking, or reshaping as needed), and associate them with their corresponding labels.\n"
   ]
  },
  {
   "cell_type": "code",
   "execution_count": 26,
   "id": "629c0eb0",
   "metadata": {},
   "outputs": [
    {
     "name": "stdout",
     "output_type": "stream",
     "text": [
      "X_train.shape = (803, 40, 273, 1)\n",
      "X_test.shape = (209, 40, 273, 1)\n"
     ]
    }
   ],
   "source": [
    "x_train = np.stack(mfcc_train_fixed, axis=0)[..., np.newaxis]\n",
    "x_test = np.stack(mfcc_test_fixed, axis=0)[..., np.newaxis]\n",
    "\n",
    "print(\"X_train.shape =\", x_train.shape)\n",
    "print(\"X_test.shape =\", x_test.shape)\n"
   ]
  },
  {
   "cell_type": "code",
   "execution_count": 27,
   "id": "e48e913e",
   "metadata": {},
   "outputs": [
    {
     "data": {
      "text/plain": [
       "209"
      ]
     },
     "execution_count": 27,
     "metadata": {},
     "output_type": "execute_result"
    }
   ],
   "source": [
    "len(mfcc_test_fixed)"
   ]
  },
  {
   "cell_type": "markdown",
   "id": "23a9bbe1",
   "metadata": {},
   "source": [
    "# **6. Label and shuffle**\n",
    "---"
   ]
  },
  {
   "cell_type": "code",
   "execution_count": 28,
   "id": "912b8a91",
   "metadata": {},
   "outputs": [],
   "source": [
    "import re\n",
    "\n",
    "def get_label(filename):\n",
    "    base_name = re.sub(r'_aug\\d+\\.wav$', '', filename)\n",
    "    if \"75-85\" in base_name:\n",
    "        return 0  # unripe\n",
    "    elif \"95\" in base_name:\n",
    "        return 1  # ripe\n",
    "    else:\n",
    "        raise ValueError(f\"Le nom de fichier ne permet pas d'extraire le label : {filename}\")\n",
    "\n",
    "# Recréer y_train avec la nouvelle fonction\n",
    "y_train = np.array([get_label(f) for f in map(lambda x: x.name, train_files_final)])\n",
    "y_test = np.array([get_label(f) for f in map(lambda x: x.name, test_files_final)])\n",
    "\n",
    "# Calcul des poids de classes\n",
    "from sklearn.utils import class_weight\n",
    "class_weights = class_weight.compute_class_weight('balanced', classes=np.unique(y_train), y=y_train)\n",
    "class_weights_dict = dict(enumerate(class_weights))\n"
   ]
  },
  {
   "cell_type": "code",
   "execution_count": 29,
   "id": "33621814",
   "metadata": {},
   "outputs": [
    {
     "data": {
      "text/plain": [
       "(396, 407)"
      ]
     },
     "execution_count": 29,
     "metadata": {},
     "output_type": "execute_result"
    }
   ],
   "source": [
    "len([i for i in y_train if i == 0]), len([i for i in y_train if i == 1])"
   ]
  },
  {
   "cell_type": "markdown",
   "id": "ede5ba7a",
   "metadata": {},
   "source": [
    "Shuffle training data ton ensure linear accuracy progress during training"
   ]
  },
  {
   "cell_type": "code",
   "execution_count": 30,
   "id": "a43d9eff",
   "metadata": {},
   "outputs": [],
   "source": [
    "# Shuffle le train pour éviter tout biais\n",
    "idx = np.arange(x_train.shape[0])\n",
    "np.random.shuffle(idx)\n",
    "x_train = x_train[idx]\n",
    "y_train = y_train[idx]\n",
    "train_files_final = [train_files_final[i] for i in idx]# type: ignore"
   ]
  },
  {
   "cell_type": "markdown",
   "id": "50f96ada",
   "metadata": {},
   "source": [
    "# **7. Building the classification model**\n",
    "---\n",
    "Now let's define our deep learning model. We'll use a simple Convolutional Neural Network (CNN) architecture suitable for audio classification.\n"
   ]
  },
  {
   "cell_type": "code",
   "execution_count": 31,
   "id": "bb53d03e",
   "metadata": {},
   "outputs": [],
   "source": [
    "from keras.models import Sequential\n",
    "from keras.layers import Dense, Conv2D, Input, BatchNormalization, Dropout, MaxPooling2D, Flatten\n",
    "import numpy as np\n",
    "import matplotlib.pyplot as plt\n",
    "from sklearn.metrics import confusion_matrix, classification_report\n",
    "import seaborn as sns\n",
    "import tensorflow as tf\n",
    "from keras.models import Sequential\n",
    "from keras.layers import Conv2D, MaxPooling2D, Flatten, Dense, Dropout, BatchNormalization\n",
    "from keras.callbacks import EarlyStopping\n",
    "from keras.utils import to_categorical\n",
    "from sklearn.utils import class_weight\n",
    "from keras.utils import plot_model\n"
   ]
  },
  {
   "cell_type": "code",
   "execution_count": 32,
   "id": "8c17d104",
   "metadata": {},
   "outputs": [],
   "source": [
    "model = Sequential([\n",
    "    Input(shape=x_train.shape[1:]),\n",
    "    Conv2D(32, (3,3), activation='relu'),\n",
    "    BatchNormalization(),\n",
    "    MaxPooling2D(),\n",
    "    Dropout(0.25),\n",
    "\n",
    "    Conv2D(64, (3,3), activation='relu'),\n",
    "    BatchNormalization(),\n",
    "    MaxPooling2D(),\n",
    "    Dropout(0.25),\n",
    "\n",
    "    Flatten(),\n",
    "    Dense(128, activation='relu', kernel_regularizer=keras.regularizers.l2(1e-4)),\n",
    "    Dropout(0.5),\n",
    "    Dense(1, activation='sigmoid')\n",
    "])"
   ]
  },
  {
   "cell_type": "code",
   "execution_count": 33,
   "id": "afef7f1c",
   "metadata": {},
   "outputs": [
    {
     "name": "stdout",
     "output_type": "stream",
     "text": [
      "You must install pydot (`pip install pydot`) for `plot_model` to work.\n"
     ]
    }
   ],
   "source": [
    "plot_model(model, to_file=\"model.png\", show_shapes=True, show_layer_names=True, show_layer_activations=True)\n"
   ]
  },
  {
   "cell_type": "code",
   "execution_count": 34,
   "id": "010c4ab1",
   "metadata": {},
   "outputs": [],
   "source": [
    "def compile_model(model, learning_rate: int | None = None):\n",
    "    if learning_rate is not None:\n",
    "        opt = keras.optimizers.Adam(learning_rate=learning_rate)\n",
    "        model.compile(\n",
    "            optimizer=opt,\n",
    "            loss='binary_crossentropy',\n",
    "            metrics=['accuracy']\n",
    "        )\n",
    "        return opt\n",
    "    model.compile(\n",
    "        optimizer='adam',\n",
    "        loss='binary_crossentropy',\n",
    "        metrics=['accuracy']\n",
    "    )"
   ]
  },
  {
   "cell_type": "code",
   "execution_count": 35,
   "id": "771db89b",
   "metadata": {},
   "outputs": [],
   "source": [
    "compile_model(model)"
   ]
  },
  {
   "cell_type": "markdown",
   "id": "31692876",
   "metadata": {},
   "source": [
    "# **6. Model training**\n",
    "---\n",
    "Let's train the model on the training data and keep track of its performance.\n"
   ]
  },
  {
   "cell_type": "code",
   "execution_count": 36,
   "id": "cbb111c1",
   "metadata": {},
   "outputs": [
    {
     "name": "stdout",
     "output_type": "stream",
     "text": [
      "Epoch 1/60\n",
      "\u001b[1m21/21\u001b[0m \u001b[32m━━━━━━━━━━━━━━━━━━━━\u001b[0m\u001b[37m\u001b[0m \u001b[1m8s\u001b[0m 220ms/step - accuracy: 0.5187 - loss: 14.3541 - val_accuracy: 0.5093 - val_loss: 0.8249\n",
      "Epoch 2/60\n",
      "\u001b[1m21/21\u001b[0m \u001b[32m━━━━━━━━━━━━━━━━━━━━\u001b[0m\u001b[37m\u001b[0m \u001b[1m4s\u001b[0m 189ms/step - accuracy: 0.5493 - loss: 0.9345 - val_accuracy: 0.5031 - val_loss: 4.0617\n",
      "Epoch 3/60\n",
      "\u001b[1m21/21\u001b[0m \u001b[32m━━━━━━━━━━━━━━━━━━━━\u001b[0m\u001b[37m\u001b[0m \u001b[1m4s\u001b[0m 188ms/step - accuracy: 0.5919 - loss: 0.6720 - val_accuracy: 0.5031 - val_loss: 6.7666\n",
      "Epoch 4/60\n",
      "\u001b[1m21/21\u001b[0m \u001b[32m━━━━━━━━━━━━━━━━━━━━\u001b[0m\u001b[37m\u001b[0m \u001b[1m4s\u001b[0m 186ms/step - accuracy: 0.5931 - loss: 0.6532 - val_accuracy: 0.5031 - val_loss: 8.5934\n",
      "Epoch 5/60\n",
      "\u001b[1m21/21\u001b[0m \u001b[32m━━━━━━━━━━━━━━━━━━━━\u001b[0m\u001b[37m\u001b[0m \u001b[1m4s\u001b[0m 183ms/step - accuracy: 0.6412 - loss: 0.6230 - val_accuracy: 0.5031 - val_loss: 10.2982\n",
      "Epoch 6/60\n",
      "\u001b[1m21/21\u001b[0m \u001b[32m━━━━━━━━━━━━━━━━━━━━\u001b[0m\u001b[37m\u001b[0m \u001b[1m4s\u001b[0m 183ms/step - accuracy: 0.6012 - loss: 0.6334 - val_accuracy: 0.5031 - val_loss: 11.6758\n"
     ]
    }
   ],
   "source": [
    "es = EarlyStopping(monitor='val_loss', patience=5, restore_best_weights=True)\n",
    "\n",
    "\n",
    "history = model.fit(\n",
    "    x_train, y_train,\n",
    "    epochs=60,\n",
    "    batch_size=32,\n",
    "    validation_split=0.2,\n",
    "    callbacks=[es],\n",
    "    shuffle=True,\n",
    ")"
   ]
  },
  {
   "cell_type": "code",
   "execution_count": 37,
   "id": "e988aa52",
   "metadata": {},
   "outputs": [
    {
     "data": {
      "text/plain": [
       "((803, 40, 273, 1), (803,), (209, 40, 273, 1), (209,))"
      ]
     },
     "execution_count": 37,
     "metadata": {},
     "output_type": "execute_result"
    }
   ],
   "source": [
    "x_train.shape, y_train.shape, x_test.shape, y_test.shape"
   ]
  },
  {
   "cell_type": "markdown",
   "id": "3e15b11e",
   "metadata": {},
   "source": [
    "# **7. Model evaluation**\n",
    "---\n",
    "We now evaluate the trained model on the test set, check the accuracy, and display a confusion matrix for detailed analysis.\n"
   ]
  },
  {
   "cell_type": "code",
   "execution_count": 38,
   "id": "dacce045",
   "metadata": {},
   "outputs": [
    {
     "name": "stdout",
     "output_type": "stream",
     "text": [
      "\u001b[1m7/7\u001b[0m \u001b[32m━━━━━━━━━━━━━━━━━━━━\u001b[0m\u001b[37m\u001b[0m \u001b[1m0s\u001b[0m 31ms/step - accuracy: 0.4925 - loss: 1.0074\n"
     ]
    }
   ],
   "source": [
    "loss, acc = model.evaluate(x_test, y_test)"
   ]
  },
  {
   "cell_type": "markdown",
   "id": "973b0936",
   "metadata": {},
   "source": [
    "# **8. Results & analysis**\n",
    "---\n",
    "Let's analyze the results, discuss strengths and weaknesses, and try to interpret what the model is learning.\n"
   ]
  },
  {
   "cell_type": "code",
   "execution_count": 39,
   "id": "9afb91a3",
   "metadata": {},
   "outputs": [
    {
     "name": "stdout",
     "output_type": "stream",
     "text": [
      "X_train.shape: (803, 40, 273, 1)\n",
      "y_train.shape: (803,)\n",
      "X_test.shape: (209, 40, 273, 1)\n",
      "y_test.shape: (209,)\n",
      "Répartition y_train : (array([0, 1]), array([396, 407]))\n",
      "Répartition y_test : (array([0, 1]), array([ 99, 110]))\n",
      "Premier fichier train: 20240929_023926_Dona_95-Ripeoutput.wav_aug5.wav label: 1\n",
      "Premier fichier test: 20240929_023359_Dona_75-85%output.wav_aug0.wav label: 0\n"
     ]
    }
   ],
   "source": [
    "print(\"X_train.shape:\", x_train.shape)\n",
    "print(\"y_train.shape:\", y_train.shape)\n",
    "print(\"X_test.shape:\", x_test.shape)\n",
    "print(\"y_test.shape:\", y_test.shape)\n",
    "\n",
    "print(\"Répartition y_train :\", np.unique(y_train, return_counts=True))\n",
    "print(\"Répartition y_test :\", np.unique(y_test, return_counts=True))\n",
    "\n",
    "print(\"Premier fichier train:\", train_files_final[0].name, \"label:\", y_train[0])\n",
    "print(\"Premier fichier test:\", test_files_final[0].name, \"label:\", y_test[0])"
   ]
  },
  {
   "cell_type": "code",
   "execution_count": 40,
   "id": "8e7a2ac6",
   "metadata": {},
   "outputs": [
    {
     "name": "stdout",
     "output_type": "stream",
     "text": [
      "y_train repartition : [396 407]\n",
      "y_test repartition : [ 99 110]\n"
     ]
    }
   ],
   "source": [
    "print(\"y_train repartition :\", np.bincount(y_train))\n",
    "print(\"y_test repartition :\", np.bincount(y_test))"
   ]
  },
  {
   "cell_type": "code",
   "execution_count": 41,
   "id": "4a5c79d9",
   "metadata": {},
   "outputs": [
    {
     "data": {
      "image/png": "[encoded data removed]",
      "text/plain": [
       "<Figure size 1200x400 with 2 Axes>"
      ]
     },
     "metadata": {},
     "output_type": "display_data"
    }
   ],
   "source": [
    "plt.figure(figsize=(12,4))\n",
    "\n",
    "# Accuracy\n",
    "plt.subplot(1,2,1)\n",
    "plt.plot(history.history['accuracy'], label='train')\n",
    "plt.plot(history.history['val_accuracy'], label='val')\n",
    "plt.title(\"Accuracy\")\n",
    "plt.xlabel(\"Epoch\")\n",
    "plt.ylabel(\"Accuracy\")\n",
    "plt.legend()\n",
    "\n",
    "# Loss\n",
    "plt.subplot(1,2,2)\n",
    "plt.plot(history.history['loss'], label='train')\n",
    "plt.plot(history.history['val_loss'], label='val')\n",
    "plt.title(\"Loss\")\n",
    "plt.xlabel(\"Epoch\")\n",
    "plt.ylabel(\"Loss\")\n",
    "plt.legend()\n",
    "\n",
    "plt.tight_layout()\n",
    "plt.show()\n",
    "\n"
   ]
  },
  {
   "cell_type": "code",
   "execution_count": 42,
   "id": "730b95c5",
   "metadata": {},
   "outputs": [
    {
     "name": "stdout",
     "output_type": "stream",
     "text": [
      "\u001b[1m7/7\u001b[0m \u001b[32m━━━━━━━━━━━━━━━━━━━━\u001b[0m\u001b[37m\u001b[0m \u001b[1m0s\u001b[0m 46ms/step\n"
     ]
    },
    {
     "data": {
      "image/png": "[encoded data removed]",
      "text/plain": [
       "<Figure size 600x500 with 2 Axes>"
      ]
     },
     "metadata": {},
     "output_type": "display_data"
    }
   ],
   "source": [
    "\n",
    "# Confusion matrix\n",
    "y_prob = model.predict(x_test).ravel()\n",
    "y_pred = (y_prob >= 0.5).astype(int)\n",
    "\n",
    "cm = confusion_matrix(y_test, y_pred)\n",
    "labels = ['unripe', 'ripe']\n",
    "\n",
    "plt.figure(figsize=(6,5))\n",
    "sns.heatmap(cm, annot=True, fmt=\"d\", cmap=\"Blues\",\n",
    "            xticklabels=labels, yticklabels=labels)\n",
    "plt.xlabel(\"Prediction\")\n",
    "plt.ylabel(\"Reality\")\n",
    "plt.title(\"Confusion matrix\")\n",
    "plt.show()\n"
   ]
  },
  {
   "cell_type": "code",
   "execution_count": 43,
   "id": "01efb70f",
   "metadata": {},
   "outputs": [
    {
     "name": "stdout",
     "output_type": "stream",
     "text": [
      "              precision    recall  f1-score   support\n",
      "\n",
      "      unripe       0.48      0.94      0.63        99\n",
      "        ripe       0.60      0.08      0.14       110\n",
      "\n",
      "    accuracy                           0.49       209\n",
      "   macro avg       0.54      0.51      0.39       209\n",
      "weighted avg       0.54      0.49      0.38       209\n",
      "\n"
     ]
    }
   ],
   "source": [
    "\n",
    "print(classification_report(y_test, y_pred, target_names=labels))\n",
    "\n"
   ]
  },
  {
   "cell_type": "markdown",
   "id": "69188cc9",
   "metadata": {},
   "source": [
    "# **9. Save model**\n",
    "---\n",
    "Finally, we save our trained model for later use, and discuss possible improvements or future work.\n"
   ]
  },
  {
   "cell_type": "code",
   "execution_count": 44,
   "id": "fd5825ad",
   "metadata": {},
   "outputs": [],
   "source": [
    "# only execute the first time \n",
    "model_version_index = 4"
   ]
  },
  {
   "cell_type": "code",
   "execution_count": 45,
   "id": "7678b6f0",
   "metadata": {},
   "outputs": [],
   "source": [
    "# model.save(f\"models/model_augmented_v{model_version_index}_({loss:.2f}, {acc:.2f})_.keras\")\n",
    "# model_version_index+=1"
   ]
  },
  {
   "cell_type": "markdown",
   "id": "df56d402",
   "metadata": {},
   "source": [
    "test"
   ]
  }
 ],
 "metadata": {
  "kernelspec": {
   "display_name": ".venv",
   "language": "python",
   "name": "python3"
  },
  "language_info": {
   "codemirror_mode": {
    "name": "ipython",
    "version": 3
   },
   "file_extension": ".py",
   "mimetype": "text/x-python",
   "name": "python",
   "nbconvert_exporter": "python",
   "pygments_lexer": "ipython3",
   "version": "3.12.0"
  }
 },
 "nbformat": 4,
 "nbformat_minor": 5
}
