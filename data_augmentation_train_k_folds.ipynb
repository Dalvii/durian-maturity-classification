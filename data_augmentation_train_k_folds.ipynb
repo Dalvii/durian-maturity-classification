{
 "cells": [
  {
   "cell_type": "code",
   "execution_count": null,
   "id": "8ccd5609",
   "metadata": {},
   "outputs": [],
   "source": [
    "if \"_first_run\" not in globals():\n",
    "    _first_run = True\n",
    "else:\n",
    "    _first_run = False"
   ]
  },
  {
   "cell_type": "code",
   "execution_count": 7,
   "id": "b433d42b",
   "metadata": {},
   "outputs": [],
   "source": [
    "if _first_run:\n",
    "    import os\n",
    "    from pathlib import Path\n",
    "    import torch\n",
    "    from tqdm import tqdm\n",
    "    import warnings\n",
    "    import re\n",
    "    import keras\n",
    "    import librosa\n",
    "    import numpy as np\n",
    "    from audiomentations import Compose, AddGaussianNoise, TimeStretch, PitchShift, Shift\n",
    "    import random\n",
    "    import soundfile as sf\n",
    "    import shutil\n",
    "    from sklearn.model_selection import KFold"
   ]
  },
  {
   "cell_type": "markdown",
   "id": "02217a1f",
   "metadata": {},
   "source": [
    "### Use cuda acceleration (optional)"
   ]
  },
  {
   "cell_type": "code",
   "execution_count": 8,
   "id": "87e48947",
   "metadata": {},
   "outputs": [
    {
     "data": {
      "text/plain": [
       "'cpu'"
      ]
     },
     "execution_count": 8,
     "metadata": {},
     "output_type": "execute_result"
    }
   ],
   "source": [
    "device = \"cuda\" if torch.cuda.is_available() else \"cpu\"\n",
    "device"
   ]
  },
  {
   "cell_type": "markdown",
   "id": "13f2b28c",
   "metadata": {},
   "source": [
    "## Remove existing augmented data"
   ]
  },
  {
   "cell_type": "code",
   "execution_count": 9,
   "id": "7ef92323",
   "metadata": {},
   "outputs": [],
   "source": [
    "\n",
    "path = './AUDIO_DATA'\n",
    "\n",
    "if os.path.exists('./augmented_train_dataset'):\n",
    "    shutil.rmtree('./augmented_train_dataset')\n",
    "\n",
    "if os.path.exists('./augmented_test_dataset'):\n",
    "    shutil.rmtree('./augmented_test_dataset')"
   ]
  },
  {
   "cell_type": "markdown",
   "id": "62924dbd",
   "metadata": {},
   "source": [
    "### Link your google drive storage if you are working on google colab (optional)  "
   ]
  },
  {
   "cell_type": "code",
   "execution_count": 10,
   "id": "44664c23",
   "metadata": {},
   "outputs": [],
   "source": [
    "# path = '<your google drive path>'\n",
    "# from google.colab import drive\n",
    "# drive.mount('/content/drive')\n",
    "# %cd /content/drive/MyDrive/DurianAudios"
   ]
  },
  {
   "cell_type": "code",
   "execution_count": 11,
   "id": "3e94f577",
   "metadata": {},
   "outputs": [],
   "source": [
    "# seed = 41\n",
    "# random.seed(seed), np.random.seed(seed), tf.random.set_seed(seed)"
   ]
  },
  {
   "cell_type": "code",
   "execution_count": 12,
   "id": "a9b14934",
   "metadata": {},
   "outputs": [
    {
     "name": "stdout",
     "output_type": "stream",
     "text": [
      "AUDIO_DATA\\20240929_023338_Dona_75-85%output.wav AUDIO_DATA\\20240929_023344_Dona_75-85%output.wav AUDIO_DATA\\20240929_023348_Dona_75-85%output.wav AUDIO_DATA\\20240929_023353_Dona_75-85%output.wav AUDIO_DATA\\20240929_023359_Dona_75-85%output.wav AUDIO_DATA\\20240929_023409_Dona_75-85%output.wav AUDIO_DATA\\20240929_023414_Dona_75-85%output.wav AUDIO_DATA\\20240929_023418_Dona_75-85%output.wav AUDIO_DATA\\20240929_023426_Dona_75-85%output.wav AUDIO_DATA\\20240929_023431_Dona_75-85%output.wav AUDIO_DATA\\20240929_023435_Dona_75-85%output.wav AUDIO_DATA\\20240929_023439_Dona_75-85%output.wav AUDIO_DATA\\20240929_023443_Dona_75-85%output.wav AUDIO_DATA\\20240929_023447_Dona_75-85%output.wav AUDIO_DATA\\20240929_023501_Dona_75-85%output.wav AUDIO_DATA\\20240929_023505_Dona_75-85%output.wav AUDIO_DATA\\20240929_023509_Dona_75-85%output.wav AUDIO_DATA\\20240929_023513_Dona_75-85%output.wav AUDIO_DATA\\20240929_023517_Dona_75-85%output.wav AUDIO_DATA\\20240929_023521_Dona_75-85%output.wav AUDIO_DATA\\20240929_023541_Dona_95-Ripeoutput.wav AUDIO_DATA\\20240929_023702_Dona_95-Ripeoutput.wav AUDIO_DATA\\20240929_023705_Dona_95-Ripeoutput.wav AUDIO_DATA\\20240929_023710_Dona_95-Ripeoutput.wav AUDIO_DATA\\20240929_023713_Dona_95-Ripeoutput.wav AUDIO_DATA\\20240929_023718_Dona_95-Ripeoutput.wav AUDIO_DATA\\20240929_023721_Dona_95-Ripeoutput.wav AUDIO_DATA\\20240929_023726_Dona_95-Ripeoutput.wav AUDIO_DATA\\20240929_023730_Dona_95-Ripeoutput.wav AUDIO_DATA\\20240929_023734_Dona_95-Ripeoutput.wav AUDIO_DATA\\20240929_023738_Dona_95-Ripeoutput.wav AUDIO_DATA\\20240929_023742_Dona_95-Ripeoutput.wav AUDIO_DATA\\20240929_023751_Dona_95-Ripeoutput.wav AUDIO_DATA\\20240929_023758_Dona_95-Ripeoutput.wav AUDIO_DATA\\20240929_023807_Dona_95-Ripeoutput.wav AUDIO_DATA\\20240929_023811_Dona_95-Ripeoutput.wav AUDIO_DATA\\20240929_023815_Dona_95-Ripeoutput.wav AUDIO_DATA\\20240929_023820_Dona_95-Ripeoutput.wav AUDIO_DATA\\20240929_023823_Dona_95-Ripeoutput.wav AUDIO_DATA\\20240929_023827_Dona_95-Ripeoutput.wav AUDIO_DATA\\20240929_023832_Dona_95-Ripeoutput.wav AUDIO_DATA\\20240929_023835_Dona_95-Ripeoutput.wav AUDIO_DATA\\20240929_023839_Dona_95-Ripeoutput.wav AUDIO_DATA\\20240929_023843_Dona_95-Ripeoutput.wav AUDIO_DATA\\20240929_023858_Dona_95-Ripeoutput.wav AUDIO_DATA\\20240929_023901_Dona_95-Ripeoutput.wav AUDIO_DATA\\20240929_023906_Dona_95-Ripeoutput.wav AUDIO_DATA\\20240929_023911_Dona_95-Ripeoutput.wav AUDIO_DATA\\20240929_023915_Dona_95-Ripeoutput.wav AUDIO_DATA\\20240929_023919_Dona_95-Ripeoutput.wav AUDIO_DATA\\20240929_023923_Dona_95-Ripeoutput.wav AUDIO_DATA\\20240929_023926_Dona_95-Ripeoutput.wav AUDIO_DATA\\20240929_023934_Dona_95-Ripeoutput.wav AUDIO_DATA\\20240929_023938_Dona_95-Ripeoutput.wav AUDIO_DATA\\20240929_023942_Dona_95-Ripeoutput.wav AUDIO_DATA\\20240929_023957_Dona_75-85%output.wav AUDIO_DATA\\20240929_024001_Dona_75-85%output.wav AUDIO_DATA\\20240929_024005_Dona_75-85%output.wav AUDIO_DATA\\20240929_024010_Dona_75-85%output.wav AUDIO_DATA\\20240929_024014_Dona_75-85%output.wav AUDIO_DATA\\20240929_024017_Dona_75-85%output.wav AUDIO_DATA\\20240929_024027_Dona_75-85%output.wav AUDIO_DATA\\20240929_024030_Dona_75-85%output.wav AUDIO_DATA\\20240929_024034_Dona_75-85%output.wav AUDIO_DATA\\20240929_024039_Dona_75-85%output.wav AUDIO_DATA\\20240929_024309_Dona_95-Ripeoutput.wav AUDIO_DATA\\20240929_024314_Dona_95-Ripeoutput.wav AUDIO_DATA\\20240929_024318_Dona_95-Ripeoutput.wav AUDIO_DATA\\20240929_024321_Dona_95-Ripeoutput.wav AUDIO_DATA\\20240929_024325_Dona_95-Ripeoutput.wav AUDIO_DATA\\20240929_024329_Dona_95-Ripeoutput.wav AUDIO_DATA\\20240929_024333_Dona_95-Ripeoutput.wav AUDIO_DATA\\20240929_024341_Dona_95-Ripeoutput.wav AUDIO_DATA\\20240929_024345_Dona_95-Ripeoutput.wav AUDIO_DATA\\20240929_024358_Dona_75-85%output.wav AUDIO_DATA\\20240929_024402_Dona_75-85%output.wav AUDIO_DATA\\20240929_024406_Dona_75-85%output.wav AUDIO_DATA\\20240929_024410_Dona_75-85%output.wav AUDIO_DATA\\20240929_024413_Dona_75-85%output.wav AUDIO_DATA\\20240929_024419_Dona_75-85%output.wav AUDIO_DATA\\20240929_024422_Dona_75-85%output.wav AUDIO_DATA\\20240929_024426_Dona_75-85%output.wav AUDIO_DATA\\20240929_024435_Dona_95-Ripeoutput.wav AUDIO_DATA\\20240929_024443_Dona_95-Ripeoutput.wav AUDIO_DATA\\20240929_024446_Dona_95-Ripeoutput.wav AUDIO_DATA\\20240929_024459_Dona_75-85%output.wav AUDIO_DATA\\20240929_024503_Dona_75-85%output.wav AUDIO_DATA\\20240929_024506_Dona_75-85%output.wav AUDIO_DATA\\20240929_024510_Dona_75-85%output.wav AUDIO_DATA\\20240929_024513_Dona_75-85%output.wav AUDIO_DATA\\20240929_024517_Dona_75-85%output.wav AUDIO_DATA\\20240929_024521_Dona_75-85%output.wav\n"
     ]
    }
   ],
   "source": [
    "AUDIO_PATH = Path(\"./AUDIO_DATA\")\n",
    "assert AUDIO_PATH.exists(), f\"Audio path {AUDIO_PATH} does not exist.\"\n",
    "AUDIO_LIST = list(AUDIO_PATH.glob(\"*\"))\n",
    "print(*AUDIO_LIST)"
   ]
  },
  {
   "cell_type": "markdown",
   "id": "2973d221",
   "metadata": {},
   "source": [
    "## Filter audios by label"
   ]
  },
  {
   "cell_type": "code",
   "execution_count": 13,
   "id": "03b5548c",
   "metadata": {},
   "outputs": [
    {
     "data": {
      "text/plain": [
       "(45, 47)"
      ]
     },
     "execution_count": 13,
     "metadata": {},
     "output_type": "execute_result"
    }
   ],
   "source": [
    "warnings.filterwarnings(\"ignore\", category=FutureWarning)\n",
    "warnings.filterwarnings(\"ignore\", message=\"PySoundFile failed.*\")\n",
    "\n",
    "audios_75_85: list[Path] = []\n",
    "audios_95: list[Path] = []\n",
    "\n",
    "def tri_audio(audio: Path):\n",
    "  if(audio.name not in [*audios_75_85,*audios_95]):\n",
    "    try:\n",
    "      if(re.split('_|%',audio.name)[3] == \"75-85\"):\n",
    "        audios_75_85.append(audio)\n",
    "      else:\n",
    "        audios_95.append(audio)\n",
    "    except:\n",
    "      print(audio.name)\n",
    "for i in sorted(AUDIO_LIST):\n",
    "  tri_audio(i)\n",
    "\n",
    "len(audios_75_85), len(audios_95)"
   ]
  },
  {
   "cell_type": "code",
   "execution_count": 14,
   "id": "07faf3b0",
   "metadata": {},
   "outputs": [],
   "source": [
    "from sklearn.model_selection import train_test_split\n",
    "\n",
    "# Séparer la liste AUDIO_LIST en train et test avant toute data augmentation\n",
    "# train_files, test_files = train_test_split(audios_95 + audios_75_85, test_size=0.2, random_state=42, shuffle=True)\n",
    "# train_files_2, test_files_2 = train_test_split(audios_75_85, test_size=0.2, random_state=42, shuffle=True)\n",
    "\n",
    "# train_files = train_files_1 + train_files_2\n",
    "# random.shuffle(train_files)\n",
    "# test_files = test_files_1 + test_files_2\n",
    "# print(f\"{len(train_files)} training files and {len(test_files)} testing files.\")"
   ]
  },
  {
   "cell_type": "code",
   "execution_count": 15,
   "id": "4f606e7b",
   "metadata": {},
   "outputs": [],
   "source": [
    "x_files = [Path(i) for i in audios_75_85 + audios_95]\n",
    "# test_files = [Path(i) for i in test_files]\n",
    "assert False not in [i.exists() for i in x_files], \"Some training files do not exist.\"\n",
    "# assert False not in [i.exists() for i in test_files], \"Some testing files do not exist.\""
   ]
  },
  {
   "cell_type": "code",
   "execution_count": 16,
   "id": "ce5c94f7",
   "metadata": {},
   "outputs": [
    {
     "data": {
      "text/plain": [
       "(48, 45)"
      ]
     },
     "execution_count": 16,
     "metadata": {},
     "output_type": "execute_result"
    }
   ],
   "source": [
    "len([f for f in x_files if \"95\" in f.name]), len([f for f in x_files if \"75-85\" in f.name])"
   ]
  },
  {
   "cell_type": "markdown",
   "id": "08ee8334",
   "metadata": {},
   "source": [
    "# **2. Data Augmentation**\n",
    "---"
   ]
  },
  {
   "cell_type": "code",
   "execution_count": 17,
   "id": "217860c2",
   "metadata": {},
   "outputs": [],
   "source": [
    "augment = [\n",
    "    AddGaussianNoise(min_amplitude=0.000001, max_amplitude=0.00001, p=0.5),\n",
    "    TimeStretch(min_rate=0.99, max_rate=1.01, p=0.5),\n",
    "    PitchShift(min_semitones=-0.1, max_semitones=0.1, p=0.5),\n",
    "]\n",
    "\n",
    "composed = Compose(augment)"
   ]
  },
  {
   "cell_type": "code",
   "execution_count": 18,
   "id": "d2096c5c",
   "metadata": {},
   "outputs": [],
   "source": [
    "out_train_path = Path(\"./augmented_train_dataset\")"
   ]
  },
  {
   "cell_type": "code",
   "execution_count": 19,
   "id": "ee8b655b",
   "metadata": {},
   "outputs": [],
   "source": [
    "os.mkdir(out_train_path)"
   ]
  },
  {
   "cell_type": "code",
   "execution_count": 20,
   "id": "f652c63e",
   "metadata": {},
   "outputs": [],
   "source": [
    "def augment_audio(audio_path, output_path, augmentations, use_one=True, nb_copies=10):\n",
    "    print(\"loading audios...\")\n",
    "    for file_path, (wave, sr) in tqdm([(audio, librosa.load(audio)) for audio in audio_path], desc=\"Augmenting audios\"):\n",
    "        for nb in range(nb_copies):\n",
    "            chosen_aug = random.choice(augmentations) if use_one else composed\n",
    "            wave_aug = chosen_aug(samples=wave, sample_rate=sr)  # type: ignore\n",
    "            out = output_path / f\"{file_path.name}_aug{nb}.wav\"\n",
    "            sf.write(out, wave_aug, sr)"
   ]
  },
  {
   "cell_type": "code",
   "execution_count": 21,
   "id": "d9da7125",
   "metadata": {},
   "outputs": [
    {
     "name": "stdout",
     "output_type": "stream",
     "text": [
      "loading audios...\n"
     ]
    },
    {
     "name": "stderr",
     "output_type": "stream",
     "text": [
      "Augmenting audios: 100%|██████████| 92/92 [00:00<00:00, 92138.48it/s]\n"
     ]
    }
   ],
   "source": [
    "augment_audio(x_files, out_train_path, augment, use_one=True, nb_copies=0)"
   ]
  },
  {
   "cell_type": "markdown",
   "id": "288c6962",
   "metadata": {},
   "source": [
    "# **3. Data and features extraction : MFCC**\n",
    "---"
   ]
  },
  {
   "cell_type": "code",
   "execution_count": 22,
   "id": "7c7da0ec",
   "metadata": {},
   "outputs": [],
   "source": [
    "\n",
    "# Liste des fichiers augmentés\n",
    "augmented_train_files = sorted(Path(out_train_path).glob(\"*.wav\"))\n",
    "\n",
    "x_files_full = augmented_train_files + x_files"
   ]
  },
  {
   "cell_type": "markdown",
   "id": "93e29351",
   "metadata": {},
   "source": [
    "### Assert all path are correct"
   ]
  },
  {
   "cell_type": "code",
   "execution_count": 23,
   "id": "ca9c39a8",
   "metadata": {},
   "outputs": [],
   "source": [
    "assert False not in list(map(lambda x: x.exists(), x_files_full))"
   ]
  },
  {
   "cell_type": "code",
   "execution_count": 24,
   "id": "81510c56",
   "metadata": {},
   "outputs": [
    {
     "name": "stdout",
     "output_type": "stream",
     "text": [
      "92 train files\n"
     ]
    }
   ],
   "source": [
    "print(f\"{len(x_files_full)} train files\")"
   ]
  },
  {
   "cell_type": "code",
   "execution_count": 25,
   "id": "b3a556a4",
   "metadata": {},
   "outputs": [],
   "source": [
    "from typing import Iterable\n",
    "\n",
    "\n",
    "n_mfcc     = 40        # number of coefficients\n",
    "n_fft      = 2048      # window size STFT\n",
    "hop_length = 512\n",
    "\n",
    "def compute_mfcc(files: Iterable[Path]) -> Iterable[np.ndarray]:\n",
    "  for file in files:\n",
    "      y, sr = librosa.load(file, sr=None)\n",
    "      mfcc_features = librosa.feature.mfcc(y=y, sr=sr, n_mfcc=n_mfcc, n_fft=n_fft, hop_length=hop_length)\n",
    "      yield librosa.util.normalize(mfcc_features, axis=1)"
   ]
  },
  {
   "cell_type": "code",
   "execution_count": 26,
   "id": "4cce4818",
   "metadata": {},
   "outputs": [
    {
     "name": "stderr",
     "output_type": "stream",
     "text": [
      "Computing MFCCs for train files: 100%|██████████| 92/92 [00:13<00:00,  6.91it/s]\n"
     ]
    }
   ],
   "source": [
    "mfcc_train = [*compute_mfcc(tqdm(x_files_full, desc=\"Computing MFCCs for train files\"))]"
   ]
  },
  {
   "cell_type": "markdown",
   "id": "d3467fe9",
   "metadata": {},
   "source": [
    "# **4. Audio dataset preparation (padding and trimming)**\n",
    "---"
   ]
  },
  {
   "cell_type": "markdown",
   "id": "26127b80",
   "metadata": {},
   "source": [
    "Besides, the idea is to set a single length T_max (typically the maximum recorded value) and then, for each MFCC:  \n",
    "*   If T_i < T_max → pad with columns of trailing zeros\n",
    "*   If T_i > T_max → trim to keep only the first T_max frames  "
   ]
  },
  {
   "cell_type": "code",
   "execution_count": 27,
   "id": "196dfd3a",
   "metadata": {},
   "outputs": [
    {
     "name": "stdout",
     "output_type": "stream",
     "text": [
      "Durée (train) : 244 244 250 257 257 268 268 273 271 248 246 241 273 244 239 266 248 271 262 244 244 268 246 248 246 271 246 271 273 255 266 268 271 246 259 246 266 266 268 246 246 248 268 248 248 241 244 268 248 268 246 262 271 268 271 268 248 255 264 255 264 244 246 259 255 248 246 259 273 262 221 201 250 244 268 246 271 268 271 255 262 271 255 246 268 246 273 250 257 268 248 244\n",
      "The maximum value of time is 273 ms\n"
     ]
    }
   ],
   "source": [
    "# Pour le train\n",
    "T_train = [mfcc.shape[1] for mfcc in mfcc_train]\n",
    "print(\"Durée (train) :\", *T_train)\n",
    "\n",
    "# T_max commun pour le padding (on prend le max des deux)\n",
    "T_max = max(T_train)\n",
    "print(f'The maximum value of time is {T_max} ms')"
   ]
  },
  {
   "cell_type": "markdown",
   "id": "6df91e1d",
   "metadata": {},
   "source": [
    "In this step, we ensure that all MFCCs have the same length by either padding them with zeros or trimming them to a fixed length, `T_max`. This is necessary to standardize the input size for the model."
   ]
  },
  {
   "cell_type": "code",
   "execution_count": 28,
   "id": "af7014ae",
   "metadata": {},
   "outputs": [],
   "source": [
    "def pad_mfccs(mfcc_list, T_max):\n",
    "    mfcc_fixed = []\n",
    "    for m in mfcc_list:\n",
    "        T_i = m.shape[1]\n",
    "        if T_i < T_max:\n",
    "            pad_width = T_max - T_i\n",
    "            m2 = np.pad(m,\n",
    "                        pad_width=((0,0),   # no padding sur les coefficients\n",
    "                        (0,pad_width)),     # padding à droite sur le temps\n",
    "                        mode='constant',\n",
    "                        constant_values=0)\n",
    "        else:\n",
    "            m2 = m[:, :T_max]\n",
    "        mfcc_fixed.append(m2)\n",
    "    return mfcc_fixed\n",
    "\n",
    "# Pour le train\n",
    "mfcc_train_fixed = pad_mfccs(mfcc_train, T_max)\n"
   ]
  },
  {
   "cell_type": "markdown",
   "id": "f388ccbb",
   "metadata": {},
   "source": [
    "# **5. Dataset formatting for model input**\n",
    "---\n",
    "At this stage, we will prepare our padded/truncated MFCCs into the right shape for our deep learning model (flattening, stacking, or reshaping as needed), and associate them with their corresponding labels.\n"
   ]
  },
  {
   "cell_type": "code",
   "execution_count": 29,
   "id": "629c0eb0",
   "metadata": {},
   "outputs": [
    {
     "name": "stdout",
     "output_type": "stream",
     "text": [
      "X_train.shape = (92, 40, 273, 1)\n"
     ]
    }
   ],
   "source": [
    "x = np.stack(mfcc_train_fixed, axis=0)[..., np.newaxis]\n",
    "\n",
    "print(\"X_train.shape =\", x.shape)\n"
   ]
  },
  {
   "cell_type": "markdown",
   "id": "23a9bbe1",
   "metadata": {},
   "source": [
    "# **6. Label and shuffle**\n",
    "---"
   ]
  },
  {
   "cell_type": "code",
   "execution_count": 30,
   "id": "912b8a91",
   "metadata": {},
   "outputs": [],
   "source": [
    "import re\n",
    "\n",
    "def get_label(filename):\n",
    "    base_name = re.sub(r'_aug\\d+\\.wav$', '', filename)\n",
    "    if \"75-85\" in base_name:\n",
    "        return 0  # unripe\n",
    "    elif \"95\" in base_name:\n",
    "        return 1  # ripe\n",
    "    else:\n",
    "        raise ValueError(f\"Le nom de fichier ne permet pas d'extraire le label : {filename}\")\n",
    "\n",
    "# Recreate y_train and y_test with the new function\n",
    "y = np.array([get_label(f) for f in map(lambda x: x.name, x_files_full)])\n",
    "\n",
    "# Use class weight (optional, but useful for imbalanced datasets)\n",
    "from numpy import dtype\n",
    "from numpy._typing._array_like import NDArray\n",
    "from sklearn.utils import class_weight\n",
    "class_weights = class_weight.compute_class_weight('balanced', classes=np.unique(y), y=y)\n",
    "class_weights_dict = dict(enumerate(class_weights))"
   ]
  },
  {
   "cell_type": "code",
   "execution_count": 31,
   "id": "d46bc32c",
   "metadata": {},
   "outputs": [
    {
     "data": {
      "text/plain": [
       "{0: np.float64(1.0222222222222221), 1: np.float64(0.9787234042553191)}"
      ]
     },
     "execution_count": 31,
     "metadata": {},
     "output_type": "execute_result"
    }
   ],
   "source": [
    "class_weights_dict"
   ]
  },
  {
   "cell_type": "markdown",
   "id": "ede5ba7a",
   "metadata": {},
   "source": [
    "Shuffle training data ton ensure linear accuracy progress during training"
   ]
  },
  {
   "cell_type": "code",
   "execution_count": 32,
   "id": "a43d9eff",
   "metadata": {},
   "outputs": [],
   "source": [
    "# Shuffle le train pour éviter tout biais\n",
    "idx = np.arange(x.shape[0])\n",
    "np.random.shuffle(idx)\n",
    "x = x[idx]\n",
    "y = y[idx]\n",
    "\n",
    "x_files_full = [x_files_full[i] for i in idx]# type: ignore"
   ]
  },
  {
   "cell_type": "code",
   "execution_count": 33,
   "id": "111f7401",
   "metadata": {},
   "outputs": [
    {
     "data": {
      "text/plain": [
       "(45, 47)"
      ]
     },
     "execution_count": 33,
     "metadata": {},
     "output_type": "execute_result"
    }
   ],
   "source": [
    "len([i for i in y if i == 0]), len([i for i in y if i == 1])"
   ]
  },
  {
   "cell_type": "markdown",
   "id": "d1f109bb",
   "metadata": {},
   "source": [
    "### Ensure label corresponds to file name"
   ]
  },
  {
   "cell_type": "code",
   "execution_count": 34,
   "id": "7e240971",
   "metadata": {},
   "outputs": [],
   "source": [
    "error_indexes = [(index, b) for index, b in enumerate([bool(int(\"75-85\" in i.name) != j) for i, j in zip(x_files_full, y)]) if not b]\n",
    "assert len(error_indexes) == 0, f\"Il y a {len(error_indexes)} erreurs dans les labels : {error_indexes}\""
   ]
  },
  {
   "cell_type": "markdown",
   "id": "156e157b",
   "metadata": {},
   "source": [
    "## K-folding training"
   ]
  },
  {
   "cell_type": "code",
   "execution_count": null,
   "id": "bb53d03e",
   "metadata": {},
   "outputs": [],
   "source": [
    "if _first_run:\n",
    "    from keras.models import Sequential\n",
    "    from keras.layers import Dense, Conv2D, Input, BatchNormalization, Dropout, MaxPooling2D, Flatten\n",
    "    import numpy as np\n",
    "    import matplotlib.pyplot as plt\n",
    "    from sklearn.metrics import confusion_matrix, classification_report\n",
    "    import seaborn as sns\n",
    "    import tensorflow as tf\n",
    "    from keras.models import Sequential\n",
    "    from keras.layers import Conv2D, MaxPooling2D, Flatten, Dense, Dropout, BatchNormalization\n",
    "    from keras.callbacks import EarlyStopping, ReduceLROnPlateau\n",
    "    from keras.utils import to_categorical\n",
    "    from sklearn.utils import class_weight\n",
    "    from keras.utils import plot_model\n"
   ]
  },
  {
   "cell_type": "code",
   "execution_count": 36,
   "id": "8c17d104",
   "metadata": {},
   "outputs": [],
   "source": [
    "def define_model():\n",
    "    return Sequential([\n",
    "        Input(shape=x.shape[1:]),\n",
    "        Conv2D(32, (3,3), activation='relu'),\n",
    "        BatchNormalization(),\n",
    "        MaxPooling2D(),\n",
    "        Dropout(0.25),\n",
    "\n",
    "        Conv2D(64, (3,3), activation='relu'),\n",
    "        BatchNormalization(),\n",
    "        MaxPooling2D(),\n",
    "        Dropout(0.25),\n",
    "\n",
    "        Flatten(),\n",
    "        Dense(128, activation='relu', kernel_regularizer=keras.regularizers.l2(1e-4)),\n",
    "        Dropout(0.5),\n",
    "        Dense(1, activation='sigmoid')\n",
    "    ])"
   ]
  },
  {
   "cell_type": "code",
   "execution_count": 37,
   "id": "010c4ab1",
   "metadata": {},
   "outputs": [],
   "source": [
    "def compile_model(model, learning_rate: int | None = None):\n",
    "    if learning_rate is not None:\n",
    "        opt = keras.optimizers.Adam(learning_rate=learning_rate)\n",
    "        model.compile(\n",
    "            optimizer=opt,\n",
    "            loss='binary_crossentropy',\n",
    "            metrics=['accuracy']\n",
    "        )\n",
    "        return opt\n",
    "    model.compile(\n",
    "        optimizer='adam',\n",
    "        loss='binary_crossentropy',\n",
    "        metrics=['accuracy']\n",
    "    )"
   ]
  },
  {
   "cell_type": "code",
   "execution_count": 38,
   "id": "793b2bf5",
   "metadata": {},
   "outputs": [],
   "source": [
    "def show_confusion_matrix(x, y_real, model, show=True):\n",
    "    y_prob = model.predict(x).ravel()\n",
    "    y_pred = (y_prob >= 0.5).astype(int)\n",
    "    cm = confusion_matrix(y_real, y_pred)\n",
    "    plt.figure(figsize=(8, 6))\n",
    "    sns.heatmap(cm, annot=True, fmt='d', cmap='Blues',\n",
    "                xticklabels=['Unripe', 'Ripe'], yticklabels=['Unripe', 'Ripe'])\n",
    "    plt.xlabel(\"Prediction\")\n",
    "    plt.ylabel(\"Reality\")\n",
    "    plt.title(\"Confusion matrix\")\n",
    "    if(show):\n",
    "        plt.show()"
   ]
  },
  {
   "cell_type": "code",
   "execution_count": null,
   "id": "be10a0ec",
   "metadata": {},
   "outputs": [],
   "source": [
    "k = 5\n",
    "n_samples = len(x)"
   ]
  },
  {
   "cell_type": "code",
   "execution_count": 40,
   "id": "83828217",
   "metadata": {},
   "outputs": [],
   "source": [
    "kf = KFold(n_splits=k, shuffle=True)"
   ]
  },
  {
   "cell_type": "code",
   "execution_count": 41,
   "id": "6780c36a",
   "metadata": {},
   "outputs": [],
   "source": [
    "es = EarlyStopping(monitor='val_loss', patience=5, restore_best_weights=True)\n",
    "reduce_lr = ReduceLROnPlateau(monitor='val_loss', factor=0.2, patience=3, min_lr=0.0001)"
   ]
  },
  {
   "cell_type": "code",
   "execution_count": 42,
   "id": "92fd07b5",
   "metadata": {},
   "outputs": [],
   "source": [
    "weight_ripe = 0.99\n",
    "weight_overripe = 1 - weight_ripe\n",
    "class_weights_dict = {0: weight_ripe, 1: weight_overripe}"
   ]
  },
  {
   "cell_type": "code",
   "execution_count": 43,
   "id": "1e1c74cb",
   "metadata": {},
   "outputs": [],
   "source": [
    "# len(kf_split[0])"
   ]
  },
  {
   "cell_type": "code",
   "execution_count": 44,
   "id": "551e64df",
   "metadata": {},
   "outputs": [
    {
     "name": "stderr",
     "output_type": "stream",
     "text": [
      "  0%|          | 0/10 [00:00<?, ?it/s]"
     ]
    },
    {
     "name": "stdout",
     "output_type": "stream",
     "text": [
      "\n",
      "Fold 0/10...\n",
      "Epoch 1/15\n",
      "Epoch 2/15\n",
      "Epoch 3/15\n",
      "Epoch 4/15\n",
      "Epoch 5/15\n",
      "Epoch 6/15\n",
      "Epoch 7/15\n",
      "✅ Score Fold 0 : compile_metrics = 60.00%\n",
      "\u001b[1m1/1\u001b[0m \u001b[32m━━━━━━━━━━━━━━━━━━━━\u001b[0m\u001b[37m\u001b[0m \u001b[1m0s\u001b[0m 233ms/step\n",
      "\u001b[1m1/1\u001b[0m \u001b[32m━━━━━━━━━━━━━━━━━━━━\u001b[0m\u001b[37m\u001b[0m \u001b[1m0s\u001b[0m 79ms/step\n"
     ]
    },
    {
     "name": "stderr",
     "output_type": "stream",
     "text": [
      " 10%|█         | 1/10 [00:13<02:01, 13.55s/it]"
     ]
    },
    {
     "name": "stdout",
     "output_type": "stream",
     "text": [
      "\n",
      "Fold 1/10...\n",
      "Epoch 1/15\n",
      "Epoch 2/15\n",
      "Epoch 3/15\n",
      "Epoch 4/15\n",
      "Epoch 5/15\n",
      "Epoch 6/15\n",
      "Epoch 7/15\n",
      "✅ Score Fold 1 : compile_metrics = 90.00%\n",
      "\u001b[1m1/1\u001b[0m \u001b[32m━━━━━━━━━━━━━━━━━━━━\u001b[0m\u001b[37m\u001b[0m \u001b[1m0s\u001b[0m 168ms/step\n",
      "\u001b[1m1/1\u001b[0m \u001b[32m━━━━━━━━━━━━━━━━━━━━\u001b[0m\u001b[37m\u001b[0m \u001b[1m0s\u001b[0m 61ms/step\n"
     ]
    },
    {
     "name": "stderr",
     "output_type": "stream",
     "text": [
      " 20%|██        | 2/10 [00:26<01:43, 12.96s/it]"
     ]
    },
    {
     "name": "stdout",
     "output_type": "stream",
     "text": [
      "\n",
      "Fold 2/10...\n",
      "Epoch 1/15\n",
      "Epoch 2/15\n",
      "Epoch 3/15\n",
      "Epoch 4/15\n",
      "Epoch 5/15\n",
      "Epoch 6/15\n",
      "✅ Score Fold 2 : compile_metrics = 66.67%\n",
      "\u001b[1m1/1\u001b[0m \u001b[32m━━━━━━━━━━━━━━━━━━━━\u001b[0m\u001b[37m\u001b[0m \u001b[1m0s\u001b[0m 167ms/step\n",
      "\u001b[1m1/1\u001b[0m \u001b[32m━━━━━━━━━━━━━━━━━━━━\u001b[0m\u001b[37m\u001b[0m \u001b[1m0s\u001b[0m 62ms/step\n"
     ]
    },
    {
     "name": "stderr",
     "output_type": "stream",
     "text": [
      " 30%|███       | 3/10 [00:36<01:21, 11.63s/it]"
     ]
    },
    {
     "name": "stdout",
     "output_type": "stream",
     "text": [
      "\n",
      "Fold 3/10...\n",
      "Epoch 1/15\n",
      "Epoch 2/15\n",
      "Epoch 3/15\n",
      "Epoch 4/15\n",
      "Epoch 5/15\n",
      "Epoch 6/15\n",
      "✅ Score Fold 3 : compile_metrics = 66.67%\n",
      "\u001b[1m1/1\u001b[0m \u001b[32m━━━━━━━━━━━━━━━━━━━━\u001b[0m\u001b[37m\u001b[0m \u001b[1m0s\u001b[0m 163ms/step\n",
      "\u001b[1m1/1\u001b[0m \u001b[32m━━━━━━━━━━━━━━━━━━━━\u001b[0m\u001b[37m\u001b[0m \u001b[1m0s\u001b[0m 58ms/step\n"
     ]
    },
    {
     "name": "stderr",
     "output_type": "stream",
     "text": [
      " 40%|████      | 4/10 [00:46<01:06, 11.15s/it]"
     ]
    },
    {
     "name": "stdout",
     "output_type": "stream",
     "text": [
      "\n",
      "Fold 4/10...\n",
      "Epoch 1/15\n",
      "Epoch 2/15\n",
      "Epoch 3/15\n",
      "Epoch 4/15\n",
      "Epoch 5/15\n",
      "Epoch 6/15\n",
      "Epoch 7/15\n",
      "✅ Score Fold 4 : compile_metrics = 88.89%\n",
      "WARNING:tensorflow:5 out of the last 9 calls to <function TensorFlowTrainer.make_predict_function.<locals>.one_step_on_data_distributed at 0x00000284D740B880> triggered tf.function retracing. Tracing is expensive and the excessive number of tracings could be due to (1) creating @tf.function repeatedly in a loop, (2) passing tensors with different shapes, (3) passing Python objects instead of tensors. For (1), please define your @tf.function outside of the loop. For (2), @tf.function has reduce_retracing=True option that can avoid unnecessary retracing. For (3), please refer to https://www.tensorflow.org/guide/function#controlling_retracing and https://www.tensorflow.org/api_docs/python/tf/function for  more details.\n",
      "\u001b[1m1/1\u001b[0m \u001b[32m━━━━━━━━━━━━━━━━━━━━\u001b[0m\u001b[37m\u001b[0m \u001b[1m0s\u001b[0m 163ms/step\n",
      "\u001b[1m1/1\u001b[0m \u001b[32m━━━━━━━━━━━━━━━━━━━━\u001b[0m\u001b[37m\u001b[0m \u001b[1m0s\u001b[0m 59ms/step\n"
     ]
    },
    {
     "name": "stderr",
     "output_type": "stream",
     "text": [
      " 50%|█████     | 5/10 [00:57<00:56, 11.24s/it]"
     ]
    },
    {
     "name": "stdout",
     "output_type": "stream",
     "text": [
      "\n",
      "Fold 5/10...\n",
      "Epoch 1/15\n",
      "Epoch 2/15\n",
      "Epoch 3/15\n",
      "Epoch 4/15\n",
      "Epoch 5/15\n",
      "Epoch 6/15\n",
      "✅ Score Fold 5 : compile_metrics = 55.56%\n",
      "WARNING:tensorflow:6 out of the last 11 calls to <function TensorFlowTrainer.make_predict_function.<locals>.one_step_on_data_distributed at 0x00000284D3BE0A40> triggered tf.function retracing. Tracing is expensive and the excessive number of tracings could be due to (1) creating @tf.function repeatedly in a loop, (2) passing tensors with different shapes, (3) passing Python objects instead of tensors. For (1), please define your @tf.function outside of the loop. For (2), @tf.function has reduce_retracing=True option that can avoid unnecessary retracing. For (3), please refer to https://www.tensorflow.org/guide/function#controlling_retracing and https://www.tensorflow.org/api_docs/python/tf/function for  more details.\n",
      "\u001b[1m1/1\u001b[0m \u001b[32m━━━━━━━━━━━━━━━━━━━━\u001b[0m\u001b[37m\u001b[0m \u001b[1m0s\u001b[0m 169ms/step\n",
      "\u001b[1m1/1\u001b[0m \u001b[32m━━━━━━━━━━━━━━━━━━━━\u001b[0m\u001b[37m\u001b[0m \u001b[1m0s\u001b[0m 58ms/step\n"
     ]
    },
    {
     "name": "stderr",
     "output_type": "stream",
     "text": [
      " 60%|██████    | 6/10 [01:08<00:44, 11.12s/it]"
     ]
    },
    {
     "name": "stdout",
     "output_type": "stream",
     "text": [
      "\n",
      "Fold 6/10...\n",
      "Epoch 1/15\n",
      "Epoch 2/15\n",
      "Epoch 3/15\n",
      "Epoch 4/15\n",
      "Epoch 5/15\n",
      "Epoch 6/15\n",
      "✅ Score Fold 6 : compile_metrics = 55.56%\n",
      "\u001b[1m1/1\u001b[0m \u001b[32m━━━━━━━━━━━━━━━━━━━━\u001b[0m\u001b[37m\u001b[0m \u001b[1m0s\u001b[0m 163ms/step\n",
      "\u001b[1m1/1\u001b[0m \u001b[32m━━━━━━━━━━━━━━━━━━━━\u001b[0m\u001b[37m\u001b[0m \u001b[1m0s\u001b[0m 59ms/step\n"
     ]
    },
    {
     "name": "stderr",
     "output_type": "stream",
     "text": [
      " 70%|███████   | 7/10 [01:18<00:32, 10.76s/it]"
     ]
    },
    {
     "name": "stdout",
     "output_type": "stream",
     "text": [
      "\n",
      "Fold 7/10...\n",
      "Epoch 1/15\n",
      "Epoch 2/15\n",
      "Epoch 3/15\n",
      "Epoch 4/15\n",
      "Epoch 5/15\n",
      "Epoch 6/15\n",
      "✅ Score Fold 7 : compile_metrics = 77.78%\n",
      "\u001b[1m1/1\u001b[0m \u001b[32m━━━━━━━━━━━━━━━━━━━━\u001b[0m\u001b[37m\u001b[0m \u001b[1m0s\u001b[0m 247ms/step\n",
      "\u001b[1m1/1\u001b[0m \u001b[32m━━━━━━━━━━━━━━━━━━━━\u001b[0m\u001b[37m\u001b[0m \u001b[1m0s\u001b[0m 95ms/step\n"
     ]
    },
    {
     "name": "stderr",
     "output_type": "stream",
     "text": [
      " 80%|████████  | 8/10 [01:29<00:21, 10.80s/it]"
     ]
    },
    {
     "name": "stdout",
     "output_type": "stream",
     "text": [
      "\n",
      "Fold 8/10...\n",
      "Epoch 1/15\n",
      "Epoch 2/15\n",
      "Epoch 3/15\n",
      "Epoch 4/15\n",
      "Epoch 5/15\n",
      "Epoch 6/15\n",
      "✅ Score Fold 8 : compile_metrics = 77.78%\n",
      "\u001b[1m1/1\u001b[0m \u001b[32m━━━━━━━━━━━━━━━━━━━━\u001b[0m\u001b[37m\u001b[0m \u001b[1m0s\u001b[0m 200ms/step\n",
      "\u001b[1m1/1\u001b[0m \u001b[32m━━━━━━━━━━━━━━━━━━━━\u001b[0m\u001b[37m\u001b[0m \u001b[1m0s\u001b[0m 79ms/step\n"
     ]
    },
    {
     "name": "stderr",
     "output_type": "stream",
     "text": [
      " 90%|█████████ | 9/10 [01:41<00:11, 11.21s/it]"
     ]
    },
    {
     "name": "stdout",
     "output_type": "stream",
     "text": [
      "\n",
      "Fold 9/10...\n",
      "Epoch 1/15\n",
      "Epoch 2/15\n",
      "Epoch 3/15\n",
      "Epoch 4/15\n",
      "Epoch 5/15\n",
      "Epoch 6/15\n",
      "Epoch 7/15\n",
      "✅ Score Fold 9 : compile_metrics = 55.56%\n",
      "\u001b[1m1/1\u001b[0m \u001b[32m━━━━━━━━━━━━━━━━━━━━\u001b[0m\u001b[37m\u001b[0m \u001b[1m0s\u001b[0m 217ms/step\n",
      "\u001b[1m1/1\u001b[0m \u001b[32m━━━━━━━━━━━━━━━━━━━━\u001b[0m\u001b[37m\u001b[0m \u001b[1m0s\u001b[0m 68ms/step\n"
     ]
    },
    {
     "name": "stderr",
     "output_type": "stream",
     "text": [
      " 90%|█████████ | 9/10 [01:54<00:12, 12.77s/it]"
     ]
    },
    {
     "name": "stdout",
     "output_type": "stream",
     "text": [
      "\n",
      "✅ Score moyen sur 10 folds : 69.44%\n",
      "Meilleur score : 90.00%\n",
      "Pire score : 55.56%\n"
     ]
    },
    {
     "name": "stderr",
     "output_type": "stream",
     "text": [
      "\n"
     ]
    },
    {
     "data": {
      "image/png": "[encoded data removed]",
      "text/plain": [
       "<Figure size 800x600 with 2 Axes>"
      ]
     },
     "metadata": {},
     "output_type": "display_data"
    },
    {
     "data": {
      "image/png": "[encoded data removed]",
      "text/plain": [
       "<Figure size 800x600 with 2 Axes>"
      ]
     },
     "metadata": {},
     "output_type": "display_data"
    },
    {
     "data": {
      "image/png": "[encoded data removed]",
      "text/plain": [
       "<Figure size 800x600 with 2 Axes>"
      ]
     },
     "metadata": {},
     "output_type": "display_data"
    },
    {
     "data": {
      "image/png": "[encoded data removed]",
      "text/plain": [
       "<Figure size 800x600 with 2 Axes>"
      ]
     },
     "metadata": {},
     "output_type": "display_data"
    },
    {
     "data": {
      "image/png": "[encoded data removed]",
      "text/plain": [
       "<Figure size 800x600 with 2 Axes>"
      ]
     },
     "metadata": {},
     "output_type": "display_data"
    },
    {
     "data": {
      "image/png": "[encoded data removed]",
      "text/plain": [
       "<Figure size 800x600 with 2 Axes>"
      ]
     },
     "metadata": {},
     "output_type": "display_data"
    },
    {
     "data": {
      "image/png": "[encoded data removed]",
      "text/plain": [
       "<Figure size 800x600 with 2 Axes>"
      ]
     },
     "metadata": {},
     "output_type": "display_data"
    },
    {
     "data": {
      "image/png": "[encoded data removed]",
      "text/plain": [
       "<Figure size 800x600 with 2 Axes>"
      ]
     },
     "metadata": {},
     "output_type": "display_data"
    },
    {
     "data": {
      "image/png": "[encoded data removed]",
      "text/plain": [
       "<Figure size 800x600 with 2 Axes>"
      ]
     },
     "metadata": {},
     "output_type": "display_data"
    },
    {
     "data": {
      "image/png": "[encoded data removed]",
      "text/plain": [
       "<Figure size 800x600 with 2 Axes>"
      ]
     },
     "metadata": {},
     "output_type": "display_data"
    },
    {
     "data": {
      "image/png": "[encoded data removed]",
      "text/plain": [
       "<Figure size 800x600 with 2 Axes>"
      ]
     },
     "metadata": {},
     "output_type": "display_data"
    }
   ],
   "source": [
    "acc_per_fold = []\n",
    "global_cm = np.zeros((2, 2), dtype=int)\n",
    "kf_split = list(kf.split(x))\n",
    "for (train_index, val_index), fold_no in zip(kf_split, tqdm(range(len(kf_split)))):\n",
    "    print(f\"\\nFold {fold_no}/{k}...\")\n",
    "    \n",
    "    X_train, X_val = x[train_index], x[val_index]\n",
    "    y_train, y_val = y[train_index], y[val_index]\n",
    "    \n",
    "    # Calcul dynamique des class weights pour ce fold\n",
    "    fold_class_weights = class_weight.compute_class_weight('balanced', classes=np.unique(y_train), y=y_train)\n",
    "    fold_class_weights_dict = dict(enumerate(fold_class_weights))\n",
    "    \n",
    "    model = define_model()\n",
    "    compile_model(model)\n",
    "    model.fit(\n",
    "        X_train, y_train,\n",
    "        epochs=15,\n",
    "        batch_size=8,\n",
    "        validation_data=(X_val, y_val),\n",
    "        callbacks=[es, reduce_lr],\n",
    "        class_weight=fold_class_weights_dict,\n",
    "        verbose=\"0\"\n",
    "    )\n",
    "    \n",
    "    # --- Évaluation sur ce fold\n",
    "    scores = model.evaluate(X_val, y_val, verbose=\"0\")\n",
    "    print(f\"✅ Score Fold {fold_no} : {model.metrics_names[1]} = {scores[1]*100:.2f}%\")\n",
    "    y_prob = model.predict(X_val).ravel()\n",
    "    y_pred = (y_prob >= 0.5).astype(int)\n",
    "    cm = confusion_matrix(y_val, y_pred)\n",
    "    global_cm += cm\n",
    "    show_confusion_matrix(X_val, y_val, model, show=False)\n",
    "    acc_per_fold.append(scores[1] * 100)\n",
    "    fold_no += 1\n",
    "print(f\"\\n✅ Score moyen sur {k} folds : {np.mean(acc_per_fold):.2f}%\")\n",
    "print(f\"Meilleur score : {np.max(acc_per_fold):.2f}%\")\n",
    "print(f\"Pire score : {np.min(acc_per_fold):.2f}%\")\n",
    "plt.figure(figsize=(8, 6))\n",
    "sns.heatmap(global_cm, annot=True, fmt='d', cmap='Blues', xticklabels=['Unripe', 'Ripe'], yticklabels=['Unripe', 'Ripe'])\n",
    "plt.xlabel(\"Prediction\")\n",
    "plt.ylabel(\"Reality\")\n",
    "plt.title(\"Global Confusion Matrix (sum of all folds)\")\n",
    "plt.show()"
   ]
  },
  {
   "cell_type": "markdown",
   "id": "50f96ada",
   "metadata": {},
   "source": [
    "# **7. Building the classification model**\n",
    "---\n",
    "Now let's define our deep learning model. We'll use a simple Convolutional Neural Network (CNN) architecture suitable for audio classification.\n"
   ]
  },
  {
   "cell_type": "code",
   "execution_count": 45,
   "id": "771db89b",
   "metadata": {},
   "outputs": [],
   "source": [
    "compile_model(model)"
   ]
  },
  {
   "cell_type": "markdown",
   "id": "31692876",
   "metadata": {},
   "source": [
    "# **6. Model training**\n",
    "---\n",
    "Let's train the model on the training data and keep track of its performance.\n"
   ]
  },
  {
   "cell_type": "code",
   "execution_count": 46,
   "id": "b2f77ab4",
   "metadata": {},
   "outputs": [
    {
     "name": "stdout",
     "output_type": "stream",
     "text": [
      "Epoch 1/15\n",
      "\u001b[1m 9/10\u001b[0m \u001b[32m━━━━━━━━━━━━━━━━━━\u001b[0m\u001b[37m━━\u001b[0m \u001b[1m0s\u001b[0m 73ms/step - accuracy: 0.5392 - loss: 4.1522"
     ]
    },
    {
     "ename": "ValueError",
     "evalue": "Data cardinality is ambiguous. Make sure all arrays contain the same number of samples.'x' sizes: 19\n'y' sizes: 10\n",
     "output_type": "error",
     "traceback": [
      "\u001b[31m---------------------------------------------------------------------------\u001b[39m",
      "\u001b[31mValueError\u001b[39m                                Traceback (most recent call last)",
      "\u001b[36mCell\u001b[39m\u001b[36m \u001b[39m\u001b[32mIn[46]\u001b[39m\u001b[32m, line 3\u001b[39m\n\u001b[32m      1\u001b[39m es = EarlyStopping(monitor=\u001b[33m'\u001b[39m\u001b[33mval_loss\u001b[39m\u001b[33m'\u001b[39m, patience=\u001b[32m5\u001b[39m, restore_best_weights=\u001b[38;5;28;01mTrue\u001b[39;00m)\n\u001b[32m      2\u001b[39m reduce_lr = ReduceLROnPlateau(monitor=\u001b[33m'\u001b[39m\u001b[33mval_loss\u001b[39m\u001b[33m'\u001b[39m, factor=\u001b[32m0.2\u001b[39m, patience=\u001b[32m3\u001b[39m, min_lr=\u001b[32m0.0001\u001b[39m)\n\u001b[32m----> \u001b[39m\u001b[32m3\u001b[39m history = \u001b[43mmodel\u001b[49m\u001b[43m.\u001b[49m\u001b[43mfit\u001b[49m\u001b[43m(\u001b[49m\n\u001b[32m      4\u001b[39m \u001b[43m    \u001b[49m\u001b[43mx\u001b[49m\u001b[43m,\u001b[49m\u001b[43m \u001b[49m\u001b[43my_train\u001b[49m\u001b[43m,\u001b[49m\n\u001b[32m      5\u001b[39m \u001b[43m    \u001b[49m\u001b[43mepochs\u001b[49m\u001b[43m=\u001b[49m\u001b[32;43m15\u001b[39;49m\u001b[43m,\u001b[49m\n\u001b[32m      6\u001b[39m \u001b[43m    \u001b[49m\u001b[43mbatch_size\u001b[49m\u001b[43m=\u001b[49m\u001b[32;43m8\u001b[39;49m\u001b[43m,\u001b[49m\n\u001b[32m      7\u001b[39m \u001b[43m    \u001b[49m\u001b[43mvalidation_split\u001b[49m\u001b[43m=\u001b[49m\u001b[32;43m0.2\u001b[39;49m\u001b[43m,\u001b[49m\n\u001b[32m      8\u001b[39m \u001b[43m    \u001b[49m\u001b[43mcallbacks\u001b[49m\u001b[43m=\u001b[49m\u001b[43m[\u001b[49m\u001b[43mes\u001b[49m\u001b[43m,\u001b[49m\u001b[43m \u001b[49m\u001b[43mreduce_lr\u001b[49m\u001b[43m]\u001b[49m\u001b[43m,\u001b[49m\n\u001b[32m      9\u001b[39m \u001b[43m    \u001b[49m\u001b[43mshuffle\u001b[49m\u001b[43m=\u001b[49m\u001b[38;5;28;43;01mTrue\u001b[39;49;00m\u001b[43m,\u001b[49m\n\u001b[32m     10\u001b[39m \u001b[43m    \u001b[49m\u001b[43mclass_weight\u001b[49m\u001b[43m=\u001b[49m\u001b[43mclass_weights_dict\u001b[49m\u001b[43m  \u001b[49m\u001b[38;5;66;43;03m# Add class weights to compensate for slight class imbalance\u001b[39;49;00m\n\u001b[32m     11\u001b[39m \u001b[43m)\u001b[49m\n",
      "\u001b[36mFile \u001b[39m\u001b[32mc:\\Users\\antoi\\Documents\\GitHub\\durian-maturity-classification\\.venv\\Lib\\site-packages\\keras\\src\\utils\\traceback_utils.py:122\u001b[39m, in \u001b[36mfilter_traceback.<locals>.error_handler\u001b[39m\u001b[34m(*args, **kwargs)\u001b[39m\n\u001b[32m    119\u001b[39m     filtered_tb = _process_traceback_frames(e.__traceback__)\n\u001b[32m    120\u001b[39m     \u001b[38;5;66;03m# To get the full stack trace, call:\u001b[39;00m\n\u001b[32m    121\u001b[39m     \u001b[38;5;66;03m# `keras.config.disable_traceback_filtering()`\u001b[39;00m\n\u001b[32m--> \u001b[39m\u001b[32m122\u001b[39m     \u001b[38;5;28;01mraise\u001b[39;00m e.with_traceback(filtered_tb) \u001b[38;5;28;01mfrom\u001b[39;00m\u001b[38;5;250m \u001b[39m\u001b[38;5;28;01mNone\u001b[39;00m\n\u001b[32m    123\u001b[39m \u001b[38;5;28;01mfinally\u001b[39;00m:\n\u001b[32m    124\u001b[39m     \u001b[38;5;28;01mdel\u001b[39;00m filtered_tb\n",
      "\u001b[36mFile \u001b[39m\u001b[32mc:\\Users\\antoi\\Documents\\GitHub\\durian-maturity-classification\\.venv\\Lib\\site-packages\\keras\\src\\trainers\\data_adapters\\data_adapter_utils.py:115\u001b[39m, in \u001b[36mcheck_data_cardinality\u001b[39m\u001b[34m(data)\u001b[39m\n\u001b[32m    111\u001b[39m     sizes = \u001b[33m\"\u001b[39m\u001b[33m, \u001b[39m\u001b[33m\"\u001b[39m.join(\n\u001b[32m    112\u001b[39m         \u001b[38;5;28mstr\u001b[39m(i.shape[\u001b[32m0\u001b[39m]) \u001b[38;5;28;01mfor\u001b[39;00m i \u001b[38;5;129;01min\u001b[39;00m tree.flatten(single_data)\n\u001b[32m    113\u001b[39m     )\n\u001b[32m    114\u001b[39m     msg += \u001b[33mf\u001b[39m\u001b[33m\"\u001b[39m\u001b[33m'\u001b[39m\u001b[38;5;132;01m{\u001b[39;00mlabel\u001b[38;5;132;01m}\u001b[39;00m\u001b[33m'\u001b[39m\u001b[33m sizes: \u001b[39m\u001b[38;5;132;01m{\u001b[39;00msizes\u001b[38;5;132;01m}\u001b[39;00m\u001b[38;5;130;01m\\n\u001b[39;00m\u001b[33m\"\u001b[39m\n\u001b[32m--> \u001b[39m\u001b[32m115\u001b[39m \u001b[38;5;28;01mraise\u001b[39;00m \u001b[38;5;167;01mValueError\u001b[39;00m(msg)\n",
      "\u001b[31mValueError\u001b[39m: Data cardinality is ambiguous. Make sure all arrays contain the same number of samples.'x' sizes: 19\n'y' sizes: 10\n"
     ]
    }
   ],
   "source": [
    "es = EarlyStopping(monitor='val_loss', patience=5, restore_best_weights=True)\n",
    "reduce_lr = ReduceLROnPlateau(monitor='val_loss', factor=0.2, patience=3, min_lr=0.0001)\n",
    "history = model.fit(\n",
    "    x, y_train,\n",
    "    epochs=15,\n",
    "    batch_size=8,\n",
    "    validation_split=0.2,\n",
    "    callbacks=[es, reduce_lr],\n",
    "    shuffle=True,\n",
    "    class_weight=class_weights_dict  # Add class weights to compensate for slight class imbalance\n",
    ")"
   ]
  },
  {
   "cell_type": "code",
   "execution_count": null,
   "id": "e988aa52",
   "metadata": {},
   "outputs": [],
   "source": [
    "x.shape, y_train.shape, x_test.shape, y_test.shape"
   ]
  },
  {
   "cell_type": "code",
   "execution_count": null,
   "id": "864d34c0",
   "metadata": {},
   "outputs": [],
   "source": [
    "show_confusion_matrix(x_test, y_test)"
   ]
  },
  {
   "cell_type": "code",
   "execution_count": null,
   "id": "b5c2919b",
   "metadata": {},
   "outputs": [],
   "source": [
    "show_confusion_matrix(x, y_train)"
   ]
  },
  {
   "cell_type": "markdown",
   "id": "3e15b11e",
   "metadata": {},
   "source": [
    "# **7. Model evaluation**\n",
    "---\n",
    "We now evaluate the trained model on the test set, check the accuracy, and display a confusion matrix for detailed analysis.\n"
   ]
  },
  {
   "cell_type": "code",
   "execution_count": null,
   "id": "dacce045",
   "metadata": {},
   "outputs": [],
   "source": [
    "loss, acc = model.evaluate(x_test, y_test)"
   ]
  },
  {
   "cell_type": "markdown",
   "id": "973b0936",
   "metadata": {},
   "source": [
    "# **8. Results & analysis**\n",
    "---\n",
    "Let's analyze the results, discuss strengths and weaknesses, and try to interpret what the model is learning.\n"
   ]
  },
  {
   "cell_type": "code",
   "execution_count": null,
   "id": "9afb91a3",
   "metadata": {},
   "outputs": [],
   "source": [
    "print(\"X_train.shape:\", x.shape)\n",
    "print(\"y_train.shape:\", y_train.shape)\n",
    "print(\"X_test.shape:\", x_test.shape)\n",
    "print(\"y_test.shape:\", y_test.shape)\n",
    "\n",
    "print(\"Répartition y_train :\", np.unique(y_train, return_counts=True))\n",
    "print(\"Répartition y_test :\", np.unique(y_test, return_counts=True))\n",
    "\n",
    "print(\"Premier fichier train:\", train_files_final[0].name, \"label:\", y_train[0])\n",
    "print(\"Premier fichier test:\", test_files_final[0].name, \"label:\", y_test[0])"
   ]
  },
  {
   "cell_type": "code",
   "execution_count": null,
   "id": "8e7a2ac6",
   "metadata": {},
   "outputs": [],
   "source": [
    "print(\"y_train repartition :\", np.bincount(y_train))\n",
    "print(\"y_test repartition :\", np.bincount(y_test))"
   ]
  },
  {
   "cell_type": "code",
   "execution_count": null,
   "id": "4a5c79d9",
   "metadata": {},
   "outputs": [],
   "source": [
    "plt.figure(figsize=(12,4))\n",
    "\n",
    "# Accuracy\n",
    "plt.subplot(1,2,1)\n",
    "plt.plot(history.history['accuracy'], label='train')\n",
    "plt.plot(history.history['val_accuracy'], label='val')\n",
    "plt.title(\"Accuracy\")\n",
    "plt.xlabel(\"Epoch\")\n",
    "plt.ylabel(\"Accuracy\")\n",
    "plt.legend()\n",
    "\n",
    "# Loss\n",
    "plt.subplot(1,2,2)\n",
    "plt.plot(history.history['loss'], label='train')\n",
    "plt.plot(history.history['val_loss'], label='val')\n",
    "plt.title(\"Loss\")\n",
    "plt.xlabel(\"Epoch\")\n",
    "plt.ylabel(\"Loss\")\n",
    "plt.legend()\n",
    "\n",
    "plt.tight_layout()\n",
    "plt.show()\n",
    "\n"
   ]
  },
  {
   "cell_type": "code",
   "execution_count": null,
   "id": "730b95c5",
   "metadata": {},
   "outputs": [],
   "source": [
    "\n",
    "# Confusion matrix\n",
    "y_prob = model.predict(x_test).ravel()\n",
    "y_pred = (y_prob >= 0.5).astype(int)\n",
    "\n",
    "cm = confusion_matrix(y_test, y_pred)\n",
    "labels = ['unripe', 'ripe']\n",
    "\n",
    "plt.figure(figsize=(6,5))\n",
    "sns.heatmap(cm, annot=True, fmt=\"d\", cmap=\"Blues\",\n",
    "            xticklabels=labels, yticklabels=labels)\n",
    "plt.xlabel(\"Prediction\")\n",
    "plt.ylabel(\"Reality\")\n",
    "plt.title(\"Confusion matrix\")\n",
    "plt.show()\n"
   ]
  },
  {
   "cell_type": "code",
   "execution_count": null,
   "id": "01efb70f",
   "metadata": {},
   "outputs": [],
   "source": [
    "\n",
    "print(classification_report(y_test, y_pred, target_names=labels))\n",
    "\n"
   ]
  },
  {
   "cell_type": "markdown",
   "id": "69188cc9",
   "metadata": {},
   "source": [
    "# **9. Save model**\n",
    "---\n",
    "Finally, we save our trained model for later use, and discuss possible improvements or future work.\n"
   ]
  },
  {
   "cell_type": "code",
   "execution_count": null,
   "id": "fd5825ad",
   "metadata": {},
   "outputs": [],
   "source": [
    "# only execute the first time \n",
    "model_version_index = 6"
   ]
  },
  {
   "cell_type": "code",
   "execution_count": null,
   "id": "7678b6f0",
   "metadata": {},
   "outputs": [],
   "source": [
    "model.save(f\"models/model_augmented_v{model_version_index}_({loss:.2f}, {acc:.2f})_.keras\")\n",
    "model_version_index+=1"
   ]
  },
  {
   "cell_type": "markdown",
   "id": "df56d402",
   "metadata": {},
   "source": [
    "test"
   ]
  }
 ],
 "metadata": {
  "kernelspec": {
   "display_name": ".venv",
   "language": "python",
   "name": "python3"
  },
  "language_info": {
   "codemirror_mode": {
    "name": "ipython",
    "version": 3
   },
   "file_extension": ".py",
   "mimetype": "text/x-python",
   "name": "python",
   "nbconvert_exporter": "python",
   "pygments_lexer": "ipython3",
   "version": "3.12.0"
  }
 },
 "nbformat": 4,
 "nbformat_minor": 5
}
