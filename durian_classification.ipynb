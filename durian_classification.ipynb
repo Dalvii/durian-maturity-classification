{
  "cells": [
    {
      "cell_type": "code",
      "execution_count": 4,
      "metadata": {
        "id": "RMnmPZsqljwb"
      },
      "outputs": [],
      "source": [
        "import numpy as np\n",
        "import torch\n",
        "import matplotlib.pyplot as plt\n",
        "import keras\n",
        "import librosa\n",
        "import os\n",
        "import re\n",
        "from tqdm import tqdm\n",
        "import tensorflow as tf\n",
        "import warnings\n",
        "from tqdm import tqdm\n"
      ]
    },
    {
      "cell_type": "markdown",
      "metadata": {},
      "source": [
        "### Use cuda acceleration (optional)"
      ]
    },
    {
      "cell_type": "code",
      "execution_count": 5,
      "metadata": {
        "colab": {
          "base_uri": "https://localhost:8080/",
          "height": 35
        },
        "id": "vh-UH9mMdNKK",
        "outputId": "8d2521de-6b8d-4d46-c4db-10fbdd108afa"
      },
      "outputs": [
        {
          "data": {
            "text/plain": [
              "'cpu'"
            ]
          },
          "execution_count": 5,
          "metadata": {},
          "output_type": "execute_result"
        }
      ],
      "source": [
        "device = \"cuda\" if torch.cuda.is_available() else \"cpu\"\n",
        "device"
      ]
    },
    {
      "cell_type": "code",
      "execution_count": 7,
      "metadata": {},
      "outputs": [],
      "source": [
        "path = './AUDIO_DATA'"
      ]
    },
    {
      "cell_type": "markdown",
      "metadata": {},
      "source": [
        "### Link your google drive storage if you are working on google colab (optional)  "
      ]
    },
    {
      "cell_type": "code",
      "execution_count": 3,
      "metadata": {
        "colab": {
          "base_uri": "https://localhost:8080/"
        },
        "id": "yiB_DwLXqmel",
        "outputId": "91c90be5-cad7-46cd-808e-d7c14c6b8b3f"
      },
      "outputs": [],
      "source": [
        "path = '<your google drive path>'\n",
        "# from google.colab import drive\n",
        "# drive.mount('/content/drive')\n",
        "# %cd /content/drive/MyDrive/DurianAudios"
      ]
    },
    {
      "cell_type": "markdown",
      "metadata": {
        "id": "n6aI7fH6o4yU"
      },
      "source": [
        "# **1. Data and features extraction : MFCC**\n",
        "---"
      ]
    },
    {
      "cell_type": "markdown",
      "metadata": {
        "id": "8c5L3fcwpGvf"
      },
      "source": [
        " Firstly, we are going to prepare our data using MFCC, a method which allow us to extract the features of an audio."
      ]
    },
    {
      "cell_type": "code",
      "execution_count": 8,
      "metadata": {
        "colab": {
          "base_uri": "https://localhost:8080/"
        },
        "id": "yUqYGOlpo4Rx",
        "outputId": "5dd1c4dd-80b0-4a57-ca43-c36a1421dd6a"
      },
      "outputs": [],
      "source": [
        "warnings.filterwarnings(\"ignore\", category=FutureWarning)\n",
        "warnings.filterwarnings(\"ignore\", message=\"PySoundFile failed.*\")\n",
        "\n",
        "audiosdir = path\n",
        "\n",
        "audios_75_85 = []\n",
        "audios_95 = []\n",
        "\n",
        "def tri_audio(audio_name):\n",
        "  if(audio_name not in [*audios_75_85,*audios_95]):\n",
        "    try:\n",
        "      if(re.split('_|%',audio_name)[3] == \"75-85\"):\n",
        "        audios_75_85.append(audio_name)\n",
        "      else:\n",
        "        audios_95.append(audio_name)\n",
        "    except :\n",
        "      print(audio_name)\n",
        "for i in sorted(os.listdir(audiosdir)):\n",
        "  tri_audio(i)\n"
      ]
    },
    {
      "cell_type": "code",
      "execution_count": 9,
      "metadata": {
        "id": "RSnwxu8kYi8Q"
      },
      "outputs": [],
      "source": [
        "def load_audio(file_name, audio_path=audiosdir):\n",
        "    full_path = os.path.join(audio_path, file_name)\n",
        "    y, sr = librosa.load(full_path, sr=None)\n",
        "    return y, sr"
      ]
    },
    {
      "cell_type": "code",
      "execution_count": 10,
      "metadata": {
        "colab": {
          "base_uri": "https://localhost:8080/"
        },
        "id": "PSDcBpO-bwNP",
        "outputId": "c5f514f1-7e1d-48f6-b009-51dbbee2bc36"
      },
      "outputs": [
        {
          "name": "stderr",
          "output_type": "stream",
          "text": [
            "100%|██████████| 45/45 [00:28<00:00,  1.56it/s]\n",
            "100%|██████████| 47/47 [00:03<00:00, 14.29it/s]\n"
          ]
        }
      ],
      "source": [
        "loaded_good = [load_audio(f) for f in tqdm(audios_75_85)]\n",
        "loaded_bad = [load_audio(f) for f in tqdm(audios_95)]"
      ]
    },
    {
      "cell_type": "markdown",
      "metadata": {},
      "source": [
        "### Then we compute the MFCC coefficients"
      ]
    },
    {
      "cell_type": "code",
      "execution_count": 11,
      "metadata": {
        "colab": {
          "base_uri": "https://localhost:8080/"
        },
        "collapsed": true,
        "id": "2tQW1x1muhyw",
        "outputId": "fc602aaa-7f6f-4006-8a78-74e27b3663ef"
      },
      "outputs": [],
      "source": [
        "n_mfcc     = 40        # number of coefficients\n",
        "n_fft      = 2048      # window size STFT\n",
        "hop_length = 512\n",
        "\n",
        "def compute_mfcc(lst: list):\n",
        "  for fn in lst:\n",
        "      y, sr = load_audio(fn)\n",
        "      mfcc_features = librosa.feature.mfcc(y=y, sr=sr, n_mfcc=n_mfcc, n_fft=n_fft, hop_length=hop_length)\n",
        "      yield librosa.util.normalize(mfcc_features, axis=1)\n",
        "\n",
        "mfcc_list = [*compute_mfcc(audios_75_85), *compute_mfcc(audios_95)]"
      ]
    },
    {
      "cell_type": "markdown",
      "metadata": {
        "id": "qrWoSjOtx8Vk"
      },
      "source": [
        "# **2. Audio dataset preparation (padding and trimming)**"
      ]
    },
    {
      "cell_type": "markdown",
      "metadata": {
        "id": "sUQWbOFYydzS"
      },
      "source": [
        "Besides, the idea is to set a single length T_max (typically the maximum recorded value) and then, for each MFCC:  \n",
        "*   If T_i < T_max → pad with columns of trailing zeros\n",
        "*   If T_i > T_max → trim to keep only the first T_max frames  "
      ]
    },
    {
      "cell_type": "code",
      "execution_count": 12,
      "metadata": {
        "colab": {
          "base_uri": "https://localhost:8080/"
        },
        "id": "xJMSxq-jy1In",
        "outputId": "e8264c6b-65a5-44ec-f827-5c8fc72463a5"
      },
      "outputs": [
        {
          "name": "stdout",
          "output_type": "stream",
          "text": [
            "244 244 250 257 257 268 268 273 271 248 246 241 273 244 239 266 248 271 262 244 244 268 246 248 246 271 246 271 273 255 266 268 271 246 259 246 266 266 268 246 246 248 268 248 248 241 244 268 248 268 246 262 271 268 271 268 248 255 264 255 264 244 246 259 255 248 246 259 273 262 221 201 250 244 268 246 271 268 271 255 262 271 255 246 268 246 273 250 257 268 248 244\n",
            "The maximum value of time is 273 ms\n"
          ]
        }
      ],
      "source": [
        "T = list(mfcc.shape[1] for mfcc in mfcc_list)\n",
        "print(*T)\n",
        "T_max = max(T)\n",
        "print(f'The maximum value of time is {T_max} ms')"
      ]
    },
    {
      "cell_type": "markdown",
      "metadata": {},
      "source": [
        "In this step, we ensure that all MFCCs have the same length by either padding them with zeros or trimming them to a fixed length, `T_max`. This is necessary to standardize the input size for the model."
      ]
    },
    {
      "cell_type": "code",
      "execution_count": 14,
      "metadata": {
        "colab": {
          "base_uri": "https://localhost:8080/"
        },
        "collapsed": true,
        "id": "RUTW5f740ZQc",
        "outputId": "fe2f4261-a903-44e2-b776-01b17d7c1cef"
      },
      "outputs": [],
      "source": [
        "mfcc_fixed = []\n",
        "for m in mfcc_list:\n",
        "    T_i = m.shape[1]\n",
        "    if T_i < T_max:\n",
        "        # padding\n",
        "        pad_width = T_max - T_i\n",
        "        m2 = np.pad(m,\n",
        "                    pad_width=((0,0),   # no padding on coefficient axis\n",
        "                    (0,pad_width)),     # padding to the right for time axis\n",
        "                    mode='constant',\n",
        "                    constant_values=0)\n",
        "    else:\n",
        "        # trimming\n",
        "        m2 = m[:, :T_max]\n",
        "    mfcc_fixed.append(m2)"
      ]
    },
    {
      "cell_type": "markdown",
      "metadata": {},
      "source": [
        "# **3. Dataset formatting for model input**\n",
        "---\n",
        "At this stage, we will prepare our padded/truncated MFCCs into the right shape for our deep learning model (flattening, stacking, or reshaping as needed), and associate them with their corresponding labels.\n"
      ]
    },
    {
      "cell_type": "code",
      "execution_count": 15,
      "metadata": {
        "colab": {
          "base_uri": "https://localhost:8080/"
        },
        "id": "uHwKjXiY8IxK",
        "outputId": "a48329d1-fa74-4a34-9a12-6572a13a24d6"
      },
      "outputs": [
        {
          "name": "stdout",
          "output_type": "stream",
          "text": [
            "X.shape = (92, 40, 273, 1)\n"
          ]
        }
      ],
      "source": [
        "X = np.stack(mfcc_fixed, axis=0)\n",
        "\n",
        "X = X[..., np.newaxis]\n",
        "\n",
        "print(\"X.shape =\", X.shape)"
      ]
    },
    {
      "cell_type": "code",
      "execution_count": 16,
      "metadata": {
        "colab": {
          "base_uri": "https://localhost:8080/"
        },
        "id": "btHGubvgd1NG",
        "outputId": "c0590fdd-d62e-419e-90c8-0a87f2fd31f2"
      },
      "outputs": [
        {
          "name": "stdout",
          "output_type": "stream",
          "text": [
            "y.shape = (92,)\n"
          ]
        }
      ],
      "source": [
        "y = np.array([1]*len(audios_75_85) + [0]*len(audios_95))\n",
        "print(\"y.shape =\", y.shape)"
      ]
    },
    {
      "cell_type": "markdown",
      "metadata": {},
      "source": [
        "# **4. Train/Test split**\n",
        "---\n",
        "To evaluate our model fairly, we split the dataset into a training set and a test set. Usually, we use a ratio like 80/20.\n"
      ]
    },
    {
      "cell_type": "code",
      "execution_count": 17,
      "metadata": {
        "id": "hM0hIx_Nu5yH"
      },
      "outputs": [],
      "source": [
        "indices = np.arange(len(X))\n",
        "np.random.shuffle(indices)\n",
        "X = X[indices]\n",
        "y = y[indices]"
      ]
    },
    {
      "cell_type": "code",
      "execution_count": 18,
      "metadata": {
        "id": "NuBGC7ZIfPJb"
      },
      "outputs": [],
      "source": [
        "separation = int(len(X)*(80/100))\n",
        "\n",
        "x_train = X[:separation]\n",
        "y_train = y[:separation]\n",
        "x_test = X[separation:]\n",
        "y_test = y[separation:]"
      ]
    },
    {
      "cell_type": "markdown",
      "metadata": {},
      "source": [
        "Shuffle training data ton ensure linear accuracy progress during training"
      ]
    },
    {
      "cell_type": "code",
      "execution_count": 19,
      "metadata": {
        "id": "dwxHeMvGsMOE"
      },
      "outputs": [],
      "source": [
        "indices = np.arange(len(x_train))\n",
        "np.random.shuffle(indices)\n",
        "y_train = y_train[indices]\n",
        "x_train = x_train[indices]"
      ]
    },
    {
      "cell_type": "markdown",
      "metadata": {},
      "source": [
        "# **5. Building the classification model**\n",
        "---\n",
        "Now let's define our deep learning model. We'll use a simple Convolutional Neural Network (CNN) architecture suitable for audio classification.\n"
      ]
    },
    {
      "cell_type": "code",
      "execution_count": 21,
      "metadata": {
        "id": "_8r7y-Ebh8X_"
      },
      "outputs": [],
      "source": [
        "from keras.models import Sequential\n",
        "from keras.layers import Dense, Conv2D, Input, BatchNormalization, Dropout, MaxPooling2D, Flatten\n",
        "import numpy as np\n",
        "import matplotlib.pyplot as plt\n",
        "from sklearn.metrics import confusion_matrix, classification_report\n",
        "import seaborn as sns\n",
        "import tensorflow as tf\n",
        "from keras.models import Sequential\n",
        "from keras.layers import Conv2D, MaxPooling2D, Flatten, Dense, Dropout, BatchNormalization\n",
        "from keras.callbacks import EarlyStopping\n",
        "from keras.utils import to_categorical\n"
      ]
    },
    {
      "cell_type": "code",
      "execution_count": 39,
      "metadata": {
        "colab": {
          "base_uri": "https://localhost:8080/"
        },
        "id": "dA0oIz8ZiOfY",
        "outputId": "3fa2d5ab-1c3b-415e-e183-bcb0b6d84098"
      },
      "outputs": [],
      "source": [
        "model = Sequential([\n",
        "    Input(shape=x_train.shape[1:]),\n",
        "    Conv2D(32, (3,3), activation='relu'),\n",
        "    BatchNormalization(),\n",
        "    MaxPooling2D(),\n",
        "    Dropout(0.25),\n",
        "\n",
        "    Conv2D(64, (3,3), activation='relu'),\n",
        "    BatchNormalization(),\n",
        "    MaxPooling2D(),\n",
        "    Dropout(0.25),\n",
        "\n",
        "    Flatten(),\n",
        "    Dense(128, activation='relu', kernel_regularizer=keras.regularizers.l2(1e-4)),\n",
        "    Dropout(0.5),\n",
        "    Dense(1, activation='sigmoid')\n",
        "])"
      ]
    },
    {
      "cell_type": "code",
      "execution_count": 31,
      "metadata": {},
      "outputs": [
        {
          "name": "stdout",
          "output_type": "stream",
          "text": [
            "You must install pydot (`pip install pydot`) for `plot_model` to work.\n"
          ]
        }
      ],
      "source": [
        "keras.utils.plot_model(model, show_shapes=True)"
      ]
    },
    {
      "cell_type": "code",
      "execution_count": 40,
      "metadata": {
        "id": "zo52-fjOiq6v"
      },
      "outputs": [],
      "source": [
        "def compile_model(model, learning_rate: int | None = None):\n",
        "    if learning_rate is not None:\n",
        "        opt = keras.optimizers.Adam(learning_rate=learning_rate)\n",
        "        model.compile(\n",
        "            optimizer=opt,\n",
        "            loss='binary_crossentropy',\n",
        "            metrics=['accuracy']\n",
        "        )\n",
        "        return opt\n",
        "    model.compile(\n",
        "        optimizer='adam',\n",
        "        loss='binary_crossentropy',\n",
        "        metrics=['accuracy']\n",
        "    )"
      ]
    },
    {
      "cell_type": "code",
      "execution_count": 41,
      "metadata": {
        "colab": {
          "base_uri": "https://localhost:8080/"
        },
        "id": "UjvGvvQknxNC",
        "outputId": "2f435ce0-2c85-414a-9cdf-4277cfeeff3a"
      },
      "outputs": [],
      "source": [
        "compile_model(model)"
      ]
    },
    {
      "cell_type": "markdown",
      "metadata": {},
      "source": [
        "# **6. Model training**\n",
        "---\n",
        "Let's train the model on the training data and keep track of its performance.\n"
      ]
    },
    {
      "cell_type": "code",
      "execution_count": 42,
      "metadata": {},
      "outputs": [
        {
          "name": "stdout",
          "output_type": "stream",
          "text": [
            "Epoch 1/60\n",
            "\u001b[1m2/2\u001b[0m \u001b[32m━━━━━━━━━━━━━━━━━━━━\u001b[0m\u001b[37m\u001b[0m \u001b[1m2s\u001b[0m 356ms/step - accuracy: 0.5219 - loss: 18.2840 - val_accuracy: 0.3333 - val_loss: 1.5848\n",
            "Epoch 2/60\n",
            "\u001b[1m2/2\u001b[0m \u001b[32m━━━━━━━━━━━━━━━━━━━━\u001b[0m\u001b[37m\u001b[0m \u001b[1m0s\u001b[0m 200ms/step - accuracy: 0.5679 - loss: 10.7425 - val_accuracy: 0.6667 - val_loss: 0.7387\n",
            "Epoch 3/60\n",
            "\u001b[1m2/2\u001b[0m \u001b[32m━━━━━━━━━━━━━━━━━━━━\u001b[0m\u001b[37m\u001b[0m \u001b[1m0s\u001b[0m 208ms/step - accuracy: 0.5449 - loss: 13.6791 - val_accuracy: 0.6667 - val_loss: 0.6743\n",
            "Epoch 4/60\n",
            "\u001b[1m2/2\u001b[0m \u001b[32m━━━━━━━━━━━━━━━━━━━━\u001b[0m\u001b[37m\u001b[0m \u001b[1m0s\u001b[0m 201ms/step - accuracy: 0.6774 - loss: 4.4553 - val_accuracy: 0.3333 - val_loss: 1.3214\n",
            "Epoch 5/60\n",
            "\u001b[1m2/2\u001b[0m \u001b[32m━━━━━━━━━━━━━━━━━━━━\u001b[0m\u001b[37m\u001b[0m \u001b[1m0s\u001b[0m 196ms/step - accuracy: 0.5366 - loss: 7.2328 - val_accuracy: 0.3333 - val_loss: 1.2075\n",
            "Epoch 6/60\n",
            "\u001b[1m2/2\u001b[0m \u001b[32m━━━━━━━━━━━━━━━━━━━━\u001b[0m\u001b[37m\u001b[0m \u001b[1m0s\u001b[0m 195ms/step - accuracy: 0.6024 - loss: 5.9352 - val_accuracy: 0.3333 - val_loss: 0.7813\n",
            "Epoch 7/60\n",
            "\u001b[1m2/2\u001b[0m \u001b[32m━━━━━━━━━━━━━━━━━━━━\u001b[0m\u001b[37m\u001b[0m \u001b[1m0s\u001b[0m 215ms/step - accuracy: 0.7881 - loss: 2.6881 - val_accuracy: 0.7333 - val_loss: 0.6181\n",
            "Epoch 8/60\n",
            "\u001b[1m2/2\u001b[0m \u001b[32m━━━━━━━━━━━━━━━━━━━━\u001b[0m\u001b[37m\u001b[0m \u001b[1m0s\u001b[0m 205ms/step - accuracy: 0.7996 - loss: 2.3248 - val_accuracy: 0.8000 - val_loss: 0.5759\n",
            "Epoch 9/60\n",
            "\u001b[1m2/2\u001b[0m \u001b[32m━━━━━━━━━━━━━━━━━━━━\u001b[0m\u001b[37m\u001b[0m \u001b[1m0s\u001b[0m 190ms/step - accuracy: 0.7902 - loss: 2.7963 - val_accuracy: 0.7333 - val_loss: 0.5949\n",
            "Epoch 10/60\n",
            "\u001b[1m2/2\u001b[0m \u001b[32m━━━━━━━━━━━━━━━━━━━━\u001b[0m\u001b[37m\u001b[0m \u001b[1m0s\u001b[0m 209ms/step - accuracy: 0.8445 - loss: 1.1853 - val_accuracy: 0.7333 - val_loss: 0.8843\n",
            "Epoch 11/60\n",
            "\u001b[1m2/2\u001b[0m \u001b[32m━━━━━━━━━━━━━━━━━━━━\u001b[0m\u001b[37m\u001b[0m \u001b[1m0s\u001b[0m 205ms/step - accuracy: 0.8675 - loss: 0.7325 - val_accuracy: 0.7333 - val_loss: 1.4650\n",
            "Epoch 12/60\n",
            "\u001b[1m2/2\u001b[0m \u001b[32m━━━━━━━━━━━━━━━━━━━━\u001b[0m\u001b[37m\u001b[0m \u001b[1m0s\u001b[0m 207ms/step - accuracy: 0.8445 - loss: 0.5350 - val_accuracy: 0.7333 - val_loss: 2.2117\n",
            "Epoch 13/60\n",
            "\u001b[1m2/2\u001b[0m \u001b[32m━━━━━━━━━━━━━━━━━━━━\u001b[0m\u001b[37m\u001b[0m \u001b[1m0s\u001b[0m 226ms/step - accuracy: 0.8111 - loss: 0.4458 - val_accuracy: 0.7333 - val_loss: 3.1227\n"
          ]
        }
      ],
      "source": [
        "es = EarlyStopping(monitor='val_loss', patience=5, restore_best_weights=True)\n",
        "\n",
        "history = model.fit(\n",
        "    x_train, y_train,\n",
        "    epochs=60,\n",
        "    batch_size=32,\n",
        "    validation_split=0.2,\n",
        "    callbacks=[es],\n",
        "    shuffle=True,\n",
        ")"
      ]
    },
    {
      "cell_type": "markdown",
      "metadata": {},
      "source": [
        "# **7. Model evaluation**\n",
        "---\n",
        "We now evaluate the trained model on the test set, check the accuracy, and display a confusion matrix for detailed analysis.\n"
      ]
    },
    {
      "cell_type": "code",
      "execution_count": 43,
      "metadata": {
        "colab": {
          "base_uri": "https://localhost:8080/",
          "height": 520
        },
        "id": "6v9znBGPoVM1",
        "outputId": "6afdb573-faf9-4df8-838a-cfd45d32bc51"
      },
      "outputs": [
        {
          "name": "stdout",
          "output_type": "stream",
          "text": [
            "\u001b[1m1/1\u001b[0m \u001b[32m━━━━━━━━━━━━━━━━━━━━\u001b[0m\u001b[37m\u001b[0m \u001b[1m0s\u001b[0m 51ms/step - accuracy: 0.6316 - loss: 0.6776\n"
          ]
        }
      ],
      "source": [
        "loss, acc = model.evaluate(x_test, y_test)"
      ]
    },
    {
      "cell_type": "markdown",
      "metadata": {},
      "source": [
        "# **8. Results & analysis**\n",
        "---\n",
        "Let's analyze the results, discuss strengths and weaknesses, and try to interpret what the model is learning.\n"
      ]
    },
    {
      "cell_type": "code",
      "execution_count": 36,
      "metadata": {},
      "outputs": [
        {
          "name": "stdout",
          "output_type": "stream",
          "text": [
            "y_train repartition : [40 33]\n",
            "y_test repartition : [ 7 12]\n"
          ]
        }
      ],
      "source": [
        "print(\"y_train repartition :\", np.bincount(y_train))\n",
        "print(\"y_test repartition :\", np.bincount(y_test))"
      ]
    },
    {
      "cell_type": "code",
      "execution_count": 44,
      "metadata": {
        "colab": {
          "base_uri": "https://localhost:8080/"
        },
        "id": "1ZtWwzBZz4Bq",
        "outputId": "b5771892-d7d0-4c90-c60e-2b660c8e22c3"
      },
      "outputs": [
        {
          "data": {
            "image/png": "[encoded data removed]",
            "text/plain": [
              "<Figure size 1200x400 with 2 Axes>"
            ]
          },
          "metadata": {},
          "output_type": "display_data"
        },
        {
          "name": "stdout",
          "output_type": "stream",
          "text": [
            "\u001b[1m1/1\u001b[0m \u001b[32m━━━━━━━━━━━━━━━━━━━━\u001b[0m\u001b[37m\u001b[0m \u001b[1m0s\u001b[0m 87ms/step\n"
          ]
        },
        {
          "data": {
            "image/png": "[encoded data removed]",
            "text/plain": [
              "<Figure size 600x500 with 2 Axes>"
            ]
          },
          "metadata": {},
          "output_type": "display_data"
        },
        {
          "name": "stdout",
          "output_type": "stream",
          "text": [
            "              precision    recall  f1-score   support\n",
            "\n",
            "      unripe       0.50      0.71      0.59         7\n",
            "        ripe       0.78      0.58      0.67        12\n",
            "\n",
            "    accuracy                           0.63        19\n",
            "   macro avg       0.64      0.65      0.63        19\n",
            "weighted avg       0.68      0.63      0.64        19\n",
            "\n",
            "You must install pydot (`pip install pydot`) for `plot_model` to work.\n"
          ]
        }
      ],
      "source": [
        "plt.figure(figsize=(12,4))\n",
        "\n",
        "# Accuracy\n",
        "plt.subplot(1,2,1)\n",
        "plt.plot(history.history['accuracy'], label='train')\n",
        "plt.plot(history.history['val_accuracy'], label='val')\n",
        "plt.title(\"Accuracy\")\n",
        "plt.xlabel(\"Epoch\")\n",
        "plt.ylabel(\"Accuracy\")\n",
        "plt.legend()\n",
        "\n",
        "# Loss\n",
        "plt.subplot(1,2,2)\n",
        "plt.plot(history.history['loss'], label='train')\n",
        "plt.plot(history.history['val_loss'], label='val')\n",
        "plt.title(\"Loss\")\n",
        "plt.xlabel(\"Epoch\")\n",
        "plt.ylabel(\"Loss\")\n",
        "plt.legend()\n",
        "\n",
        "plt.tight_layout()\n",
        "plt.show()\n",
        "\n",
        "# Confusion matrix\n",
        "y_prob = model.predict(x_test).ravel()\n",
        "y_pred = (y_prob >= 0.5).astype(int)\n",
        "\n",
        "cm = confusion_matrix(y_test, y_pred)\n",
        "labels = ['unripe', 'ripe']\n",
        "\n",
        "plt.figure(figsize=(6,5))\n",
        "sns.heatmap(cm, annot=True, fmt=\"d\", cmap=\"Blues\",\n",
        "            xticklabels=labels, yticklabels=labels)\n",
        "plt.xlabel(\"Prediction\")\n",
        "plt.ylabel(\"Reality\")\n",
        "plt.title(\"Confusion matrix\")\n",
        "plt.show()\n",
        "\n",
        "print(classification_report(y_test, y_pred, target_names=labels))\n",
        "\n",
        "keras.utils.plot_model(model, show_shapes=True)"
      ]
    },
    {
      "cell_type": "markdown",
      "metadata": {
        "id": "ZljhilMu16tc"
      },
      "source": [
        "# **9. Save model**\n",
        "---\n",
        "Finally, we save our trained model for later use, and discuss possible improvements or future work.\n"
      ]
    },
    {
      "cell_type": "code",
      "execution_count": null,
      "metadata": {},
      "outputs": [],
      "source": [
        "# only execute the first time \n",
        "model_version_index = 1"
      ]
    },
    {
      "cell_type": "code",
      "execution_count": null,
      "metadata": {
        "id": "jXgl1mLPK_th"
      },
      "outputs": [],
      "source": [
        "model.save(f\"models/model_v{model_version_index}_({loss:.2f}, {acc:.2f})_.keras\")\n",
        "model_version_index+=1"
      ]
    }
  ],
  "metadata": {
    "accelerator": "GPU",
    "colab": {
      "gpuType": "T4",
      "provenance": []
    },
    "kernelspec": {
      "display_name": ".venv",
      "language": "python",
      "name": "python3"
    },
    "language_info": {
      "codemirror_mode": {
        "name": "ipython",
        "version": 3
      },
      "file_extension": ".py",
      "mimetype": "text/x-python",
      "name": "python",
      "nbconvert_exporter": "python",
      "pygments_lexer": "ipython3",
      "version": "3.12.0"
    }
  },
  "nbformat": 4,
  "nbformat_minor": 0
}
